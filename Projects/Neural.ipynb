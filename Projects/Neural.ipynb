{
  "nbformat": 4,
  "nbformat_minor": 0,
  "metadata": {
    "colab": {
      "name": "Neural.ipynb",
      "version": "0.3.2",
      "provenance": [],
      "collapsed_sections": []
    },
    "kernelspec": {
      "name": "python3",
      "display_name": "Python 3"
    }
  },
  "cells": [
    {
      "metadata": {
        "id": "VvV2hVGTSvZp",
        "colab_type": "code",
        "colab": {}
      },
      "cell_type": "code",
      "source": [
        "from google.colab import auth\n",
        "auth.authenticate_user()"
      ],
      "execution_count": 0,
      "outputs": []
    },
    {
      "metadata": {
        "id": "PkkEix5AS7lq",
        "colab_type": "code",
        "colab": {
          "base_uri": "https://localhost:8080/",
          "height": 136
        },
        "outputId": "5097abe2-594c-4ef9-eb0f-bbcb8f32ae87"
      },
      "cell_type": "code",
      "source": [
        "!apt-get install -y -qq software-properties-common python-software-properties module-init-tools\n",
        "!add-apt-repository -y ppa:alessandro-strada/ppa 2>&1 > /dev/null\n",
        "!apt-get update -qq 2>&1 > /dev/null\n",
        "!apt-get -y install -qq google-drive-ocamlfuse fuse\n",
        "from oauth2client.client import GoogleCredentials\n",
        "creds = GoogleCredentials.get_application_default()\n",
        "import getpass\n",
        "!google-drive-ocamlfuse -headless -id={creds.client_id} -secret={creds.client_secret} < /dev/null 2>&1 | grep URL\n",
        "vcode = getpass.getpass()\n",
        "!echo {vcode} | google-drive-ocamlfuse -headless -id={creds.client_id} -secret={creds.client_secret}"
      ],
      "execution_count": 57,
      "outputs": [
        {
          "output_type": "stream",
          "text": [
            "gpg: keybox '/tmp/tmp8_4avjs9/pubring.gpg' created\n",
            "gpg: /tmp/tmp8_4avjs9/trustdb.gpg: trustdb created\n",
            "gpg: key AD5F235DF639B041: public key \"Launchpad PPA for Alessandro Strada\" imported\n",
            "gpg: Total number processed: 1\n",
            "gpg:               imported: 1\n",
            "Warning: apt-key output should not be parsed (stdout is not a terminal)\n",
            "··········\n"
          ],
          "name": "stdout"
        }
      ]
    },
    {
      "metadata": {
        "id": "6xUrdZKJS_QA",
        "colab_type": "code",
        "colab": {
          "base_uri": "https://localhost:8080/",
          "height": 51
        },
        "outputId": "4ba047f7-1923-4c82-df7a-7c449bee2890"
      },
      "cell_type": "code",
      "source": [
        "!mkdir -p my_drive\n",
        "!google-drive-ocamlfuse my_drive"
      ],
      "execution_count": 58,
      "outputs": [
        {
          "output_type": "stream",
          "text": [
            "fuse: mountpoint is not empty\r\n",
            "fuse: if you are sure this is safe, use the 'nonempty' mount option\r\n"
          ],
          "name": "stdout"
        }
      ]
    },
    {
      "metadata": {
        "id": "1_uxK4JgTI4w",
        "colab_type": "code",
        "colab": {}
      },
      "cell_type": "code",
      "source": [
        "import numpy\n",
        "import os\n",
        "import pandas\n",
        "import keras.optimizers\n",
        "from keras.models import Sequential\n",
        "from keras.layers import Dense, Dropout, BatchNormalization\n",
        "from keras.wrappers.scikit_learn import KerasRegressor\n",
        "from sklearn.model_selection import cross_val_score, KFold, GridSearchCV\n",
        "from sklearn.preprocessing import StandardScaler, RobustScaler, MinMaxScaler\n",
        "from sklearn.preprocessing.data import QuantileTransformer\n",
        "from sklearn.pipeline import Pipeline\n",
        "from scipy import stats"
      ],
      "execution_count": 0,
      "outputs": []
    },
    {
      "metadata": {
        "id": "qMxtzl5KTZ8U",
        "colab_type": "code",
        "colab": {}
      },
      "cell_type": "code",
      "source": [
        "# fix random seed for reproducibility\n",
        "seed = 7\n",
        "numpy.random.seed(seed)"
      ],
      "execution_count": 0,
      "outputs": []
    },
    {
      "metadata": {
        "id": "NT85eXc_TexB",
        "colab_type": "code",
        "colab": {}
      },
      "cell_type": "code",
      "source": [
        "base = 'my_drive'+os.sep+'ML_Project'+os.sep"
      ],
      "execution_count": 0,
      "outputs": []
    },
    {
      "metadata": {
        "id": "oSp_SnlLTLiT",
        "colab_type": "code",
        "colab": {}
      },
      "cell_type": "code",
      "source": [
        "X = pandas.read_csv(base+\"X_train.txt\", delim_whitespace=True, header=None)\n",
        "Y = pandas.read_csv(base+\"Y_train.txt\", delim_whitespace=True, header=None)"
      ],
      "execution_count": 0,
      "outputs": []
    },
    {
      "metadata": {
        "id": "gJEVFh3QTmYx",
        "colab_type": "code",
        "colab": {}
      },
      "cell_type": "code",
      "source": [
        "X_main = X.values\n",
        "Y_main = Y.values\n",
        "X = X.sample(n=10000,replace=\"False\")\n",
        "Y = Y.sample(n=10000,replace=\"False\")"
      ],
      "execution_count": 0,
      "outputs": []
    },
    {
      "metadata": {
        "id": "o1tpqMMuTPDJ",
        "colab_type": "code",
        "colab": {}
      },
      "cell_type": "code",
      "source": [
        "X = X.values\n",
        "Y = Y.values"
      ],
      "execution_count": 0,
      "outputs": []
    },
    {
      "metadata": {
        "id": "C47OpsxXTWuJ",
        "colab_type": "code",
        "colab": {}
      },
      "cell_type": "code",
      "source": [
        "sgd = keras.optimizers.SGD(lr=0.01, momentum=0.0, decay=0.0, nesterov=False)\n",
        "rmsprop = keras.optimizers.RMSprop(lr=0.001, rho=0.9, epsilon=None, decay=0.0)\n",
        "adagrad = keras.optimizers.Adagrad(lr=0.01, epsilon=None, decay=0.0)\n",
        "adadelta = keras.optimizers.Adadelta(lr=1.0, rho=0.95, epsilon=None, decay=0.0)\n",
        "adam = keras.optimizers.Adam(lr=0.001, beta_1=0.9, beta_2=0.999, epsilon=None, decay=0.0, amsgrad=False)\n",
        "adamax = keras.optimizers.Adamax(lr=0.002, beta_1=0.9, beta_2=0.999, epsilon=None, decay=0.0)\n",
        "nadam = keras.optimizers.Nadam(lr=0.002, beta_1=0.9, beta_2=0.999, epsilon=None, schedule_decay=0.004)\n",
        "sgd.__name__ = 'sgd'\n",
        "rmsprop.__name__ = 'rmsprop'\n",
        "adagrad.__name__ = 'adagrad'\n",
        "adadelta.__name__ = 'adadelta'\n",
        "adam.__name__ = 'adam'\n",
        "adamax.__name__ = 'adamax'\n",
        "nadam.__name__ = 'nadam'"
      ],
      "execution_count": 0,
      "outputs": []
    },
    {
      "metadata": {
        "id": "pZBSM4ZfB0bE",
        "colab_type": "code",
        "colab": {}
      },
      "cell_type": "code",
      "source": [
        "standard_scaler = StandardScaler()\n",
        "robust_scaler = RobustScaler(quantile_range=(25, 75))\n",
        "quantile_uniform = QuantileTransformer(output_distribution='uniform')\n",
        "quantile_gaussian = QuantileTransformer(output_distribution='normal')\n",
        "min_max = MinMaxScaler(copy=True, feature_range=(0, 1))\n",
        "standard_scaler.__name__ = 'standard_scaler'\n",
        "robust_scaler.__name__ = 'robust_scaler'\n",
        "quantile_uniform.__name__ = 'quantile_uniform'\n",
        "quantile_gaussian.__name__ = 'quantile_gaussian'\n",
        "min_max.__name__ = 'min_max'"
      ],
      "execution_count": 0,
      "outputs": []
    },
    {
      "metadata": {
        "id": "6sD46i_mTv0E",
        "colab_type": "code",
        "colab": {}
      },
      "cell_type": "code",
      "source": [
        "standardizers = [standard_scaler,robust_scaler,quantile_uniform,quantile_gaussian]\n",
        "#standardizers_1 = [standard_scaler,robust_scaler]\n",
        "#standardizers = list(set(standardizers)-set(standardizers_1))\n",
        "standardizers = [standard_scaler]\n",
        "batch_size_list = [50,100]\n",
        "batch_size_list = [50]\n",
        "epoch_list = [i//10 for i in batch_size_list]\n",
        "epoch_list = [10]\n",
        "activators = ['softmax','softplus','softsign','linear','tanh','sigmoid','hard_sigmoid','elu','selu','relu']\n",
        "#activators_1 = ['softmax','sigmoid','relu']\n",
        "#activators = list(set(activators)-set(activators_1))\n",
        "activators = ['sigmoid']\n",
        "optimizers = [sgd,rmsprop,adagrad,adadelta,adam,adamax,nadam]\n",
        "#optimizers_1 = [sgd,rmsprop,adam]\n",
        "#optimizers = list(set(optimizers)-set(optimizers_1)) \n",
        "optimizers = [rmsprop]\n",
        "estimators = dict()\n",
        "kfold = KFold(n_splits=5, random_state=seed)\n",
        "c = 0\n",
        "for batch in batch_size_list:\n",
        "  for epoch in epoch_list:\n",
        "    for standard in standardizers:\n",
        "      for opti in optimizers:\n",
        "        for activator in activators:\n",
        "          key = (batch,epoch,standard.__name__,opti.__name__,activator)\n",
        "          c += 1\n",
        "          if c%100==0:print(c, end=' ')\n",
        "          def final_model():\n",
        "            model = Sequential()\n",
        "            model.add(Dense(30, input_dim=14, kernel_initializer='normal', activation=activator))\n",
        "            model.add(Dense(5, kernel_initializer='normal', activation=activator))\n",
        "#            model.add(Dense(20, input_dim=14, kernel_initializer='normal', activation=activator))\n",
        "#            model.add(Dense(6, kernel_initializer='normal', activation=activator))\n",
        "            model.add(Dense(1, kernel_initializer='normal'))\n",
        "            model.compile(loss='mean_squared_error', optimizer=opti)\n",
        "            return model\n",
        "          estimator = []\n",
        "          estimator.append(('standardize', standard))\n",
        "          regressor = KerasRegressor(build_fn=final_model, epochs=epoch, batch_size=batch, verbose=0)\n",
        "          estimator.append(('mlp', regressor))\n",
        "          estimators[key]=estimator"
      ],
      "execution_count": 0,
      "outputs": []
    },
    {
      "metadata": {
        "id": "O-CHn0a4lB7e",
        "colab_type": "code",
        "colab": {
          "base_uri": "https://localhost:8080/",
          "height": 34
        },
        "outputId": "4b2a714c-8c9f-4ff4-d208-cd3f8a3c9ac8"
      },
      "cell_type": "code",
      "source": [
        "len(estimators)"
      ],
      "execution_count": 64,
      "outputs": [
        {
          "output_type": "execute_result",
          "data": {
            "text/plain": [
              "1"
            ]
          },
          "metadata": {
            "tags": []
          },
          "execution_count": 64
        }
      ]
    },
    {
      "metadata": {
        "id": "uoFGv6hRbFlr",
        "colab_type": "code",
        "colab": {}
      },
      "cell_type": "code",
      "source": [
        "grid_search_results = dict()\n",
        "grid_search_failure = dict()\n",
        "alloc_failure = dict()"
      ],
      "execution_count": 0,
      "outputs": []
    },
    {
      "metadata": {
        "id": "Qs814eoYs5by",
        "colab_type": "code",
        "colab": {}
      },
      "cell_type": "code",
      "source": [
        "kfold = KFold(n_splits=3, random_state=seed)"
      ],
      "execution_count": 0,
      "outputs": []
    },
    {
      "metadata": {
        "id": "EqbrM7EkUtcj",
        "colab_type": "code",
        "colab": {
          "base_uri": "https://localhost:8080/",
          "height": 255
        },
        "outputId": "1d075aa5-62b3-4c3c-846f-7f720a1e8ecf"
      },
      "cell_type": "code",
      "source": [
        "for key in estimators:\n",
        "  pipeline = Pipeline(estimators[key])\n",
        "  print(key,end='\\t')\n",
        "  try:\n",
        "    results = cross_val_score(pipeline, X, Y, cv=kfold)\n",
        "    try:\n",
        "#      grid_search_results[key] = (results, pipeline.fit(X_main,Y_main))\n",
        "      grid_search_results[key] = (results, 'j')\n",
        "      print(results.mean(),results.std())\n",
        "    except Exception as a:\n",
        "      print('Error X : ', a)\n",
        "      alloc_failure[key] = a\n",
        "  except Exception as a:\n",
        "    print('Error Y : ', a, pipeline)\n",
        "    grid_search_failure[key] = a\n",
        "  print('*'*80)"
      ],
      "execution_count": 60,
      "outputs": [
        {
          "output_type": "stream",
          "text": [
            "(50, 10, 'standard_scaler', 'rmsprop', 'softsign')\t-3.532128057878056 0.1543854508441383\n",
            "********************************************************************************\n",
            "(50, 10, 'standard_scaler', 'rmsprop', 'tanh')\t-3.5346862249554647 0.1561008989323906\n",
            "********************************************************************************\n",
            "(50, 10, 'standard_scaler', 'rmsprop', 'elu')\t-3.53451703183195 0.1589440737216339\n",
            "********************************************************************************\n",
            "(50, 10, 'standard_scaler', 'rmsprop', 'linear')\t-3.529105872528365 0.15328707760861585\n",
            "********************************************************************************\n",
            "(50, 10, 'standard_scaler', 'rmsprop', 'selu')\t-3.5294833740933718 0.15223803142651915\n",
            "********************************************************************************\n",
            "(50, 10, 'standard_scaler', 'rmsprop', 'softplus')\t-3.537334238226162 0.15713728139211872\n",
            "********************************************************************************\n",
            "(50, 10, 'standard_scaler', 'rmsprop', 'hard_sigmoid')\t-3.53652557836152 0.15311945126600152\n",
            "********************************************************************************\n"
          ],
          "name": "stdout"
        }
      ]
    },
    {
      "metadata": {
        "id": "FeOOmftu9iSf",
        "colab_type": "code",
        "colab": {}
      },
      "cell_type": "code",
      "source": [
        "import pickle"
      ],
      "execution_count": 0,
      "outputs": []
    },
    {
      "metadata": {
        "id": "8z3RJcGg-DHv",
        "colab_type": "code",
        "colab": {}
      },
      "cell_type": "code",
      "source": [
        "grid_search_output = []\n",
        "for key in grid_search_results:\n",
        "  vals = [i for i in key]\n",
        "  res = grid_search_results[key][0]\n",
        "#  vals.append(res)\n",
        "  vals.append(res.mean())\n",
        "  vals.append(res.std())\n",
        "  vals.append(-1*res.mean()-res.std())\n",
        "  vals.append(-1*res.mean()+res.std())\n",
        "  grid_search_output.append(vals)"
      ],
      "execution_count": 0,
      "outputs": []
    },
    {
      "metadata": {
        "id": "y0solz_K-wy4",
        "colab_type": "code",
        "colab": {
          "base_uri": "https://localhost:8080/",
          "height": 136
        },
        "outputId": "d5cb54ee-4c76-4990-efc1-0fffd90cfdfa"
      },
      "cell_type": "code",
      "source": [
        "for i in grid_search_output: print(i)"
      ],
      "execution_count": 62,
      "outputs": [
        {
          "output_type": "stream",
          "text": [
            "[50, 10, 'standard_scaler', 'rmsprop', 'softsign', -3.532128057878056, 0.1543854508441383, 3.3777426070339174, 3.6865135087221943]\n",
            "[50, 10, 'standard_scaler', 'rmsprop', 'tanh', -3.5346862249554647, 0.1561008989323906, 3.378585326023074, 3.6907871238878553]\n",
            "[50, 10, 'standard_scaler', 'rmsprop', 'elu', -3.53451703183195, 0.1589440737216339, 3.375572958110316, 3.693461105553584]\n",
            "[50, 10, 'standard_scaler', 'rmsprop', 'linear', -3.529105872528365, 0.15328707760861585, 3.3758187949197493, 3.6823929501369808]\n",
            "[50, 10, 'standard_scaler', 'rmsprop', 'selu', -3.5294833740933718, 0.15223803142651915, 3.3772453426668525, 3.681721405519891]\n",
            "[50, 10, 'standard_scaler', 'rmsprop', 'softplus', -3.537334238226162, 0.15713728139211872, 3.3801969568340433, 3.6944715196182805]\n",
            "[50, 10, 'standard_scaler', 'rmsprop', 'hard_sigmoid', -3.53652557836152, 0.15311945126600152, 3.3834061270955185, 3.689645029627522]\n"
          ],
          "name": "stdout"
        }
      ]
    },
    {
      "metadata": {
        "id": "TwWRcCm3-u13",
        "colab_type": "code",
        "colab": {}
      },
      "cell_type": "code",
      "source": [
        "with open(base+'nn_1.pkl', 'wb') as output:\n",
        "    pickle.dump(grid_search_output, output, pickle.HIGHEST_PROTOCOL)"
      ],
      "execution_count": 0,
      "outputs": []
    },
    {
      "metadata": {
        "id": "ZpJCr7ULs3Q8",
        "colab_type": "code",
        "colab": {}
      },
      "cell_type": "code",
      "source": [
        "kfold = KFold(n_splits=5, random_state=seed)"
      ],
      "execution_count": 0,
      "outputs": []
    },
    {
      "metadata": {
        "id": "V2wltDFVs9-r",
        "colab_type": "code",
        "colab": {
          "base_uri": "https://localhost:8080/",
          "height": 34
        },
        "outputId": "3cd09ab7-0210-41b0-8163-0b0e2d3673f3"
      },
      "cell_type": "code",
      "source": [
        "pipeline = estimators[(50,10,standard_scaler.__name__,rmsprop.__name__,'sigmoid')]\n",
        "pipeline = Pipeline(pipeline)\n",
        "result = cross_val_score(pipeline, X, Y, cv=kfold)\n",
        "pipeline.fit(X_main,Y_main)\n",
        "print(result.mean(),result.std())"
      ],
      "execution_count": 79,
      "outputs": [
        {
          "output_type": "stream",
          "text": [
            "-3.50891986650601 0.28643941866367034\n"
          ],
          "name": "stdout"
        }
      ]
    },
    {
      "metadata": {
        "id": "bz9b6JlFujRT",
        "colab_type": "code",
        "colab": {
          "base_uri": "https://localhost:8080/",
          "height": 34
        },
        "outputId": "a7a3c765-8bef-4186-8e79-5cd60f72d685"
      },
      "cell_type": "code",
      "source": [
        "pipeline = estimators[(50,10,standard_scaler.__name__,rmsprop.__name__,'sigmoid')]\n",
        "pipeline = Pipeline(pipeline)\n",
        "result = cross_val_score(pipeline, X, Y, cv=kfold)\n",
        "pipeline.fit(X_main,Y_main)\n",
        "print(result.mean(),result.std())"
      ],
      "execution_count": 85,
      "outputs": [
        {
          "output_type": "stream",
          "text": [
            "-3.508146385975182 0.28859346561558546\n"
          ],
          "name": "stdout"
        }
      ]
    },
    {
      "metadata": {
        "id": "wFHs9TRtQbDj",
        "colab_type": "code",
        "colab": {}
      },
      "cell_type": "code",
      "source": [
        "adam = keras.optimizers.Adam(lr=0.02, beta_1=0.8, beta_2=0.699, epsilon=None, decay=0.0, amsgrad=False)\n",
        "rmsprop = keras.optimizers.RMSprop(lr=0.0001, rho=0.9, epsilon=None, decay=0.0)\n",
        "sgd = keras.optimizers.SGD(lr=0.01, momentum=0.0, decay=0.0, nesterov=False)\n",
        "def final_model():\n",
        "  model = Sequential()\n",
        "  model.add(Dense(20, input_dim=14, kernel_initializer='normal', activation='relu'))\n",
        "  model.add(Dense(6, kernel_initializer='normal', activation='relu'))\n",
        "  model.add(Dense(1, kernel_initializer='normal'))\n",
        "  model.compile(loss='mean_squared_error', optimizer=sgd)\n",
        "  return model\n",
        "estimator = []\n",
        "estimator.append(('standardize', min_max))\n",
        "regressor = KerasRegressor(build_fn=final_model, epochs=20, batch_size=50, verbose=0)\n",
        "estimator.append(('mlp', regressor))\n",
        "pip = Pipeline(estimator)"
      ],
      "execution_count": 0,
      "outputs": []
    },
    {
      "metadata": {
        "id": "Akzw0dWpTOal",
        "colab_type": "code",
        "colab": {
          "base_uri": "https://localhost:8080/",
          "height": 187
        },
        "outputId": "13b5dd4e-970e-4aaf-9615-235908755580"
      },
      "cell_type": "code",
      "source": [
        "kfold = KFold(n_splits=10, random_state=seed)\n",
        "results = cross_val_score(pip, X, Y, cv=kfold, verbose=2)\n",
        "print(\"Standardized: %.2f (%.2f) MSE\" % (results.mean(), results.std()))"
      ],
      "execution_count": 0,
      "outputs": [
        {
          "output_type": "stream",
          "text": [
            "[CV]  ................................................................\n",
            "[CV] ................................................. , total= 4.4min\n",
            "[CV]  ................................................................\n"
          ],
          "name": "stdout"
        },
        {
          "output_type": "stream",
          "text": [
            "[Parallel(n_jobs=1)]: Done   1 out of   1 | elapsed:  4.4min remaining:    0.0s\n"
          ],
          "name": "stderr"
        },
        {
          "output_type": "stream",
          "text": [
            "[CV] ................................................. , total= 6.4min\n",
            "[CV]  ................................................................\n",
            "[CV] ................................................. , total= 7.8min\n",
            "[CV]  ................................................................\n",
            "[CV] ................................................. , total= 8.1min\n",
            "[CV]  ................................................................\n"
          ],
          "name": "stdout"
        }
      ]
    },
    {
      "metadata": {
        "id": "dnxNbSAtsUSV",
        "colab_type": "code",
        "colab": {}
      },
      "cell_type": "code",
      "source": [
        "# evaluate model with standardized dataset\n",
        "X_test = pandas.read_csv(base+\"X_test.txt\", delim_whitespace=True, header=None)\n",
        "X_test = X_test.values\n",
        "prediction = pipeline.predict(X_test)"
      ],
      "execution_count": 0,
      "outputs": []
    },
    {
      "metadata": {
        "id": "78TNiPL1sMP4",
        "colab_type": "code",
        "colab": {}
      },
      "cell_type": "code",
      "source": [
        "fh = open(base+'predictions_nn.csv','w')\n",
        "fh.write('ID,Prediction\\n')\n",
        "for i,yi in enumerate(prediction):\n",
        "    fh.write('{},{}\\n'.format(i,yi))\n",
        "fh.close()"
      ],
      "execution_count": 0,
      "outputs": []
    },
    {
      "metadata": {
        "id": "Jnj_sjkxsJhG",
        "colab_type": "code",
        "colab": {
          "base_uri": "https://localhost:8080/",
          "height": 136
        },
        "outputId": "dbd329c8-e8ce-40f7-f9b9-d2016dd167de"
      },
      "cell_type": "code",
      "source": [
        "unique, counts = numpy.unique(prediction, return_counts=True)\n",
        "print (numpy.asarray((unique, counts)).T)"
      ],
      "execution_count": 88,
      "outputs": [
        {
          "output_type": "stream",
          "text": [
            "[[0.08126303 1.        ]\n",
            " [0.08647559 1.        ]\n",
            " [0.08683569 1.        ]\n",
            " ...\n",
            " [3.07366085 1.        ]\n",
            " [3.09059834 1.        ]\n",
            " [3.10574508 1.        ]]\n"
          ],
          "name": "stdout"
        }
      ]
    }
  ]
}