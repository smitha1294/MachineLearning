{
  "nbformat": 4,
  "nbformat_minor": 0,
  "metadata": {
    "colab": {
      "name": "RF_GB.ipynb",
      "version": "0.3.2",
      "provenance": [],
      "collapsed_sections": []
    }
  },
  "cells": [
    {
      "metadata": {
        "id": "h44EsN8rqtXG",
        "colab_type": "code",
        "colab": {}
      },
      "cell_type": "code",
      "source": [
        "from google.colab import auth\n",
        "auth.authenticate_user()"
      ],
      "execution_count": 0,
      "outputs": []
    },
    {
      "metadata": {
        "id": "VdpsDRRWq8gZ",
        "colab_type": "code",
        "colab": {
          "base_uri": "https://localhost:8080/",
          "height": 445
        },
        "outputId": "8141c7f3-7e6b-4f3d-9d81-1166607d4c4e"
      },
      "cell_type": "code",
      "source": [
        "!apt-get install -y -qq software-properties-common python-software-properties module-init-tools\n",
        "!add-apt-repository -y ppa:alessandro-strada/ppa 2>&1 > /dev/null\n",
        "!apt-get update -qq 2>&1 > /dev/null\n",
        "!apt-get -y install -qq google-drive-ocamlfuse fuse\n",
        "from oauth2client.client import GoogleCredentials\n",
        "creds = GoogleCredentials.get_application_default()\n",
        "import getpass\n",
        "!google-drive-ocamlfuse -headless -id={creds.client_id} -secret={creds.client_secret} < /dev/null 2>&1 | grep URL\n",
        "vcode = getpass.getpass()\n",
        "!echo {vcode} | google-drive-ocamlfuse -headless -id={creds.client_id} -secret={creds.client_secret}"
      ],
      "execution_count": 2,
      "outputs": [
        {
          "output_type": "stream",
          "text": [
            "gpg: keybox '/tmp/tmpej0p7n3h/pubring.gpg' created\n",
            "gpg: /tmp/tmpej0p7n3h/trustdb.gpg: trustdb created\n",
            "gpg: key AD5F235DF639B041: public key \"Launchpad PPA for Alessandro Strada\" imported\n",
            "gpg: Total number processed: 1\n",
            "gpg:               imported: 1\n",
            "Warning: apt-key output should not be parsed (stdout is not a terminal)\n",
            "Selecting previously unselected package libfuse2:amd64.\n",
            "(Reading database ... 19706 files and directories currently installed.)\n",
            "Preparing to unpack .../libfuse2_2.9.7-1ubuntu1_amd64.deb ...\n",
            "Unpacking libfuse2:amd64 (2.9.7-1ubuntu1) ...\n",
            "Selecting previously unselected package fuse.\n",
            "Preparing to unpack .../fuse_2.9.7-1ubuntu1_amd64.deb ...\n",
            "Unpacking fuse (2.9.7-1ubuntu1) ...\n",
            "Selecting previously unselected package google-drive-ocamlfuse.\n",
            "Preparing to unpack .../google-drive-ocamlfuse_0.6.21-0ubuntu2_amd64.deb ...\n",
            "Unpacking google-drive-ocamlfuse (0.6.21-0ubuntu2) ...\n",
            "Setting up libfuse2:amd64 (2.9.7-1ubuntu1) ...\n",
            "Processing triggers for libc-bin (2.26-0ubuntu2.1) ...\n",
            "Setting up fuse (2.9.7-1ubuntu1) ...\n",
            "Setting up google-drive-ocamlfuse (0.6.21-0ubuntu2) ...\n",
            "Please, open the following URL in a web browser: https://accounts.google.com/o/oauth2/auth?client_id=32555940559.apps.googleusercontent.com&redirect_uri=urn%3Aietf%3Awg%3Aoauth%3A2.0%3Aoob&scope=https%3A%2F%2Fwww.googleapis.com%2Fauth%2Fdrive&response_type=code&access_type=offline&approval_prompt=force\n",
            "··········\n",
            "Please, open the following URL in a web browser: https://accounts.google.com/o/oauth2/auth?client_id=32555940559.apps.googleusercontent.com&redirect_uri=urn%3Aietf%3Awg%3Aoauth%3A2.0%3Aoob&scope=https%3A%2F%2Fwww.googleapis.com%2Fauth%2Fdrive&response_type=code&access_type=offline&approval_prompt=force\n",
            "Please enter the verification code: Access token retrieved correctly.\n"
          ],
          "name": "stdout"
        }
      ]
    },
    {
      "metadata": {
        "id": "smfrJGheq_VO",
        "colab_type": "code",
        "colab": {}
      },
      "cell_type": "code",
      "source": [
        "!mkdir -p my_drive\n",
        "!google-drive-ocamlfuse my_drive"
      ],
      "execution_count": 0,
      "outputs": []
    },
    {
      "metadata": {
        "id": "4es9lTSdrCR0",
        "colab_type": "code",
        "colab": {}
      },
      "cell_type": "code",
      "source": [
        "#!mkdir -p my_drive/ML_Project\n",
        "#!ls -p my_drive/ML_Project"
      ],
      "execution_count": 0,
      "outputs": []
    },
    {
      "metadata": {
        "id": "xASfJiPfrVqC",
        "colab_type": "code",
        "colab": {}
      },
      "cell_type": "code",
      "source": [
        "import numpy\n",
        "import pandas\n",
        "import os\n",
        "from sklearn.model_selection import cross_val_score, KFold, GridSearchCV\n",
        "from sklearn.preprocessing import StandardScaler, RobustScaler, MinMaxScaler\n",
        "from sklearn.preprocessing.data import QuantileTransformer\n",
        "from sklearn.pipeline import Pipeline\n",
        "from scipy import stats\n",
        "from sklearn.ensemble import RandomForestRegressor, GradientBoostingRegressor\n",
        "from sklearn.grid_search import GridSearchCV "
      ],
      "execution_count": 0,
      "outputs": []
    },
    {
      "metadata": {
        "id": "bcYtGa0NrX0s",
        "colab_type": "code",
        "colab": {
          "base_uri": "https://localhost:8080/",
          "height": 34
        },
        "outputId": "6544786e-5257-4ecf-d6c6-5091bb6334b7"
      },
      "cell_type": "code",
      "source": [
        "!ls -p my_drive/ML_Project/X_train.txt"
      ],
      "execution_count": 4,
      "outputs": [
        {
          "output_type": "stream",
          "text": [
            "my_drive/ML_Project/X_train.txt\r\n"
          ],
          "name": "stdout"
        }
      ]
    },
    {
      "metadata": {
        "id": "61vAkms2Dzok",
        "colab_type": "code",
        "colab": {}
      },
      "cell_type": "code",
      "source": [
        "base = 'my_drive'+os.sep+'ML_Project'+os.sep"
      ],
      "execution_count": 0,
      "outputs": []
    },
    {
      "metadata": {
        "id": "VGRNMRoMDyBq",
        "colab_type": "code",
        "colab": {}
      },
      "cell_type": "code",
      "source": [
        "# fix random seed for reproducibility\n",
        "seed = 7\n",
        "numpy.random.seed(seed)"
      ],
      "execution_count": 0,
      "outputs": []
    },
    {
      "metadata": {
        "id": "3l-5wz_erZ1c",
        "colab_type": "code",
        "colab": {}
      },
      "cell_type": "code",
      "source": [
        "X = pandas.read_csv(base+\"X_train.txt\", delim_whitespace=True, header=None)\n",
        "Y = pandas.read_csv(base+\"Y_train.txt\", delim_whitespace=True, header=None)"
      ],
      "execution_count": 0,
      "outputs": []
    },
    {
      "metadata": {
        "id": "1KhWT1dLEIIb",
        "colab_type": "code",
        "colab": {}
      },
      "cell_type": "code",
      "source": [
        "X = X.sample(n=10000,replace=\"False\")\n",
        "Y = Y.sample(n=10000,replace=\"False\")"
      ],
      "execution_count": 0,
      "outputs": []
    },
    {
      "metadata": {
        "id": "RSeW-a2gENTI",
        "colab_type": "code",
        "colab": {}
      },
      "cell_type": "code",
      "source": [
        "X = X.values\n",
        "Y = Y.values"
      ],
      "execution_count": 0,
      "outputs": []
    },
    {
      "metadata": {
        "id": "h6g9uca16YLe",
        "colab_type": "code",
        "colab": {}
      },
      "cell_type": "code",
      "source": [
        "lbl = MinMaxScaler(copy=True, feature_range=(0, 1))\n",
        "Y = lbl.fit_transform(Y)"
      ],
      "execution_count": 0,
      "outputs": []
    },
    {
      "metadata": {
        "id": "8Bd8c6TerGLE",
        "colab_type": "code",
        "colab": {}
      },
      "cell_type": "code",
      "source": [
        "#Y.columns.values[0] = '14'\n",
        "#df_new = pandas.concat([X, Y],axis=1)\n",
        "#df_new.drop_duplicates(inplace=True)\n",
        "#df_new = df_new[(numpy.abs(stats.zscore(df_new)) < 3).all(axis=1)]\n",
        "\n",
        "#X = df_new[list(df_new.columns[0:14])]\n",
        "#Y = df_new.iloc[:,-1]"
      ],
      "execution_count": 0,
      "outputs": []
    },
    {
      "metadata": {
        "id": "0zjdA227rdOj",
        "colab_type": "code",
        "colab": {}
      },
      "cell_type": "code",
      "source": [
        "#X.drop(X.columns[[5, 6, 12]], axis=1, inplace=True)"
      ],
      "execution_count": 0,
      "outputs": []
    },
    {
      "metadata": {
        "id": "E4MLngTzrg2A",
        "colab_type": "code",
        "colab": {
          "base_uri": "https://localhost:8080/",
          "height": 34
        },
        "outputId": "3d4ffc95-5f1e-43b7-f674-5e98fa0f33c3"
      },
      "cell_type": "code",
      "source": [
        "X.shape"
      ],
      "execution_count": 14,
      "outputs": [
        {
          "output_type": "execute_result",
          "data": {
            "text/plain": [
              "(100000, 14)"
            ]
          },
          "metadata": {
            "tags": []
          },
          "execution_count": 14
        }
      ]
    },
    {
      "metadata": {
        "id": "SDJqrTdernBn",
        "colab_type": "code",
        "colab": {}
      },
      "cell_type": "code",
      "source": [
        "# evaluate model with standardized dataset\n",
        "rf_estimators = []\n",
        "rf_estimators.append(('standardize', MinMaxScaler(copy=True, feature_range=(0, 1))))\n",
        "rf_estimator = RandomForestRegressor()\n",
        "rf_estimators.append(('rf', RandomForestRegressor(random_state=seed)))\n",
        "rf_pipeline = Pipeline(rf_estimators)"
      ],
      "execution_count": 0,
      "outputs": []
    },
    {
      "metadata": {
        "id": "OFhfcGItNTZB",
        "colab_type": "code",
        "colab": {}
      },
      "cell_type": "code",
      "source": [
        "gb_estimators = []\n",
        "gb_estimators.append(('standardize', MinMaxScaler(copy=True, feature_range=(0, 1))))\n",
        "gb_estimator = GradientBoostingRegressor(random_state=seed)\n",
        "gb_estimators.append(('gb', gb_estimator))\n",
        "gb_pipeline = Pipeline(gb_estimators)"
      ],
      "execution_count": 0,
      "outputs": []
    },
    {
      "metadata": {
        "id": "v93sXEUiec20",
        "colab_type": "code",
        "colab": {
          "base_uri": "https://localhost:8080/",
          "height": 459
        },
        "outputId": "94ae4823-6958-4781-94f2-e1e09f4de05b"
      },
      "cell_type": "code",
      "source": [
        "gb_pipeline.get_params().keys()"
      ],
      "execution_count": 31,
      "outputs": [
        {
          "output_type": "execute_result",
          "data": {
            "text/plain": [
              "['standardize__copy',\n",
              " 'gb__min_impurity_split',\n",
              " 'gb__max_features',\n",
              " 'gb__warm_start',\n",
              " 'gb__min_samples_split',\n",
              " 'gb__loss',\n",
              " 'gb',\n",
              " 'gb__alpha',\n",
              " 'gb__learning_rate',\n",
              " 'gb__verbose',\n",
              " 'gb__presort',\n",
              " 'gb__max_depth',\n",
              " 'standardize__with_mean',\n",
              " 'gb__criterion',\n",
              " 'gb__min_impurity_decrease',\n",
              " 'memory',\n",
              " 'standardize',\n",
              " 'gb__n_estimators',\n",
              " 'gb__min_weight_fraction_leaf',\n",
              " 'gb__random_state',\n",
              " 'gb__max_leaf_nodes',\n",
              " 'standardize__with_std',\n",
              " 'gb__init',\n",
              " 'gb__min_samples_leaf',\n",
              " 'steps',\n",
              " 'gb__subsample']"
            ]
          },
          "metadata": {
            "tags": []
          },
          "execution_count": 31
        }
      ]
    },
    {
      "metadata": {
        "id": "5-XFRh-0rpil",
        "colab_type": "code",
        "colab": {}
      },
      "cell_type": "code",
      "source": [
        "#kfold = KFold(n_splits=10, random_state=seed)\n",
        "#results = cross_val_score(pipeline, X, Y, cv=kfold, verbose=2)\n",
        "#print(\"Standardized: %.2f (%.2f) MSE\" % (results.mean(), results.std()))"
      ],
      "execution_count": 0,
      "outputs": []
    },
    {
      "metadata": {
        "id": "jv52OH_iRyEG",
        "colab_type": "code",
        "colab": {
          "base_uri": "https://localhost:8080/",
          "height": 748
        },
        "outputId": "469b1588-3be7-4955-e224-9418d5b2f422"
      },
      "cell_type": "code",
      "source": [
        "#https://towardsdatascience.com/hyperparameter-tuning-the-random-forest-in-python-using-scikit-learn-28d2aa77dd74\n",
        "param_grid = {\n",
        "    'rf__n_jobs':[8],\n",
        "    'rf__max_depth': [15],\n",
        "    'rf__max_features': [3],\n",
        "    'rf__min_samples_leaf': [3],\n",
        "    'rf__min_samples_split' : [3],\n",
        "    'rf__n_estimators': [30, 100, 500, 1000]\n",
        "}\n",
        "grid_rf = GridSearchCV(estimator=rf_pipeline, cv=5, param_grid=param_grid, verbose=2)\n",
        "grid_result_rf_2 = grid_rf.fit(X, Y)"
      ],
      "execution_count": 0,
      "outputs": [
        {
          "output_type": "stream",
          "text": [
            "Fitting 5 folds for each of 5 candidates, totalling 25 fits\n",
            "[CV] rf__max_depth=15, rf__n_estimators=30, rf__max_features=3, rf__min_samples_split=3, rf__min_samples_leaf=3, rf__n_jobs=8 \n",
            "[CV]  rf__max_depth=15, rf__n_estimators=30, rf__max_features=3, rf__min_samples_split=3, rf__min_samples_leaf=3, rf__n_jobs=8 -  12.7s\n",
            "[CV] rf__max_depth=15, rf__n_estimators=30, rf__max_features=3, rf__min_samples_split=3, rf__min_samples_leaf=3, rf__n_jobs=8 \n"
          ],
          "name": "stdout"
        },
        {
          "output_type": "stream",
          "text": [
            "[Parallel(n_jobs=1)]: Done   1 out of   1 | elapsed:   12.7s remaining:    0.0s\n"
          ],
          "name": "stderr"
        },
        {
          "output_type": "stream",
          "text": [
            "[CV]  rf__max_depth=15, rf__n_estimators=30, rf__max_features=3, rf__min_samples_split=3, rf__min_samples_leaf=3, rf__n_jobs=8 -  12.9s\n",
            "[CV] rf__max_depth=15, rf__n_estimators=30, rf__max_features=3, rf__min_samples_split=3, rf__min_samples_leaf=3, rf__n_jobs=8 \n",
            "[CV]  rf__max_depth=15, rf__n_estimators=30, rf__max_features=3, rf__min_samples_split=3, rf__min_samples_leaf=3, rf__n_jobs=8 -  12.9s\n",
            "[CV] rf__max_depth=15, rf__n_estimators=30, rf__max_features=3, rf__min_samples_split=3, rf__min_samples_leaf=3, rf__n_jobs=8 \n",
            "[CV]  rf__max_depth=15, rf__n_estimators=30, rf__max_features=3, rf__min_samples_split=3, rf__min_samples_leaf=3, rf__n_jobs=8 -  12.5s\n",
            "[CV] rf__max_depth=15, rf__n_estimators=30, rf__max_features=3, rf__min_samples_split=3, rf__min_samples_leaf=3, rf__n_jobs=8 \n",
            "[CV]  rf__max_depth=15, rf__n_estimators=30, rf__max_features=3, rf__min_samples_split=3, rf__min_samples_leaf=3, rf__n_jobs=8 -  13.1s\n",
            "[CV] rf__max_depth=15, rf__n_estimators=100, rf__max_features=3, rf__min_samples_split=3, rf__min_samples_leaf=3, rf__n_jobs=8 \n",
            "[CV]  rf__max_depth=15, rf__n_estimators=100, rf__max_features=3, rf__min_samples_split=3, rf__min_samples_leaf=3, rf__n_jobs=8 -  39.5s\n",
            "[CV] rf__max_depth=15, rf__n_estimators=100, rf__max_features=3, rf__min_samples_split=3, rf__min_samples_leaf=3, rf__n_jobs=8 \n",
            "[CV]  rf__max_depth=15, rf__n_estimators=100, rf__max_features=3, rf__min_samples_split=3, rf__min_samples_leaf=3, rf__n_jobs=8 -  41.3s\n",
            "[CV] rf__max_depth=15, rf__n_estimators=100, rf__max_features=3, rf__min_samples_split=3, rf__min_samples_leaf=3, rf__n_jobs=8 \n",
            "[CV]  rf__max_depth=15, rf__n_estimators=100, rf__max_features=3, rf__min_samples_split=3, rf__min_samples_leaf=3, rf__n_jobs=8 -  36.9s\n",
            "[CV] rf__max_depth=15, rf__n_estimators=100, rf__max_features=3, rf__min_samples_split=3, rf__min_samples_leaf=3, rf__n_jobs=8 \n",
            "[CV]  rf__max_depth=15, rf__n_estimators=100, rf__max_features=3, rf__min_samples_split=3, rf__min_samples_leaf=3, rf__n_jobs=8 -  17.5s\n",
            "[CV] rf__max_depth=15, rf__n_estimators=100, rf__max_features=3, rf__min_samples_split=3, rf__min_samples_leaf=3, rf__n_jobs=8 \n",
            "[CV]  rf__max_depth=15, rf__n_estimators=100, rf__max_features=3, rf__min_samples_split=3, rf__min_samples_leaf=3, rf__n_jobs=8 -  17.7s\n",
            "[CV] rf__max_depth=15, rf__n_estimators=500, rf__max_features=3, rf__min_samples_split=3, rf__min_samples_leaf=3, rf__n_jobs=8 \n",
            "[CV]  rf__max_depth=15, rf__n_estimators=500, rf__max_features=3, rf__min_samples_split=3, rf__min_samples_leaf=3, rf__n_jobs=8 - 1.4min\n",
            "[CV] rf__max_depth=15, rf__n_estimators=500, rf__max_features=3, rf__min_samples_split=3, rf__min_samples_leaf=3, rf__n_jobs=8 \n",
            "[CV]  rf__max_depth=15, rf__n_estimators=500, rf__max_features=3, rf__min_samples_split=3, rf__min_samples_leaf=3, rf__n_jobs=8 - 1.4min\n",
            "[CV] rf__max_depth=15, rf__n_estimators=500, rf__max_features=3, rf__min_samples_split=3, rf__min_samples_leaf=3, rf__n_jobs=8 \n",
            "[CV]  rf__max_depth=15, rf__n_estimators=500, rf__max_features=3, rf__min_samples_split=3, rf__min_samples_leaf=3, rf__n_jobs=8 - 3.2min\n",
            "[CV] rf__max_depth=15, rf__n_estimators=500, rf__max_features=3, rf__min_samples_split=3, rf__min_samples_leaf=3, rf__n_jobs=8 \n",
            "[CV]  rf__max_depth=15, rf__n_estimators=500, rf__max_features=3, rf__min_samples_split=3, rf__min_samples_leaf=3, rf__n_jobs=8 - 3.5min\n",
            "[CV] rf__max_depth=15, rf__n_estimators=500, rf__max_features=3, rf__min_samples_split=3, rf__min_samples_leaf=3, rf__n_jobs=8 \n",
            "[CV]  rf__max_depth=15, rf__n_estimators=500, rf__max_features=3, rf__min_samples_split=3, rf__min_samples_leaf=3, rf__n_jobs=8 - 3.4min\n",
            "[CV] rf__max_depth=15, rf__n_estimators=1000, rf__max_features=3, rf__min_samples_split=3, rf__min_samples_leaf=3, rf__n_jobs=8 \n",
            "[CV]  rf__max_depth=15, rf__n_estimators=1000, rf__max_features=3, rf__min_samples_split=3, rf__min_samples_leaf=3, rf__n_jobs=8 - 3.1min\n",
            "[CV] rf__max_depth=15, rf__n_estimators=1000, rf__max_features=3, rf__min_samples_split=3, rf__min_samples_leaf=3, rf__n_jobs=8 \n",
            "[CV]  rf__max_depth=15, rf__n_estimators=1000, rf__max_features=3, rf__min_samples_split=3, rf__min_samples_leaf=3, rf__n_jobs=8 - 4.4min\n",
            "[CV] rf__max_depth=15, rf__n_estimators=1000, rf__max_features=3, rf__min_samples_split=3, rf__min_samples_leaf=3, rf__n_jobs=8 \n",
            "[CV]  rf__max_depth=15, rf__n_estimators=1000, rf__max_features=3, rf__min_samples_split=3, rf__min_samples_leaf=3, rf__n_jobs=8 - 6.7min\n",
            "[CV] rf__max_depth=15, rf__n_estimators=1000, rf__max_features=3, rf__min_samples_split=3, rf__min_samples_leaf=3, rf__n_jobs=8 \n",
            "[CV]  rf__max_depth=15, rf__n_estimators=1000, rf__max_features=3, rf__min_samples_split=3, rf__min_samples_leaf=3, rf__n_jobs=8 - 3.2min\n",
            "[CV] rf__max_depth=15, rf__n_estimators=1000, rf__max_features=3, rf__min_samples_split=3, rf__min_samples_leaf=3, rf__n_jobs=8 \n",
            "[CV]  rf__max_depth=15, rf__n_estimators=1000, rf__max_features=3, rf__min_samples_split=3, rf__min_samples_leaf=3, rf__n_jobs=8 - 4.8min\n",
            "[CV] rf__max_depth=15, rf__n_estimators=3000, rf__max_features=3, rf__min_samples_split=3, rf__min_samples_leaf=3, rf__n_jobs=8 \n"
          ],
          "name": "stdout"
        }
      ]
    },
    {
      "metadata": {
        "id": "9ChyaoyUN2S3",
        "colab_type": "code",
        "colab": {
          "base_uri": "https://localhost:8080/",
          "height": 2162
        },
        "outputId": "8fe73b72-756e-47e0-a502-8f1174938e43"
      },
      "cell_type": "code",
      "source": [
        "param_grid = {\n",
        "  'gb__max_features': [3],\n",
        "  'gb__min_samples_leaf': [3],\n",
        "  'gb__min_samples_split': [3],\n",
        "  'gb__n_estimators': [500],\n",
        "  'gb__max_depth': [20],\n",
        "\t'gb__learning_rate': [0.05,0.1,0.15,0.2],\n",
        "#\t'gb__max_leaf_nodes': [3, 4, 5],\n",
        "}\n",
        "grid_gb = GridSearchCV(estimator=gb_pipeline, cv=5, param_grid=param_grid, verbose=2)\n",
        "grid_result_gb = grid_gb.fit(X, Y)"
      ],
      "execution_count": 32,
      "outputs": [
        {
          "output_type": "stream",
          "text": [
            "Fitting 5 folds for each of 12 candidates, totalling 60 fits\n",
            "[CV] gb__learning_rate=0.05, gb__n_estimators=500, gb__max_depth=20, gb__max_features=3, gb__min_samples_split=3, gb__min_samples_leaf=3, gb__max_leaf_nodes=3 \n"
          ],
          "name": "stdout"
        },
        {
          "output_type": "stream",
          "text": [
            "/usr/local/lib/python2.7/dist-packages/sklearn/utils/validation.py:578: DataConversionWarning: A column-vector y was passed when a 1d array was expected. Please change the shape of y to (n_samples, ), for example using ravel().\n",
            "  y = column_or_1d(y, warn=True)\n"
          ],
          "name": "stderr"
        },
        {
          "output_type": "stream",
          "text": [
            "[CV]  gb__learning_rate=0.05, gb__n_estimators=500, gb__max_depth=20, gb__max_features=3, gb__min_samples_split=3, gb__min_samples_leaf=3, gb__max_leaf_nodes=3 -   1.6s\n",
            "[CV] gb__learning_rate=0.05, gb__n_estimators=500, gb__max_depth=20, gb__max_features=3, gb__min_samples_split=3, gb__min_samples_leaf=3, gb__max_leaf_nodes=3 \n"
          ],
          "name": "stdout"
        },
        {
          "output_type": "stream",
          "text": [
            "[Parallel(n_jobs=1)]: Done   1 out of   1 | elapsed:    1.6s remaining:    0.0s\n"
          ],
          "name": "stderr"
        },
        {
          "output_type": "stream",
          "text": [
            "[CV]  gb__learning_rate=0.05, gb__n_estimators=500, gb__max_depth=20, gb__max_features=3, gb__min_samples_split=3, gb__min_samples_leaf=3, gb__max_leaf_nodes=3 -   1.6s\n",
            "[CV] gb__learning_rate=0.05, gb__n_estimators=500, gb__max_depth=20, gb__max_features=3, gb__min_samples_split=3, gb__min_samples_leaf=3, gb__max_leaf_nodes=3 \n",
            "[CV]  gb__learning_rate=0.05, gb__n_estimators=500, gb__max_depth=20, gb__max_features=3, gb__min_samples_split=3, gb__min_samples_leaf=3, gb__max_leaf_nodes=3 -   1.6s\n",
            "[CV] gb__learning_rate=0.05, gb__n_estimators=500, gb__max_depth=20, gb__max_features=3, gb__min_samples_split=3, gb__min_samples_leaf=3, gb__max_leaf_nodes=3 \n",
            "[CV]  gb__learning_rate=0.05, gb__n_estimators=500, gb__max_depth=20, gb__max_features=3, gb__min_samples_split=3, gb__min_samples_leaf=3, gb__max_leaf_nodes=3 -   1.6s\n",
            "[CV] gb__learning_rate=0.05, gb__n_estimators=500, gb__max_depth=20, gb__max_features=3, gb__min_samples_split=3, gb__min_samples_leaf=3, gb__max_leaf_nodes=3 \n",
            "[CV]  gb__learning_rate=0.05, gb__n_estimators=500, gb__max_depth=20, gb__max_features=3, gb__min_samples_split=3, gb__min_samples_leaf=3, gb__max_leaf_nodes=3 -   1.6s\n",
            "[CV] gb__learning_rate=0.05, gb__n_estimators=500, gb__max_depth=20, gb__max_features=3, gb__min_samples_split=3, gb__min_samples_leaf=3, gb__max_leaf_nodes=4 \n",
            "[CV]  gb__learning_rate=0.05, gb__n_estimators=500, gb__max_depth=20, gb__max_features=3, gb__min_samples_split=3, gb__min_samples_leaf=3, gb__max_leaf_nodes=4 -   1.7s\n",
            "[CV] gb__learning_rate=0.05, gb__n_estimators=500, gb__max_depth=20, gb__max_features=3, gb__min_samples_split=3, gb__min_samples_leaf=3, gb__max_leaf_nodes=4 \n",
            "[CV]  gb__learning_rate=0.05, gb__n_estimators=500, gb__max_depth=20, gb__max_features=3, gb__min_samples_split=3, gb__min_samples_leaf=3, gb__max_leaf_nodes=4 -   1.8s\n",
            "[CV] gb__learning_rate=0.05, gb__n_estimators=500, gb__max_depth=20, gb__max_features=3, gb__min_samples_split=3, gb__min_samples_leaf=3, gb__max_leaf_nodes=4 \n",
            "[CV]  gb__learning_rate=0.05, gb__n_estimators=500, gb__max_depth=20, gb__max_features=3, gb__min_samples_split=3, gb__min_samples_leaf=3, gb__max_leaf_nodes=4 -   1.7s\n",
            "[CV] gb__learning_rate=0.05, gb__n_estimators=500, gb__max_depth=20, gb__max_features=3, gb__min_samples_split=3, gb__min_samples_leaf=3, gb__max_leaf_nodes=4 \n",
            "[CV]  gb__learning_rate=0.05, gb__n_estimators=500, gb__max_depth=20, gb__max_features=3, gb__min_samples_split=3, gb__min_samples_leaf=3, gb__max_leaf_nodes=4 -   1.8s\n",
            "[CV] gb__learning_rate=0.05, gb__n_estimators=500, gb__max_depth=20, gb__max_features=3, gb__min_samples_split=3, gb__min_samples_leaf=3, gb__max_leaf_nodes=4 \n",
            "[CV]  gb__learning_rate=0.05, gb__n_estimators=500, gb__max_depth=20, gb__max_features=3, gb__min_samples_split=3, gb__min_samples_leaf=3, gb__max_leaf_nodes=4 -   1.7s\n",
            "[CV] gb__learning_rate=0.05, gb__n_estimators=500, gb__max_depth=20, gb__max_features=3, gb__min_samples_split=3, gb__min_samples_leaf=3, gb__max_leaf_nodes=5 \n",
            "[CV]  gb__learning_rate=0.05, gb__n_estimators=500, gb__max_depth=20, gb__max_features=3, gb__min_samples_split=3, gb__min_samples_leaf=3, gb__max_leaf_nodes=5 -   2.0s\n",
            "[CV] gb__learning_rate=0.05, gb__n_estimators=500, gb__max_depth=20, gb__max_features=3, gb__min_samples_split=3, gb__min_samples_leaf=3, gb__max_leaf_nodes=5 \n",
            "[CV]  gb__learning_rate=0.05, gb__n_estimators=500, gb__max_depth=20, gb__max_features=3, gb__min_samples_split=3, gb__min_samples_leaf=3, gb__max_leaf_nodes=5 -   2.0s\n",
            "[CV] gb__learning_rate=0.05, gb__n_estimators=500, gb__max_depth=20, gb__max_features=3, gb__min_samples_split=3, gb__min_samples_leaf=3, gb__max_leaf_nodes=5 \n",
            "[CV]  gb__learning_rate=0.05, gb__n_estimators=500, gb__max_depth=20, gb__max_features=3, gb__min_samples_split=3, gb__min_samples_leaf=3, gb__max_leaf_nodes=5 -   1.9s\n",
            "[CV] gb__learning_rate=0.05, gb__n_estimators=500, gb__max_depth=20, gb__max_features=3, gb__min_samples_split=3, gb__min_samples_leaf=3, gb__max_leaf_nodes=5 \n",
            "[CV]  gb__learning_rate=0.05, gb__n_estimators=500, gb__max_depth=20, gb__max_features=3, gb__min_samples_split=3, gb__min_samples_leaf=3, gb__max_leaf_nodes=5 -   1.9s\n",
            "[CV] gb__learning_rate=0.05, gb__n_estimators=500, gb__max_depth=20, gb__max_features=3, gb__min_samples_split=3, gb__min_samples_leaf=3, gb__max_leaf_nodes=5 \n",
            "[CV]  gb__learning_rate=0.05, gb__n_estimators=500, gb__max_depth=20, gb__max_features=3, gb__min_samples_split=3, gb__min_samples_leaf=3, gb__max_leaf_nodes=5 -   1.9s\n",
            "[CV] gb__learning_rate=0.1, gb__n_estimators=500, gb__max_depth=20, gb__max_features=3, gb__min_samples_split=3, gb__min_samples_leaf=3, gb__max_leaf_nodes=3 \n",
            "[CV]  gb__learning_rate=0.1, gb__n_estimators=500, gb__max_depth=20, gb__max_features=3, gb__min_samples_split=3, gb__min_samples_leaf=3, gb__max_leaf_nodes=3 -   1.6s\n",
            "[CV] gb__learning_rate=0.1, gb__n_estimators=500, gb__max_depth=20, gb__max_features=3, gb__min_samples_split=3, gb__min_samples_leaf=3, gb__max_leaf_nodes=3 \n",
            "[CV]  gb__learning_rate=0.1, gb__n_estimators=500, gb__max_depth=20, gb__max_features=3, gb__min_samples_split=3, gb__min_samples_leaf=3, gb__max_leaf_nodes=3 -   1.6s\n",
            "[CV] gb__learning_rate=0.1, gb__n_estimators=500, gb__max_depth=20, gb__max_features=3, gb__min_samples_split=3, gb__min_samples_leaf=3, gb__max_leaf_nodes=3 \n",
            "[CV]  gb__learning_rate=0.1, gb__n_estimators=500, gb__max_depth=20, gb__max_features=3, gb__min_samples_split=3, gb__min_samples_leaf=3, gb__max_leaf_nodes=3 -   1.6s\n",
            "[CV] gb__learning_rate=0.1, gb__n_estimators=500, gb__max_depth=20, gb__max_features=3, gb__min_samples_split=3, gb__min_samples_leaf=3, gb__max_leaf_nodes=3 \n",
            "[CV]  gb__learning_rate=0.1, gb__n_estimators=500, gb__max_depth=20, gb__max_features=3, gb__min_samples_split=3, gb__min_samples_leaf=3, gb__max_leaf_nodes=3 -   1.6s\n",
            "[CV] gb__learning_rate=0.1, gb__n_estimators=500, gb__max_depth=20, gb__max_features=3, gb__min_samples_split=3, gb__min_samples_leaf=3, gb__max_leaf_nodes=3 \n",
            "[CV]  gb__learning_rate=0.1, gb__n_estimators=500, gb__max_depth=20, gb__max_features=3, gb__min_samples_split=3, gb__min_samples_leaf=3, gb__max_leaf_nodes=3 -   1.5s\n",
            "[CV] gb__learning_rate=0.1, gb__n_estimators=500, gb__max_depth=20, gb__max_features=3, gb__min_samples_split=3, gb__min_samples_leaf=3, gb__max_leaf_nodes=4 \n",
            "[CV]  gb__learning_rate=0.1, gb__n_estimators=500, gb__max_depth=20, gb__max_features=3, gb__min_samples_split=3, gb__min_samples_leaf=3, gb__max_leaf_nodes=4 -   1.7s\n",
            "[CV] gb__learning_rate=0.1, gb__n_estimators=500, gb__max_depth=20, gb__max_features=3, gb__min_samples_split=3, gb__min_samples_leaf=3, gb__max_leaf_nodes=4 \n",
            "[CV]  gb__learning_rate=0.1, gb__n_estimators=500, gb__max_depth=20, gb__max_features=3, gb__min_samples_split=3, gb__min_samples_leaf=3, gb__max_leaf_nodes=4 -   1.8s\n",
            "[CV] gb__learning_rate=0.1, gb__n_estimators=500, gb__max_depth=20, gb__max_features=3, gb__min_samples_split=3, gb__min_samples_leaf=3, gb__max_leaf_nodes=4 \n",
            "[CV]  gb__learning_rate=0.1, gb__n_estimators=500, gb__max_depth=20, gb__max_features=3, gb__min_samples_split=3, gb__min_samples_leaf=3, gb__max_leaf_nodes=4 -   1.7s\n",
            "[CV] gb__learning_rate=0.1, gb__n_estimators=500, gb__max_depth=20, gb__max_features=3, gb__min_samples_split=3, gb__min_samples_leaf=3, gb__max_leaf_nodes=4 \n",
            "[CV]  gb__learning_rate=0.1, gb__n_estimators=500, gb__max_depth=20, gb__max_features=3, gb__min_samples_split=3, gb__min_samples_leaf=3, gb__max_leaf_nodes=4 -   1.7s\n",
            "[CV] gb__learning_rate=0.1, gb__n_estimators=500, gb__max_depth=20, gb__max_features=3, gb__min_samples_split=3, gb__min_samples_leaf=3, gb__max_leaf_nodes=4 \n",
            "[CV]  gb__learning_rate=0.1, gb__n_estimators=500, gb__max_depth=20, gb__max_features=3, gb__min_samples_split=3, gb__min_samples_leaf=3, gb__max_leaf_nodes=4 -   1.7s\n",
            "[CV] gb__learning_rate=0.1, gb__n_estimators=500, gb__max_depth=20, gb__max_features=3, gb__min_samples_split=3, gb__min_samples_leaf=3, gb__max_leaf_nodes=5 \n"
          ],
          "name": "stdout"
        },
        {
          "output_type": "stream",
          "text": [
            "[CV]  gb__learning_rate=0.1, gb__n_estimators=500, gb__max_depth=20, gb__max_features=3, gb__min_samples_split=3, gb__min_samples_leaf=3, gb__max_leaf_nodes=5 -   1.8s\n",
            "[CV] gb__learning_rate=0.1, gb__n_estimators=500, gb__max_depth=20, gb__max_features=3, gb__min_samples_split=3, gb__min_samples_leaf=3, gb__max_leaf_nodes=5 \n",
            "[CV]  gb__learning_rate=0.1, gb__n_estimators=500, gb__max_depth=20, gb__max_features=3, gb__min_samples_split=3, gb__min_samples_leaf=3, gb__max_leaf_nodes=5 -   1.9s\n",
            "[CV] gb__learning_rate=0.1, gb__n_estimators=500, gb__max_depth=20, gb__max_features=3, gb__min_samples_split=3, gb__min_samples_leaf=3, gb__max_leaf_nodes=5 \n",
            "[CV]  gb__learning_rate=0.1, gb__n_estimators=500, gb__max_depth=20, gb__max_features=3, gb__min_samples_split=3, gb__min_samples_leaf=3, gb__max_leaf_nodes=5 -   1.9s\n",
            "[CV] gb__learning_rate=0.1, gb__n_estimators=500, gb__max_depth=20, gb__max_features=3, gb__min_samples_split=3, gb__min_samples_leaf=3, gb__max_leaf_nodes=5 \n",
            "[CV]  gb__learning_rate=0.1, gb__n_estimators=500, gb__max_depth=20, gb__max_features=3, gb__min_samples_split=3, gb__min_samples_leaf=3, gb__max_leaf_nodes=5 -   2.0s\n",
            "[CV] gb__learning_rate=0.1, gb__n_estimators=500, gb__max_depth=20, gb__max_features=3, gb__min_samples_split=3, gb__min_samples_leaf=3, gb__max_leaf_nodes=5 \n",
            "[CV]  gb__learning_rate=0.1, gb__n_estimators=500, gb__max_depth=20, gb__max_features=3, gb__min_samples_split=3, gb__min_samples_leaf=3, gb__max_leaf_nodes=5 -   1.9s\n",
            "[CV] gb__learning_rate=0.15, gb__n_estimators=500, gb__max_depth=20, gb__max_features=3, gb__min_samples_split=3, gb__min_samples_leaf=3, gb__max_leaf_nodes=3 \n",
            "[CV]  gb__learning_rate=0.15, gb__n_estimators=500, gb__max_depth=20, gb__max_features=3, gb__min_samples_split=3, gb__min_samples_leaf=3, gb__max_leaf_nodes=3 -   1.5s\n",
            "[CV] gb__learning_rate=0.15, gb__n_estimators=500, gb__max_depth=20, gb__max_features=3, gb__min_samples_split=3, gb__min_samples_leaf=3, gb__max_leaf_nodes=3 \n",
            "[CV]  gb__learning_rate=0.15, gb__n_estimators=500, gb__max_depth=20, gb__max_features=3, gb__min_samples_split=3, gb__min_samples_leaf=3, gb__max_leaf_nodes=3 -   1.7s\n",
            "[CV] gb__learning_rate=0.15, gb__n_estimators=500, gb__max_depth=20, gb__max_features=3, gb__min_samples_split=3, gb__min_samples_leaf=3, gb__max_leaf_nodes=3 \n",
            "[CV]  gb__learning_rate=0.15, gb__n_estimators=500, gb__max_depth=20, gb__max_features=3, gb__min_samples_split=3, gb__min_samples_leaf=3, gb__max_leaf_nodes=3 -   1.5s\n",
            "[CV] gb__learning_rate=0.15, gb__n_estimators=500, gb__max_depth=20, gb__max_features=3, gb__min_samples_split=3, gb__min_samples_leaf=3, gb__max_leaf_nodes=3 \n",
            "[CV]  gb__learning_rate=0.15, gb__n_estimators=500, gb__max_depth=20, gb__max_features=3, gb__min_samples_split=3, gb__min_samples_leaf=3, gb__max_leaf_nodes=3 -   1.5s\n",
            "[CV] gb__learning_rate=0.15, gb__n_estimators=500, gb__max_depth=20, gb__max_features=3, gb__min_samples_split=3, gb__min_samples_leaf=3, gb__max_leaf_nodes=3 \n",
            "[CV]  gb__learning_rate=0.15, gb__n_estimators=500, gb__max_depth=20, gb__max_features=3, gb__min_samples_split=3, gb__min_samples_leaf=3, gb__max_leaf_nodes=3 -   1.5s\n",
            "[CV] gb__learning_rate=0.15, gb__n_estimators=500, gb__max_depth=20, gb__max_features=3, gb__min_samples_split=3, gb__min_samples_leaf=3, gb__max_leaf_nodes=4 \n",
            "[CV]  gb__learning_rate=0.15, gb__n_estimators=500, gb__max_depth=20, gb__max_features=3, gb__min_samples_split=3, gb__min_samples_leaf=3, gb__max_leaf_nodes=4 -   1.7s\n",
            "[CV] gb__learning_rate=0.15, gb__n_estimators=500, gb__max_depth=20, gb__max_features=3, gb__min_samples_split=3, gb__min_samples_leaf=3, gb__max_leaf_nodes=4 \n",
            "[CV]  gb__learning_rate=0.15, gb__n_estimators=500, gb__max_depth=20, gb__max_features=3, gb__min_samples_split=3, gb__min_samples_leaf=3, gb__max_leaf_nodes=4 -   1.8s\n",
            "[CV] gb__learning_rate=0.15, gb__n_estimators=500, gb__max_depth=20, gb__max_features=3, gb__min_samples_split=3, gb__min_samples_leaf=3, gb__max_leaf_nodes=4 \n",
            "[CV]  gb__learning_rate=0.15, gb__n_estimators=500, gb__max_depth=20, gb__max_features=3, gb__min_samples_split=3, gb__min_samples_leaf=3, gb__max_leaf_nodes=4 -   1.7s\n",
            "[CV] gb__learning_rate=0.15, gb__n_estimators=500, gb__max_depth=20, gb__max_features=3, gb__min_samples_split=3, gb__min_samples_leaf=3, gb__max_leaf_nodes=4 \n",
            "[CV]  gb__learning_rate=0.15, gb__n_estimators=500, gb__max_depth=20, gb__max_features=3, gb__min_samples_split=3, gb__min_samples_leaf=3, gb__max_leaf_nodes=4 -   1.7s\n",
            "[CV] gb__learning_rate=0.15, gb__n_estimators=500, gb__max_depth=20, gb__max_features=3, gb__min_samples_split=3, gb__min_samples_leaf=3, gb__max_leaf_nodes=4 \n",
            "[CV]  gb__learning_rate=0.15, gb__n_estimators=500, gb__max_depth=20, gb__max_features=3, gb__min_samples_split=3, gb__min_samples_leaf=3, gb__max_leaf_nodes=4 -   1.7s\n",
            "[CV] gb__learning_rate=0.15, gb__n_estimators=500, gb__max_depth=20, gb__max_features=3, gb__min_samples_split=3, gb__min_samples_leaf=3, gb__max_leaf_nodes=5 \n",
            "[CV]  gb__learning_rate=0.15, gb__n_estimators=500, gb__max_depth=20, gb__max_features=3, gb__min_samples_split=3, gb__min_samples_leaf=3, gb__max_leaf_nodes=5 -   1.8s\n",
            "[CV] gb__learning_rate=0.15, gb__n_estimators=500, gb__max_depth=20, gb__max_features=3, gb__min_samples_split=3, gb__min_samples_leaf=3, gb__max_leaf_nodes=5 \n",
            "[CV]  gb__learning_rate=0.15, gb__n_estimators=500, gb__max_depth=20, gb__max_features=3, gb__min_samples_split=3, gb__min_samples_leaf=3, gb__max_leaf_nodes=5 -   1.9s\n",
            "[CV] gb__learning_rate=0.15, gb__n_estimators=500, gb__max_depth=20, gb__max_features=3, gb__min_samples_split=3, gb__min_samples_leaf=3, gb__max_leaf_nodes=5 \n",
            "[CV]  gb__learning_rate=0.15, gb__n_estimators=500, gb__max_depth=20, gb__max_features=3, gb__min_samples_split=3, gb__min_samples_leaf=3, gb__max_leaf_nodes=5 -   1.9s\n",
            "[CV] gb__learning_rate=0.15, gb__n_estimators=500, gb__max_depth=20, gb__max_features=3, gb__min_samples_split=3, gb__min_samples_leaf=3, gb__max_leaf_nodes=5 \n",
            "[CV]  gb__learning_rate=0.15, gb__n_estimators=500, gb__max_depth=20, gb__max_features=3, gb__min_samples_split=3, gb__min_samples_leaf=3, gb__max_leaf_nodes=5 -   1.8s\n",
            "[CV] gb__learning_rate=0.15, gb__n_estimators=500, gb__max_depth=20, gb__max_features=3, gb__min_samples_split=3, gb__min_samples_leaf=3, gb__max_leaf_nodes=5 \n",
            "[CV]  gb__learning_rate=0.15, gb__n_estimators=500, gb__max_depth=20, gb__max_features=3, gb__min_samples_split=3, gb__min_samples_leaf=3, gb__max_leaf_nodes=5 -   1.9s\n",
            "[CV] gb__learning_rate=0.2, gb__n_estimators=500, gb__max_depth=20, gb__max_features=3, gb__min_samples_split=3, gb__min_samples_leaf=3, gb__max_leaf_nodes=3 \n",
            "[CV]  gb__learning_rate=0.2, gb__n_estimators=500, gb__max_depth=20, gb__max_features=3, gb__min_samples_split=3, gb__min_samples_leaf=3, gb__max_leaf_nodes=3 -   1.6s\n",
            "[CV] gb__learning_rate=0.2, gb__n_estimators=500, gb__max_depth=20, gb__max_features=3, gb__min_samples_split=3, gb__min_samples_leaf=3, gb__max_leaf_nodes=3 \n",
            "[CV]  gb__learning_rate=0.2, gb__n_estimators=500, gb__max_depth=20, gb__max_features=3, gb__min_samples_split=3, gb__min_samples_leaf=3, gb__max_leaf_nodes=3 -   1.6s\n",
            "[CV] gb__learning_rate=0.2, gb__n_estimators=500, gb__max_depth=20, gb__max_features=3, gb__min_samples_split=3, gb__min_samples_leaf=3, gb__max_leaf_nodes=3 \n",
            "[CV]  gb__learning_rate=0.2, gb__n_estimators=500, gb__max_depth=20, gb__max_features=3, gb__min_samples_split=3, gb__min_samples_leaf=3, gb__max_leaf_nodes=3 -   1.5s\n",
            "[CV] gb__learning_rate=0.2, gb__n_estimators=500, gb__max_depth=20, gb__max_features=3, gb__min_samples_split=3, gb__min_samples_leaf=3, gb__max_leaf_nodes=3 \n",
            "[CV]  gb__learning_rate=0.2, gb__n_estimators=500, gb__max_depth=20, gb__max_features=3, gb__min_samples_split=3, gb__min_samples_leaf=3, gb__max_leaf_nodes=3 -   1.5s\n",
            "[CV] gb__learning_rate=0.2, gb__n_estimators=500, gb__max_depth=20, gb__max_features=3, gb__min_samples_split=3, gb__min_samples_leaf=3, gb__max_leaf_nodes=3 \n"
          ],
          "name": "stdout"
        },
        {
          "output_type": "stream",
          "text": [
            "[CV]  gb__learning_rate=0.2, gb__n_estimators=500, gb__max_depth=20, gb__max_features=3, gb__min_samples_split=3, gb__min_samples_leaf=3, gb__max_leaf_nodes=3 -   1.5s\n",
            "[CV] gb__learning_rate=0.2, gb__n_estimators=500, gb__max_depth=20, gb__max_features=3, gb__min_samples_split=3, gb__min_samples_leaf=3, gb__max_leaf_nodes=4 \n",
            "[CV]  gb__learning_rate=0.2, gb__n_estimators=500, gb__max_depth=20, gb__max_features=3, gb__min_samples_split=3, gb__min_samples_leaf=3, gb__max_leaf_nodes=4 -   1.7s\n",
            "[CV] gb__learning_rate=0.2, gb__n_estimators=500, gb__max_depth=20, gb__max_features=3, gb__min_samples_split=3, gb__min_samples_leaf=3, gb__max_leaf_nodes=4 \n",
            "[CV]  gb__learning_rate=0.2, gb__n_estimators=500, gb__max_depth=20, gb__max_features=3, gb__min_samples_split=3, gb__min_samples_leaf=3, gb__max_leaf_nodes=4 -   1.8s\n",
            "[CV] gb__learning_rate=0.2, gb__n_estimators=500, gb__max_depth=20, gb__max_features=3, gb__min_samples_split=3, gb__min_samples_leaf=3, gb__max_leaf_nodes=4 \n",
            "[CV]  gb__learning_rate=0.2, gb__n_estimators=500, gb__max_depth=20, gb__max_features=3, gb__min_samples_split=3, gb__min_samples_leaf=3, gb__max_leaf_nodes=4 -   1.7s\n",
            "[CV] gb__learning_rate=0.2, gb__n_estimators=500, gb__max_depth=20, gb__max_features=3, gb__min_samples_split=3, gb__min_samples_leaf=3, gb__max_leaf_nodes=4 \n",
            "[CV]  gb__learning_rate=0.2, gb__n_estimators=500, gb__max_depth=20, gb__max_features=3, gb__min_samples_split=3, gb__min_samples_leaf=3, gb__max_leaf_nodes=4 -   1.7s\n",
            "[CV] gb__learning_rate=0.2, gb__n_estimators=500, gb__max_depth=20, gb__max_features=3, gb__min_samples_split=3, gb__min_samples_leaf=3, gb__max_leaf_nodes=4 \n",
            "[CV]  gb__learning_rate=0.2, gb__n_estimators=500, gb__max_depth=20, gb__max_features=3, gb__min_samples_split=3, gb__min_samples_leaf=3, gb__max_leaf_nodes=4 -   1.8s\n",
            "[CV] gb__learning_rate=0.2, gb__n_estimators=500, gb__max_depth=20, gb__max_features=3, gb__min_samples_split=3, gb__min_samples_leaf=3, gb__max_leaf_nodes=5 \n",
            "[CV]  gb__learning_rate=0.2, gb__n_estimators=500, gb__max_depth=20, gb__max_features=3, gb__min_samples_split=3, gb__min_samples_leaf=3, gb__max_leaf_nodes=5 -   1.9s\n",
            "[CV] gb__learning_rate=0.2, gb__n_estimators=500, gb__max_depth=20, gb__max_features=3, gb__min_samples_split=3, gb__min_samples_leaf=3, gb__max_leaf_nodes=5 \n",
            "[CV]  gb__learning_rate=0.2, gb__n_estimators=500, gb__max_depth=20, gb__max_features=3, gb__min_samples_split=3, gb__min_samples_leaf=3, gb__max_leaf_nodes=5 -   2.7s\n",
            "[CV] gb__learning_rate=0.2, gb__n_estimators=500, gb__max_depth=20, gb__max_features=3, gb__min_samples_split=3, gb__min_samples_leaf=3, gb__max_leaf_nodes=5 \n",
            "[CV]  gb__learning_rate=0.2, gb__n_estimators=500, gb__max_depth=20, gb__max_features=3, gb__min_samples_split=3, gb__min_samples_leaf=3, gb__max_leaf_nodes=5 -   4.1s\n",
            "[CV] gb__learning_rate=0.2, gb__n_estimators=500, gb__max_depth=20, gb__max_features=3, gb__min_samples_split=3, gb__min_samples_leaf=3, gb__max_leaf_nodes=5 \n",
            "[CV]  gb__learning_rate=0.2, gb__n_estimators=500, gb__max_depth=20, gb__max_features=3, gb__min_samples_split=3, gb__min_samples_leaf=3, gb__max_leaf_nodes=5 -   3.7s\n",
            "[CV] gb__learning_rate=0.2, gb__n_estimators=500, gb__max_depth=20, gb__max_features=3, gb__min_samples_split=3, gb__min_samples_leaf=3, gb__max_leaf_nodes=5 \n",
            "[CV]  gb__learning_rate=0.2, gb__n_estimators=500, gb__max_depth=20, gb__max_features=3, gb__min_samples_split=3, gb__min_samples_leaf=3, gb__max_leaf_nodes=5 -   3.7s\n"
          ],
          "name": "stdout"
        },
        {
          "output_type": "stream",
          "text": [
            "[Parallel(n_jobs=1)]: Done  60 out of  60 | elapsed:  1.9min finished\n"
          ],
          "name": "stderr"
        }
      ]
    },
    {
      "metadata": {
        "id": "cpzEvg4BoRal",
        "colab_type": "code",
        "colab": {
          "base_uri": "https://localhost:8080/",
          "height": 238
        },
        "outputId": "aabd4f71-76f0-4d99-d0a3-e29dc8dcdad9"
      },
      "cell_type": "code",
      "source": [
        "param_grid = {\n",
        "  'gb__max_features': [3],\n",
        "  'gb__min_samples_leaf': [3],\n",
        "  'gb__min_samples_split': [3],\n",
        "  'gb__n_estimators': [500],\n",
        "  'gb__max_depth': [20],\n",
        "\t'gb__learning_rate': [0.01],\n",
        "\t'gb__max_leaf_nodes': [3],\n",
        "}\n",
        "grid_gb = GridSearchCV(estimator=gb_pipeline, cv=5, param_grid=param_grid, verbose=2)\n",
        "grid_result_gb = grid_gb.fit(X, Y)"
      ],
      "execution_count": 40,
      "outputs": [
        {
          "output_type": "stream",
          "text": [
            "Fitting 5 folds for each of 1 candidates, totalling 5 fits\n",
            "[CV] gb__learning_rate=0.01, gb__n_estimators=500, gb__max_depth=20, gb__max_features=3, gb__min_samples_split=3, gb__min_samples_leaf=3, gb__max_leaf_nodes=3 \n",
            "[CV]  gb__learning_rate=0.01, gb__n_estimators=500, gb__max_depth=20, gb__max_features=3, gb__min_samples_split=3, gb__min_samples_leaf=3, gb__max_leaf_nodes=3 -  52.4s\n",
            "[CV] gb__learning_rate=0.01, gb__n_estimators=500, gb__max_depth=20, gb__max_features=3, gb__min_samples_split=3, gb__min_samples_leaf=3, gb__max_leaf_nodes=3 \n"
          ],
          "name": "stdout"
        },
        {
          "output_type": "stream",
          "text": [
            "[Parallel(n_jobs=1)]: Done   1 out of   1 | elapsed:   52.4s remaining:    0.0s\n"
          ],
          "name": "stderr"
        },
        {
          "output_type": "stream",
          "text": [
            "[CV]  gb__learning_rate=0.01, gb__n_estimators=500, gb__max_depth=20, gb__max_features=3, gb__min_samples_split=3, gb__min_samples_leaf=3, gb__max_leaf_nodes=3 -  46.9s\n",
            "[CV] gb__learning_rate=0.01, gb__n_estimators=500, gb__max_depth=20, gb__max_features=3, gb__min_samples_split=3, gb__min_samples_leaf=3, gb__max_leaf_nodes=3 \n",
            "[CV]  gb__learning_rate=0.01, gb__n_estimators=500, gb__max_depth=20, gb__max_features=3, gb__min_samples_split=3, gb__min_samples_leaf=3, gb__max_leaf_nodes=3 - 1.1min\n",
            "[CV] gb__learning_rate=0.01, gb__n_estimators=500, gb__max_depth=20, gb__max_features=3, gb__min_samples_split=3, gb__min_samples_leaf=3, gb__max_leaf_nodes=3 \n",
            "[CV]  gb__learning_rate=0.01, gb__n_estimators=500, gb__max_depth=20, gb__max_features=3, gb__min_samples_split=3, gb__min_samples_leaf=3, gb__max_leaf_nodes=3 -  51.1s\n",
            "[CV] gb__learning_rate=0.01, gb__n_estimators=500, gb__max_depth=20, gb__max_features=3, gb__min_samples_split=3, gb__min_samples_leaf=3, gb__max_leaf_nodes=3 \n",
            "[CV]  gb__learning_rate=0.01, gb__n_estimators=500, gb__max_depth=20, gb__max_features=3, gb__min_samples_split=3, gb__min_samples_leaf=3, gb__max_leaf_nodes=3 - 1.0min\n"
          ],
          "name": "stdout"
        },
        {
          "output_type": "stream",
          "text": [
            "[Parallel(n_jobs=1)]: Done   5 out of   5 | elapsed:  4.6min finished\n"
          ],
          "name": "stderr"
        }
      ]
    },
    {
      "metadata": {
        "id": "SjytOQa_N_-a",
        "colab_type": "code",
        "colab": {}
      },
      "cell_type": "code",
      "source": [
        ""
      ],
      "execution_count": 0,
      "outputs": []
    },
    {
      "metadata": {
        "id": "UPY2qRzmryoe",
        "colab_type": "code",
        "colab": {
          "base_uri": "https://localhost:8080/",
          "height": 85
        },
        "outputId": "de57d917-daad-46e6-ffc5-79c03af67eec"
      },
      "cell_type": "code",
      "source": [
        "# summarize results\n",
        "def summarize(grid_result,method):\n",
        "  print (method)\n",
        "  print ('Best: %f using %s' % (grid_result.best_score_, grid_result.best_params_))\n",
        "#summarize(grid_result_rf,'random forest sample')\n",
        "#print('*'*80)\n",
        "summarize(grid_result_rf_2,'random forest full set')\n",
        "summarize(grid_result_gb,'gradient boosting')"
      ],
      "execution_count": 41,
      "outputs": [
        {
          "output_type": "stream",
          "text": [
            "random forest full set\n",
            "Best: -0.006486 using {'rf__max_depth': 20, 'rf__n_estimators': 500, 'rf__max_features': 3, 'rf__min_samples_split': 3, 'rf__min_samples_leaf': 16, 'rf__n_jobs': 8}\n",
            "gradient boosting\n",
            "Best: 0.048272 using {'gb__learning_rate': 0.01, 'gb__n_estimators': 500, 'gb__max_depth': 20, 'gb__max_features': 3, 'gb__min_samples_split': 3, 'gb__min_samples_leaf': 3, 'gb__max_leaf_nodes': 3}\n"
          ],
          "name": "stdout"
        }
      ]
    },
    {
      "metadata": {
        "id": "7Q8e7Ftbr2-S",
        "colab_type": "code",
        "colab": {}
      },
      "cell_type": "code",
      "source": [
        "X_test = pandas.read_csv(base+\"X_test.txt\", delim_whitespace=True, header=None)"
      ],
      "execution_count": 0,
      "outputs": []
    },
    {
      "metadata": {
        "id": "4pbEZjNOr5ZD",
        "colab_type": "code",
        "colab": {}
      },
      "cell_type": "code",
      "source": [
        "#X_test.drop(X_test.columns[[5, 6, 12]], axis=1, inplace=True)"
      ],
      "execution_count": 0,
      "outputs": []
    },
    {
      "metadata": {
        "id": "VvMvk4misuet",
        "colab_type": "code",
        "colab": {}
      },
      "cell_type": "code",
      "source": [
        "# evaluate model with standardized dataset\n",
        "X_test = X_test.values\n",
        "prediction = grid_result_gb.predict(X_test)"
      ],
      "execution_count": 0,
      "outputs": []
    },
    {
      "metadata": {
        "id": "RFZKErSlsw8j",
        "colab_type": "code",
        "colab": {}
      },
      "cell_type": "code",
      "source": [
        "fh = open(base+'predictions_gb.csv','w')\n",
        "fh.write('ID,Prediction\\n')\n",
        "for i,yi in enumerate(prediction):\n",
        "    fh.write('{},{}\\n'.format(i,yi))\n",
        "fh.close()"
      ],
      "execution_count": 0,
      "outputs": []
    },
    {
      "metadata": {
        "id": "Lh66GZb3syph",
        "colab_type": "code",
        "colab": {
          "base_uri": "https://localhost:8080/",
          "height": 136
        },
        "outputId": "68e09b6b-959e-4b06-bc86-65b708d98d7e"
      },
      "cell_type": "code",
      "source": [
        "unique, counts = numpy.unique(prediction, return_counts=True)\n",
        "print (numpy.asarray((unique, counts)).T)"
      ],
      "execution_count": 46,
      "outputs": [
        {
          "output_type": "stream",
          "text": [
            "[[ 0.06158188  1.        ]\n",
            " [ 0.08455057 19.        ]\n",
            " [ 0.09481692  7.        ]\n",
            " ...\n",
            " [ 4.64751544  1.        ]\n",
            " [ 4.74031432  1.        ]\n",
            " [ 4.99573631  1.        ]]\n"
          ],
          "name": "stdout"
        }
      ]
    }
  ]
}