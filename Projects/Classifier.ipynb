{
 "cells": [
  {
   "cell_type": "code",
   "execution_count": 1,
   "metadata": {
    "colab": {
     "autoexec": {
      "startup": false,
      "wait_interval": 0
     },
     "base_uri": "https://localhost:8080/",
     "height": 139
    },
    "colab_type": "code",
    "executionInfo": {
     "elapsed": 681,
     "status": "ok",
     "timestamp": 1529114128867,
     "user": {
      "displayName": "Smitha Gurunathakrishnan Balagurunatan",
      "photoUrl": "//lh6.googleusercontent.com/-IohuXqjCt80/AAAAAAAAAAI/AAAAAAAAAA4/gjbeAeEZUbc/s50-c-k-no/photo.jpg",
      "userId": "115069811497394769579"
     },
     "user_tz": 420
    },
    "id": "I3PbQb9pJEBl",
    "outputId": "0a3a34a7-97e6-48e9-9963-9318f6334a76"
   },
   "outputs": [
    {
     "name": "stderr",
     "output_type": "stream",
     "text": [
      "/anaconda3/lib/python3.6/site-packages/sklearn/cross_validation.py:41: DeprecationWarning: This module was deprecated in version 0.18 in favor of the model_selection module into which all the refactored classes and functions are moved. Also note that the interface of the new CV iterators are different from that of this module. This module will be removed in 0.20.\n",
      "  \"This module will be removed in 0.20.\", DeprecationWarning)\n",
      "/anaconda3/lib/python3.6/site-packages/sklearn/grid_search.py:42: DeprecationWarning: This module was deprecated in version 0.18 in favor of the model_selection module into which all the refactored classes and functions are moved. This module will be removed in 0.20.\n",
      "  DeprecationWarning)\n",
      "/anaconda3/lib/python3.6/site-packages/sklearn/learning_curve.py:22: DeprecationWarning: This module was deprecated in version 0.18 in favor of the model_selection module into which all the functions are moved. This module will be removed in 0.20\n",
      "  DeprecationWarning)\n"
     ]
    }
   ],
   "source": [
    "import warnings\n",
    "warnings.filterwarnings('ignore')\n",
    "\n",
    "import numpy as np\n",
    "import time\n",
    "import pandas as pd\n",
    "from sklearn import *\n",
    "\n",
    "from itertools import product\n",
    "import os"
   ]
  },
  {
   "cell_type": "code",
   "execution_count": 0,
   "metadata": {
    "colab": {
     "autoexec": {
      "startup": false,
      "wait_interval": 0
     }
    },
    "colab_type": "code",
    "id": "mGOo1pgLJI6H"
   },
   "outputs": [],
   "source": [
    "from google.colab import auth\n",
    "auth.authenticate_user()"
   ]
  },
  {
   "cell_type": "code",
   "execution_count": 4,
   "metadata": {
    "colab": {
     "autoexec": {
      "startup": false,
      "wait_interval": 0
     },
     "base_uri": "https://localhost:8080/",
     "height": 2366
    },
    "colab_type": "code",
    "executionInfo": {
     "elapsed": 55552,
     "status": "ok",
     "timestamp": 1529114219663,
     "user": {
      "displayName": "Smitha Gurunathakrishnan Balagurunatan",
      "photoUrl": "//lh6.googleusercontent.com/-IohuXqjCt80/AAAAAAAAAAI/AAAAAAAAAA4/gjbeAeEZUbc/s50-c-k-no/photo.jpg",
      "userId": "115069811497394769579"
     },
     "user_tz": 420
    },
    "id": "sQwUyT9aXzw3",
    "outputId": "9aa8cc49-0515-4e43-b6f6-de66562ce7c3"
   },
   "outputs": [
    {
     "name": "stdout",
     "output_type": "stream",
     "text": [
      "Preconfiguring packages ...\n",
      "Selecting previously unselected package cron.\n",
      "(Reading database ... 18298 files and directories currently installed.)\n",
      "Preparing to unpack .../00-cron_3.0pl1-128ubuntu5_amd64.deb ...\n",
      "Unpacking cron (3.0pl1-128ubuntu5) ...\n",
      "Selecting previously unselected package libapparmor1:amd64.\n",
      "Preparing to unpack .../01-libapparmor1_2.11.0-2ubuntu17.1_amd64.deb ...\n",
      "Unpacking libapparmor1:amd64 (2.11.0-2ubuntu17.1) ...\n",
      "Selecting previously unselected package libdbus-1-3:amd64.\n",
      "Preparing to unpack .../02-libdbus-1-3_1.10.22-1ubuntu1_amd64.deb ...\n",
      "Unpacking libdbus-1-3:amd64 (1.10.22-1ubuntu1) ...\n",
      "Selecting previously unselected package dbus.\n",
      "Preparing to unpack .../03-dbus_1.10.22-1ubuntu1_amd64.deb ...\n",
      "Unpacking dbus (1.10.22-1ubuntu1) ...\n",
      "Selecting previously unselected package dirmngr.\n",
      "Preparing to unpack .../04-dirmngr_2.1.15-1ubuntu8_amd64.deb ...\n",
      "Unpacking dirmngr (2.1.15-1ubuntu8) ...\n",
      "Selecting previously unselected package distro-info-data.\n",
      "Preparing to unpack .../05-distro-info-data_0.36ubuntu0.2_all.deb ...\n",
      "Unpacking distro-info-data (0.36ubuntu0.2) ...\n",
      "Selecting previously unselected package libkmod2:amd64.\n",
      "Preparing to unpack .../06-libkmod2_24-1ubuntu2_amd64.deb ...\n",
      "Unpacking libkmod2:amd64 (24-1ubuntu2) ...\n",
      "Selecting previously unselected package kmod.\n",
      "Preparing to unpack .../07-kmod_24-1ubuntu2_amd64.deb ...\n",
      "Unpacking kmod (24-1ubuntu2) ...\n",
      "Selecting previously unselected package lsb-release.\n",
      "Preparing to unpack .../08-lsb-release_9.20160110ubuntu5_all.deb ...\n",
      "Unpacking lsb-release (9.20160110ubuntu5) ...\n",
      "Selecting previously unselected package libgirepository-1.0-1:amd64.\n",
      "Preparing to unpack .../09-libgirepository-1.0-1_1.54.1-1_amd64.deb ...\n",
      "Unpacking libgirepository-1.0-1:amd64 (1.54.1-1) ...\n",
      "Selecting previously unselected package gir1.2-glib-2.0:amd64.\n",
      "Preparing to unpack .../10-gir1.2-glib-2.0_1.54.1-1_amd64.deb ...\n",
      "Unpacking gir1.2-glib-2.0:amd64 (1.54.1-1) ...\n",
      "Selecting previously unselected package iso-codes.\n",
      "Preparing to unpack .../11-iso-codes_3.75-1_all.deb ...\n",
      "Unpacking iso-codes (3.75-1) ...\n",
      "Selecting previously unselected package libdbus-glib-1-2:amd64.\n",
      "Preparing to unpack .../12-libdbus-glib-1-2_0.108-2_amd64.deb ...\n",
      "Unpacking libdbus-glib-1-2:amd64 (0.108-2) ...\n",
      "Selecting previously unselected package python-apt-common.\n",
      "Preparing to unpack .../13-python-apt-common_1.4.0~beta3build2_all.deb ...\n",
      "Unpacking python-apt-common (1.4.0~beta3build2) ...\n",
      "Selecting previously unselected package python3-apt.\n",
      "Preparing to unpack .../14-python3-apt_1.4.0~beta3build2_amd64.deb ...\n",
      "Unpacking python3-apt (1.4.0~beta3build2) ...\n",
      "Selecting previously unselected package python3-dbus.\n",
      "Preparing to unpack .../15-python3-dbus_1.2.4-1build3_amd64.deb ...\n",
      "Unpacking python3-dbus (1.2.4-1build3) ...\n",
      "Selecting previously unselected package python3-gi.\n",
      "Preparing to unpack .../16-python3-gi_3.24.1-2build1_amd64.deb ...\n",
      "Unpacking python3-gi (3.24.1-2build1) ...\n",
      "Selecting previously unselected package module-init-tools.\n",
      "Preparing to unpack .../17-module-init-tools_24-1ubuntu2_all.deb ...\n",
      "Unpacking module-init-tools (24-1ubuntu2) ...\n",
      "Selecting previously unselected package python-apt.\n",
      "Preparing to unpack .../18-python-apt_1.4.0~beta3build2_amd64.deb ...\n",
      "Unpacking python-apt (1.4.0~beta3build2) ...\n",
      "Selecting previously unselected package python-pycurl.\n",
      "Preparing to unpack .../19-python-pycurl_7.43.0-2build2_amd64.deb ...\n",
      "Unpacking python-pycurl (7.43.0-2build2) ...\n",
      "Selecting previously unselected package python-software-properties.\n",
      "Preparing to unpack .../20-python-software-properties_0.96.24.17_all.deb ...\n",
      "Unpacking python-software-properties (0.96.24.17) ...\n",
      "Selecting previously unselected package python3-software-properties.\n",
      "Preparing to unpack .../21-python3-software-properties_0.96.24.17_all.deb ...\n",
      "Unpacking python3-software-properties (0.96.24.17) ...\n",
      "Selecting previously unselected package software-properties-common.\n",
      "Preparing to unpack .../22-software-properties-common_0.96.24.17_all.deb ...\n",
      "Unpacking software-properties-common (0.96.24.17) ...\n",
      "Selecting previously unselected package unattended-upgrades.\n",
      "Preparing to unpack .../23-unattended-upgrades_0.98ubuntu1.1_all.deb ...\n",
      "Unpacking unattended-upgrades (0.98ubuntu1.1) ...\n",
      "Setting up python-apt-common (1.4.0~beta3build2) ...\n",
      "Setting up python3-apt (1.4.0~beta3build2) ...\n",
      "Setting up iso-codes (3.75-1) ...\n",
      "Setting up distro-info-data (0.36ubuntu0.2) ...\n",
      "Setting up python-pycurl (7.43.0-2build2) ...\n",
      "Setting up lsb-release (9.20160110ubuntu5) ...\n",
      "Setting up libgirepository-1.0-1:amd64 (1.54.1-1) ...\n",
      "Setting up libkmod2:amd64 (24-1ubuntu2) ...\n",
      "Setting up gir1.2-glib-2.0:amd64 (1.54.1-1) ...\n",
      "Processing triggers for libc-bin (2.26-0ubuntu2.1) ...\n",
      "Setting up libapparmor1:amd64 (2.11.0-2ubuntu17.1) ...\n",
      "Setting up unattended-upgrades (0.98ubuntu1.1) ...\n",
      "\n",
      "Creating config file /etc/apt/apt.conf.d/20auto-upgrades with new version\n",
      "\n",
      "Creating config file /etc/apt/apt.conf.d/50unattended-upgrades with new version\n",
      "invoke-rc.d: could not determine current runlevel\n",
      "invoke-rc.d: policy-rc.d denied execution of start.\n",
      "Setting up dirmngr (2.1.15-1ubuntu8) ...\n",
      "Setting up cron (3.0pl1-128ubuntu5) ...\n",
      "Adding group `crontab' (GID 102) ...\n",
      "Done.\n",
      "update-rc.d: warning: start and stop actions are no longer supported; falling back to defaults\n",
      "update-rc.d: warning: stop runlevel arguments (1) do not match cron Default-Stop values (none)\n",
      "invoke-rc.d: could not determine current runlevel\n",
      "invoke-rc.d: policy-rc.d denied execution of start.\n",
      "Setting up libdbus-1-3:amd64 (1.10.22-1ubuntu1) ...\n",
      "Setting up kmod (24-1ubuntu2) ...\n",
      "Setting up libdbus-glib-1-2:amd64 (0.108-2) ...\n",
      "Setting up python3-gi (3.24.1-2build1) ...\n",
      "Setting up module-init-tools (24-1ubuntu2) ...\n",
      "Setting up python3-software-properties (0.96.24.17) ...\n",
      "Setting up dbus (1.10.22-1ubuntu1) ...\n",
      "Setting up python-apt (1.4.0~beta3build2) ...\n",
      "Setting up python3-dbus (1.2.4-1build3) ...\n",
      "Setting up python-software-properties (0.96.24.17) ...\n",
      "Setting up software-properties-common (0.96.24.17) ...\n",
      "Processing triggers for libc-bin (2.26-0ubuntu2.1) ...\n",
      "Processing triggers for dbus (1.10.22-1ubuntu1) ...\n",
      "gpg: keybox '/tmp/tmplcigxw6b/pubring.gpg' created\n",
      "gpg: /tmp/tmplcigxw6b/trustdb.gpg: trustdb created\n",
      "gpg: key AD5F235DF639B041: public key \"Launchpad PPA for Alessandro Strada\" imported\n",
      "gpg: Total number processed: 1\n",
      "gpg:               imported: 1\n",
      "Warning: apt-key output should not be parsed (stdout is not a terminal)\n",
      "Selecting previously unselected package libfuse2:amd64.\n",
      "(Reading database ... 19706 files and directories currently installed.)\n",
      "Preparing to unpack .../libfuse2_2.9.7-1ubuntu1_amd64.deb ...\n",
      "Unpacking libfuse2:amd64 (2.9.7-1ubuntu1) ...\n",
      "Selecting previously unselected package fuse.\n",
      "Preparing to unpack .../fuse_2.9.7-1ubuntu1_amd64.deb ...\n",
      "Unpacking fuse (2.9.7-1ubuntu1) ...\n",
      "Selecting previously unselected package google-drive-ocamlfuse.\n",
      "Preparing to unpack .../google-drive-ocamlfuse_0.6.21-0ubuntu2_amd64.deb ...\n",
      "Unpacking google-drive-ocamlfuse (0.6.21-0ubuntu2) ...\n",
      "Setting up libfuse2:amd64 (2.9.7-1ubuntu1) ...\n",
      "Processing triggers for libc-bin (2.26-0ubuntu2.1) ...\n",
      "Setting up fuse (2.9.7-1ubuntu1) ...\n",
      "Setting up google-drive-ocamlfuse (0.6.21-0ubuntu2) ...\n",
      "Please, open the following URL in a web browser: https://accounts.google.com/o/oauth2/auth?client_id=32555940559.apps.googleusercontent.com&redirect_uri=urn%3Aietf%3Awg%3Aoauth%3A2.0%3Aoob&scope=https%3A%2F%2Fwww.googleapis.com%2Fauth%2Fdrive&response_type=code&access_type=offline&approval_prompt=force\n",
      "··········\n",
      "Please, open the following URL in a web browser: https://accounts.google.com/o/oauth2/auth?client_id=32555940559.apps.googleusercontent.com&redirect_uri=urn%3Aietf%3Awg%3Aoauth%3A2.0%3Aoob&scope=https%3A%2F%2Fwww.googleapis.com%2Fauth%2Fdrive&response_type=code&access_type=offline&approval_prompt=force\n",
      "Please enter the verification code: Access token retrieved correctly.\n"
     ]
    }
   ],
   "source": [
    "\n",
    "!apt-get install -y -qq software-properties-common python-software-properties module-init-tools\n",
    "!add-apt-repository -y ppa:alessandro-strada/ppa 2>&1 > /dev/null\n",
    "!apt-get update -qq 2>&1 > /dev/null\n",
    "!apt-get -y install -qq google-drive-ocamlfuse fuse\n",
    "from oauth2client.client import GoogleCredentials\n",
    "creds = GoogleCredentials.get_application_default()\n",
    "import getpass\n",
    "!google-drive-ocamlfuse -headless -id={creds.client_id} -secret={creds.client_secret} < /dev/null 2>&1 | grep URL\n",
    "vcode = getpass.getpass()\n",
    "!echo {vcode} | google-drive-ocamlfuse -headless -id={creds.client_id} -secret={creds.client_secret}\n",
    "#'''"
   ]
  },
  {
   "cell_type": "code",
   "execution_count": 10,
   "metadata": {
    "colab": {
     "autoexec": {
      "startup": false,
      "wait_interval": 0
     },
     "base_uri": "https://localhost:8080/",
     "height": 51
    },
    "colab_type": "code",
    "executionInfo": {
     "elapsed": 3161,
     "status": "ok",
     "timestamp": 1529114955127,
     "user": {
      "displayName": "Smitha Gurunathakrishnan Balagurunatan",
      "photoUrl": "//lh6.googleusercontent.com/-IohuXqjCt80/AAAAAAAAAAI/AAAAAAAAAA4/gjbeAeEZUbc/s50-c-k-no/photo.jpg",
      "userId": "115069811497394769579"
     },
     "user_tz": 420
    },
    "id": "Rutj_7qCZWv3",
    "outputId": "916dae8e-02c6-4d00-bdc9-a7ba5bb555a9"
   },
   "outputs": [
    {
     "name": "stdout",
     "output_type": "stream",
     "text": [
      "fuse: mountpoint is not empty\r\n",
      "fuse: if you are sure this is safe, use the 'nonempty' mount option\r\n"
     ]
    }
   ],
   "source": [
    "!mkdir -p my_drive\n",
    "!google-drive-ocamlfuse my_drive"
   ]
  },
  {
   "cell_type": "code",
   "execution_count": 4,
   "metadata": {
    "colab": {
     "autoexec": {
      "startup": false,
      "wait_interval": 0
     }
    },
    "colab_type": "code",
    "id": "k8NtQlwnJSft"
   },
   "outputs": [],
   "source": [
    "#base = ''\n",
    "#data = 'data'+os.sep\n",
    "seed = np.random.seed(7)"
   ]
  },
  {
   "cell_type": "code",
   "execution_count": 5,
   "metadata": {
    "colab": {
     "autoexec": {
      "startup": false,
      "wait_interval": 0
     },
     "base_uri": "https://localhost:8080/",
     "height": 881
    },
    "colab_type": "code",
    "executionInfo": {
     "elapsed": 514,
     "status": "error",
     "timestamp": 1529114961167,
     "user": {
      "displayName": "Smitha Gurunathakrishnan Balagurunatan",
      "photoUrl": "//lh6.googleusercontent.com/-IohuXqjCt80/AAAAAAAAAAI/AAAAAAAAAA4/gjbeAeEZUbc/s50-c-k-no/photo.jpg",
      "userId": "115069811497394769579"
     },
     "user_tz": 420
    },
    "id": "kDnfqNmKJEBz",
    "outputId": "b0159411-89ca-4b35-9374-7d80036ade7e"
   },
   "outputs": [],
   "source": [
    "# load data\n",
    "x_data_all = pd.read_csv('data/X_train.txt')\n",
    "y_data_all = pd.read_csv('data/Y_train.txt')\n",
    "x_test = pd.read_csv('data/X_test.txt')"
   ]
  },
  {
   "cell_type": "code",
   "execution_count": 6,
   "metadata": {
    "colab": {
     "autoexec": {
      "startup": false,
      "wait_interval": 0
     },
     "base_uri": "https://localhost:8080/",
     "height": 85
    },
    "colab_type": "code",
    "executionInfo": {
     "elapsed": 315,
     "status": "ok",
     "timestamp": 1528853611914,
     "user": {
      "displayName": "Shikhar Sanstuti",
      "photoUrl": "https://lh3.googleusercontent.com/a/default-user=s128",
      "userId": "104523707733308642668"
     },
     "user_tz": 420
    },
    "id": "Fe230iN9RHmz",
    "outputId": "d4bfe0c4-e4dd-423f-c250-23f8243a82ed"
   },
   "outputs": [
    {
     "data": {
      "text/plain": [
       "Index(['age', 'workclass', 'education', 'education.num', 'marital.status',\n",
       "       'occupation', 'relationship', 'race', 'sex', 'capital.gain',\n",
       "       'capital.loss', 'hours.per.week', 'native.country'],\n",
       "      dtype='object')"
      ]
     },
     "execution_count": 6,
     "metadata": {},
     "output_type": "execute_result"
    }
   ],
   "source": [
    "x_data_all.columns"
   ]
  },
  {
   "cell_type": "code",
   "execution_count": 7,
   "metadata": {
    "colab": {
     "autoexec": {
      "startup": false,
      "wait_interval": 0
     }
    },
    "colab_type": "code",
    "id": "i85UOMXEZntK"
   },
   "outputs": [],
   "source": [
    "def convert(X_train):\n",
    "    y = X_train.multiply(-1, axis=10)\n",
    "    X_train.drop_duplicates()\n",
    "#    X_train['capital.loss'] = y['capital.loss']\n",
    "#    X_train['education.num'] = X_train['education.num'].astype('category')\n",
    "    X = pd.get_dummies(X_train[X_train.columns],drop_first=True)\n",
    "    return X"
   ]
  },
  {
   "cell_type": "code",
   "execution_count": 8,
   "metadata": {
    "colab": {
     "autoexec": {
      "startup": false,
      "wait_interval": 0
     }
    },
    "colab_type": "code",
    "id": "wKAt53CcJEB3"
   },
   "outputs": [],
   "source": [
    "x_data = convert(x_data_all)\n",
    "x_test = convert(x_test)\n",
    "y_data = y_data_all"
   ]
  },
  {
   "cell_type": "code",
   "execution_count": 9,
   "metadata": {
    "colab": {
     "autoexec": {
      "startup": false,
      "wait_interval": 0
     }
    },
    "colab_type": "code",
    "id": "ZZY7PwIzJEB4"
   },
   "outputs": [],
   "source": [
    "# split training / validation data\n",
    "x_train, x_validation, y_train, y_validation = model_selection.train_test_split(\n",
    "    x_data, y_data, test_size=0.2, random_state=seed)"
   ]
  },
  {
   "cell_type": "code",
   "execution_count": 10,
   "metadata": {
    "colab": {
     "autoexec": {
      "startup": false,
      "wait_interval": 0
     }
    },
    "colab_type": "code",
    "id": "z8KzSUU0_SL2"
   },
   "outputs": [],
   "source": [
    "rocs_arr = []"
   ]
  },
  {
   "cell_type": "code",
   "execution_count": 46,
   "metadata": {
    "colab": {
     "autoexec": {
      "startup": false,
      "wait_interval": 0
     },
     "base_uri": "https://localhost:8080/",
     "height": 102
    },
    "colab_type": "code",
    "executionInfo": {
     "elapsed": 355842,
     "status": "ok",
     "timestamp": 1528622915173,
     "user": {
      "displayName": "Shikhar Sanstuti",
      "photoUrl": "https://lh3.googleusercontent.com/a/default-user=s128",
      "userId": "104523707733308642668"
     },
     "user_tz": 420
    },
    "id": "2m72p-edJECG",
    "outputId": "afaf9d15-620e-431a-a713-d57d5f961d54"
   },
   "outputs": [
    {
     "name": "stdout",
     "output_type": "stream",
     "text": [
      "training started\n",
      "training finished\n",
      "validation roc: 0.8955869999999999\n",
      "training error: 0.142625\n",
      "validation error: 0.15349999999999997\n"
     ]
    }
   ],
   "source": [
    "logistic_classifier = pipeline.Pipeline([\n",
    "    ('poly', preprocessing.PolynomialFeatures(degree=2, interaction_only=False)),\n",
    "    ('logistic', linear_model.LogisticRegression(solver='newton-cg'))])\n",
    "\n",
    "print(\"training started\")\n",
    "starting_time = time.time()\n",
    "logistic_classifier.fit(x_train, y_train)\n",
    "end_time = time.time()\n",
    "print(\"training finished, took {} seconds\".format(end_time - starting_time))\n",
    "\n",
    "logistic_classifier_roc = metrics.roc_auc_score(y_validation, logistic_classifier.predict_proba(x_validation)[:,1])\n",
    "rocs_arr.append((logistic_classifier_roc,'logistic'))\n",
    "print(\"validation roc:\", logistic_classifier_roc)\n",
    "\n",
    "print(\"training error:\", 1 - logistic_classifier.score(x_train, y_train))\n",
    "print(\"validation error:\", 1 - logistic_classifier.score(x_validation, y_validation))"
   ]
  },
  {
   "cell_type": "code",
   "execution_count": 47,
   "metadata": {
    "colab": {
     "autoexec": {
      "startup": false,
      "wait_interval": 0
     },
     "base_uri": "https://localhost:8080/",
     "height": 102
    },
    "colab_type": "code",
    "executionInfo": {
     "elapsed": 24616,
     "status": "ok",
     "timestamp": 1528622939844,
     "user": {
      "displayName": "Shikhar Sanstuti",
      "photoUrl": "https://lh3.googleusercontent.com/a/default-user=s128",
      "userId": "104523707733308642668"
     },
     "user_tz": 420
    },
    "id": "8NMcChmdwwnA",
    "outputId": "2ba8ab2e-c4ee-4b57-bab9-be24f839521a"
   },
   "outputs": [
    {
     "name": "stdout",
     "output_type": "stream",
     "text": [
      "training started\n",
      "training finished, took 0.47425222396850586 seconds\n",
      "0.8994308333333333\n",
      "training error: 0.1354375\n",
      "validation error: 0.15700000000000003\n"
     ]
    }
   ],
   "source": [
    "knn_classifier = neighbors.KNeighborsClassifier(n_neighbors=20,metric= 'manhattan',weights='uniform', n_jobs=-1)\n",
    "\n",
    "print(\"training started\")\n",
    "starting_time = time.time()\n",
    "knn_classifier.fit(x_train, y_train)\n",
    "end_time = time.time()\n",
    "print(\"training finished, took {} seconds\".format(end_time - starting_time))\n",
    "\n",
    "y_validation_hat = knn_classifier.predict_proba(x_validation)[:,1]\n",
    "\n",
    "knn_classifier_roc = metrics.roc_auc_score(y_validation, y_validation_hat)\n",
    "rocs_arr.append((knn_classifier_roc,'knn'))\n",
    "print(knn_classifier_roc)\n",
    "\n",
    "print(\"training error:\", 1 - knn_classifier.score(x_train, y_train))\n",
    "print(\"validation error:\", 1 - knn_classifier.score(x_validation, y_validation))"
   ]
  },
  {
   "cell_type": "code",
   "execution_count": 48,
   "metadata": {
    "colab": {
     "autoexec": {
      "startup": false,
      "wait_interval": 0
     },
     "base_uri": "https://localhost:8080/",
     "height": 102
    },
    "colab_type": "code",
    "executionInfo": {
     "elapsed": 274039,
     "status": "ok",
     "timestamp": 1528623213922,
     "user": {
      "displayName": "Shikhar Sanstuti",
      "photoUrl": "https://lh3.googleusercontent.com/a/default-user=s128",
      "userId": "104523707733308642668"
     },
     "user_tz": 420
    },
    "id": "O6PEJcb0v2Or",
    "outputId": "21c7774c-d49d-4ef9-ecdc-a3d676f5350b"
   },
   "outputs": [
    {
     "name": "stdout",
     "output_type": "stream",
     "text": [
      "training started\n",
      "training finished, took 246.38654565811157 seconds\n",
      "0.8867236666666667\n",
      "training error: 0.13143749999999998\n",
      "validation error: 0.14525\n"
     ]
    }
   ],
   "source": [
    "gammas = [0.001, 0.01, 0.1, 1]\n",
    "param_grid = {\n",
    "    'C': [0.001, 0.01, 0.1, 1, 10],\n",
    "    'gamma': [0.001, 0.01, 0.1, 1],\n",
    "    }\n",
    "#svm_classifier = model_selection.GridSearchCV(svm.SVC(kernel='rbf',probability=True), param_grid, cv=10,verbose=2)\n",
    "\n",
    "svm_classifier = svm.SVC(kernel='rbf',probability=True)\n",
    "print(\"training started\")\n",
    "starting_time = time.time()\n",
    "svm_classifier.fit(x_train, y_train)\n",
    "end_time = time.time()\n",
    "print(\"training finished, took {} seconds\".format(end_time - starting_time))\n",
    "\n",
    "y_validation_hat = svm_classifier.predict_proba(x_validation)[:,1]\n",
    "\n",
    "svm_classifier_roc = metrics.roc_auc_score(y_validation, y_validation_hat)\n",
    "rocs_arr.append((svm_classifier_roc,'svm'))\n",
    "print(svm_classifier_roc)\n",
    "\n",
    "print(\"training error:\", 1 - svm_classifier.score(x_train, y_train))\n",
    "print(\"validation error:\", 1 - svm_classifier.score(x_validation, y_validation))"
   ]
  },
  {
   "cell_type": "code",
   "execution_count": 49,
   "metadata": {
    "colab": {
     "autoexec": {
      "startup": false,
      "wait_interval": 0
     },
     "base_uri": "https://localhost:8080/",
     "height": 102
    },
    "colab_type": "code",
    "executionInfo": {
     "elapsed": 3191,
     "status": "ok",
     "timestamp": 1528623217177,
     "user": {
      "displayName": "Shikhar Sanstuti",
      "photoUrl": "https://lh3.googleusercontent.com/a/default-user=s128",
      "userId": "104523707733308642668"
     },
     "user_tz": 420
    },
    "id": "5XxjBtX93EeQ",
    "outputId": "220e0c25-ffea-4307-b527-169b2dc87ee4"
   },
   "outputs": [
    {
     "name": "stdout",
     "output_type": "stream",
     "text": [
      "training started\n",
      "training finished, took 2.270195484161377 seconds\n",
      "0.9134686666666667\n",
      "training error: 0.10375000000000001\n",
      "validation error: 0.14449999999999996\n"
     ]
    }
   ],
   "source": [
    "params = {'criterion': 'entropy',\n",
    " 'max_depth': 50,\n",
    " 'max_features': 'sqrt',\n",
    " 'min_samples_leaf': 2,\n",
    " 'min_samples_split': 2,\n",
    " 'n_estimators': 100,\n",
    " 'oob_score': True\n",
    "}\n",
    "random_forest_classifier = ensemble.RandomForestClassifier(**params)\n",
    "\n",
    "print(\"training started\")\n",
    "starting_time = time.time()\n",
    "random_forest_classifier.fit(x_train, y_train)\n",
    "end_time = time.time()\n",
    "print(\"training finished, took {} seconds\".format(end_time - starting_time))\n",
    "\n",
    "random_forest_classifier_roc = metrics.roc_auc_score(\n",
    "    y_validation, random_forest_classifier.predict_proba(x_validation)[:,1])\n",
    "print(random_forest_classifier_roc)\n",
    "rocs_arr.append((random_forest_classifier_roc,'rf'))\n",
    "\n",
    "print(\"training error:\", 1 - random_forest_classifier.score(x_train, y_train))\n",
    "print(\"validation error:\", 1 - random_forest_classifier.score(x_validation, y_validation))"
   ]
  },
  {
   "cell_type": "code",
   "execution_count": 50,
   "metadata": {
    "colab": {
     "autoexec": {
      "startup": false,
      "wait_interval": 0
     },
     "base_uri": "https://localhost:8080/",
     "height": 102
    },
    "colab_type": "code",
    "executionInfo": {
     "elapsed": 53670,
     "status": "ok",
     "timestamp": 1528623270920,
     "user": {
      "displayName": "Shikhar Sanstuti",
      "photoUrl": "https://lh3.googleusercontent.com/a/default-user=s128",
      "userId": "104523707733308642668"
     },
     "user_tz": 420
    },
    "id": "wyw93CDzJECO",
    "outputId": "aac3ccda-ce08-423d-98c0-7801466b9f75"
   },
   "outputs": [
    {
     "name": "stdout",
     "output_type": "stream",
     "text": [
      "training started\n",
      "training finished, took 53.11860394477844 seconds\n",
      "validation roc: 0.8771570000000002\n",
      "training error: 0.058250000000000024\n",
      "validation error: 0.17374999999999996\n"
     ]
    }
   ],
   "source": [
    "neural_network_classifier = pipeline.Pipeline([\n",
    "    (\"scale\", preprocessing.StandardScaler().fit(x_train)),\n",
    "    (\"nn\", neural_network.MLPClassifier(\n",
    "        hidden_layer_sizes=(14*20, 14*10),\n",
    "        warm_start=True))])\n",
    "\n",
    "print(\"training started\")\n",
    "starting_time = time.time()\n",
    "neural_network_classifier.fit(x_train, y_train)\n",
    "end_time = time.time()\n",
    "print(\"training finished, took {} seconds\".format(end_time - starting_time))\n",
    "\n",
    "neural_network_classifier_roc = metrics.roc_auc_score(\n",
    "    y_validation, neural_network_classifier.predict_proba(x_validation)[:,1])\n",
    "rocs_arr.append((neural_network_classifier,'nn'))\n",
    "print(\"validation roc:\", neural_network_classifier_roc)\n",
    "print(\"training error:\", 1 - neural_network_classifier.score(x_train, y_train))\n",
    "print(\"validation error:\", 1 - neural_network_classifier.score(x_validation, y_validation))"
   ]
  },
  {
   "cell_type": "code",
   "execution_count": 51,
   "metadata": {
    "colab": {
     "autoexec": {
      "startup": false,
      "wait_interval": 0
     },
     "base_uri": "https://localhost:8080/",
     "height": 102
    },
    "colab_type": "code",
    "executionInfo": {
     "elapsed": 2695,
     "status": "ok",
     "timestamp": 1528623273689,
     "user": {
      "displayName": "Shikhar Sanstuti",
      "photoUrl": "https://lh3.googleusercontent.com/a/default-user=s128",
      "userId": "104523707733308642668"
     },
     "user_tz": 420
    },
    "id": "Tq62sMysJECT",
    "outputId": "4709a210-2a5f-4054-e141-c9a56cc1f7f0"
   },
   "outputs": [
    {
     "name": "stdout",
     "output_type": "stream",
     "text": [
      "training started\n",
      "training finished, took 1.6927340030670166 seconds\n",
      "validation roc: 0.8984688333333334\n",
      "training error: 0.1281875\n",
      "validation error: 0.16474999999999995\n"
     ]
    }
   ],
   "source": [
    "extra_tree_classifier = ensemble.ExtraTreesClassifier(\n",
    "    n_estimators=100, max_depth=50, min_samples_split=10, min_samples_leaf=2, max_features='sqrt', n_jobs=-1)\n",
    "\n",
    "print(\"training started\")\n",
    "starting_time = time.time()\n",
    "extra_tree_classifier.fit(x_train, y_train)\n",
    "end_time = time.time()\n",
    "print(\"training finished, took {} seconds\".format(end_time - starting_time))\n",
    "\n",
    "extra_tree_classifier_roc = metrics.roc_auc_score(\n",
    "    y_validation, extra_tree_classifier.predict_proba(x_validation)[:,1])\n",
    "rocs_arr.append((extra_tree_classifier_roc,'extra'))\n",
    "print(\"validation roc:\", extra_tree_classifier_roc)\n",
    "print(\"training error:\", 1 - extra_tree_classifier.score(x_train, y_train))\n",
    "print(\"validation error:\", 1 - extra_tree_classifier.score(x_validation, y_validation))"
   ]
  },
  {
   "cell_type": "code",
   "execution_count": 52,
   "metadata": {
    "colab": {
     "autoexec": {
      "startup": false,
      "wait_interval": 0
     },
     "base_uri": "https://localhost:8080/",
     "height": 102
    },
    "colab_type": "code",
    "executionInfo": {
     "elapsed": 9190,
     "status": "ok",
     "timestamp": 1528623282906,
     "user": {
      "displayName": "Shikhar Sanstuti",
      "photoUrl": "https://lh3.googleusercontent.com/a/default-user=s128",
      "userId": "104523707733308642668"
     },
     "user_tz": 420
    },
    "id": "y-OTrXSDJECd",
    "outputId": "cce97438-a67c-4a3b-f1f1-c0f20b270488"
   },
   "outputs": [
    {
     "name": "stdout",
     "output_type": "stream",
     "text": [
      "training started\n",
      "training finished, took 8.799843549728394 seconds\n",
      "0.9156711666666668\n",
      "training error: 0.083125\n",
      "validation error: 0.14024999999999999\n"
     ]
    }
   ],
   "source": [
    "\n",
    "\n",
    "gradient_boosting_classifier = ensemble.GradientBoostingClassifier(n_estimators=100, learning_rate=0.5,\n",
    "     max_depth=50, max_leaf_nodes=15, random_state=0)\n",
    "\n",
    "print(\"training started\")\n",
    "starting_time = time.time()\n",
    "gradient_boosting_classifier.fit(x_train, y_train)\n",
    "end_time = time.time()\n",
    "print(\"training finished, took {} seconds\".format(end_time - starting_time))\n",
    "\n",
    "gradient_boosting_classifier_roc = metrics.roc_auc_score(\n",
    "   y_validation, gradient_boosting_classifier.predict_proba(x_validation)[:,1])\n",
    "print(gradient_boosting_classifier_roc)\n",
    "rocs_arr.append((gradient_boosting_classifier_roc,'gradient-boosting'))\n",
    "\n",
    "print(\"training error:\", 1 - gradient_boosting_classifier.score(x_train, y_train))\n",
    "print(\"validation error:\", 1 - gradient_boosting_classifier.score(x_validation, y_validation))"
   ]
  },
  {
   "cell_type": "code",
   "execution_count": 53,
   "metadata": {
    "colab": {
     "autoexec": {
      "startup": false,
      "wait_interval": 0
     },
     "base_uri": "https://localhost:8080/",
     "height": 102
    },
    "colab_type": "code",
    "executionInfo": {
     "elapsed": 40490,
     "status": "ok",
     "timestamp": 1528623323455,
     "user": {
      "displayName": "Shikhar Sanstuti",
      "photoUrl": "https://lh3.googleusercontent.com/a/default-user=s128",
      "userId": "104523707733308642668"
     },
     "user_tz": 420
    },
    "id": "f-p0rMx3JECi",
    "outputId": "49024de7-2675-44c9-8f55-e484c29d66b8"
   },
   "outputs": [
    {
     "name": "stdout",
     "output_type": "stream",
     "text": [
      "training started\n",
      "training finished, took 26.751205921173096 seconds\n",
      "0.9040808333333334\n",
      "training error: 0.09450000000000003\n",
      "validation error: 0.13824999999999998\n"
     ]
    }
   ],
   "source": [
    "ada_classifier = ensemble.AdaBoostClassifier(tree.DecisionTreeClassifier(max_depth=2, max_features='sqrt'),\n",
    "               n_estimators=3000, learning_rate=0.5)\n",
    "\n",
    "print(\"training started\")\n",
    "starting_time = time.time()\n",
    "ada_classifier.fit(x_train, y_train)\n",
    "end_time = time.time()\n",
    "print(\"training finished, took {} seconds\".format(end_time - starting_time))\n",
    "\n",
    "ada_classifier_roc = metrics.roc_auc_score(\n",
    "   y_validation, ada_classifier.predict_proba(x_validation)[:,1])\n",
    "print(ada_classifier_roc)\n",
    "rocs_arr.append((ada_classifier_roc,'ada'))\n",
    "\n",
    "print(\"training error:\", 1 - ada_classifier.score(x_train, y_train))\n",
    "print(\"validation error:\", 1 - ada_classifier.score(x_validation, y_validation))"
   ]
  },
  {
   "cell_type": "code",
   "execution_count": 0,
   "metadata": {
    "colab": {
     "autoexec": {
      "startup": false,
      "wait_interval": 0
     }
    },
    "colab_type": "code",
    "id": "6kckMWm67d0I"
   },
   "outputs": [],
   "source": [
    "def find_best_range(a,b,c,d,e):\n",
    "  classifier_list = [\n",
    "       (\"logistic_regression\", logistic_classifier, a),\n",
    "       (\"k_nearest_neighbor\", knn_classifier, b),\n",
    "       (\"random_forest\", random_forest_classifier, c),\n",
    "       (\"gradient_boosting\", gradient_boosting_classifier, d),\n",
    "       (\"ada_boosting\", ada_classifier, e),\n",
    "  ]\n",
    "  y_validation_hat_list = []\n",
    "  for classifier in classifier_list:\n",
    "      y_validation_hat = classifier[1].predict_proba(x_validation)[:,1]\n",
    "      for i in range(classifier[2]):\n",
    "          y_validation_hat_list.append(y_validation_hat)\n",
    "\n",
    "  y_validation_hat_average = np.mean(np.array(y_validation_hat_list), axis=0)\n",
    "\n",
    "  voting_roc = metrics.roc_auc_score(y_validation, y_validation_hat_average)\n",
    "  return (voting_roc, [classifier[2] for classifier in classifier_list])\n"
   ]
  },
  {
   "cell_type": "code",
   "execution_count": 67,
   "metadata": {
    "colab": {
     "autoexec": {
      "startup": false,
      "wait_interval": 0
     },
     "base_uri": "https://localhost:8080/",
     "height": 119
    },
    "colab_type": "code",
    "executionInfo": {
     "elapsed": 376,
     "status": "ok",
     "timestamp": 1528623834951,
     "user": {
      "displayName": "Shikhar Sanstuti",
      "photoUrl": "https://lh3.googleusercontent.com/a/default-user=s128",
      "userId": "104523707733308642668"
     },
     "user_tz": 420
    },
    "id": "Fhm_VLYjFGcH",
    "outputId": "7760cc77-0dfb-4392-dd9f-69654b9e370e"
   },
   "outputs": [
    {
     "name": "stdout",
     "output_type": "stream",
     "text": [
      "(0.8867236666666667, 'svm')\n",
      "(0.8955869999999999, 'logistic')\n",
      "(0.8994308333333333, 'knn')\n",
      "(0.9040808333333334, 'ada')\n",
      "(0.9134686666666667, 'rf')\n",
      "(0.9156711666666668, 'gradient-boosting')\n"
     ]
    }
   ],
   "source": [
    "for i in sorted(rocs_arr): print(i)"
   ]
  },
  {
   "cell_type": "code",
   "execution_count": 88,
   "metadata": {
    "colab": {
     "autoexec": {
      "startup": false,
      "wait_interval": 0
     },
     "base_uri": "https://localhost:8080/",
     "height": 156
    },
    "colab_type": "code",
    "executionInfo": {
     "elapsed": 335539,
     "status": "ok",
     "timestamp": 1528627102075,
     "user": {
      "displayName": "Shikhar Sanstuti",
      "photoUrl": "https://lh3.googleusercontent.com/a/default-user=s128",
      "userId": "104523707733308642668"
     },
     "user_tz": 420
    },
    "id": "TTQQGQt17-QT",
    "outputId": "d23701b8-51e1-4343-c6ab-b4db74d8366c"
   },
   "outputs": [
    {
     "name": "stdout",
     "output_type": "stream",
     "text": [
      "10\n",
      "20\n",
      "30\n",
      "40\n",
      "50\n",
      "54\n",
      "[(0.9203226666666666, [1, 4, 10, 10, 20]), (0.9202473333333333, [1, 4, 10, 10, 15]), (0.9201846666666667, [1, 4, 10, 10, 10]), (0.9201343333333334, [1, 4, 15, 10, 20]), (0.920122, [1, 4, 10, 15, 20]), (0.9200816666666667, [1, 4, 15, 15, 20]), (0.9200756666666667, [1, 4, 10, 15, 15]), (0.9200756666666666, [1, 4, 15, 10, 15]), (0.9200246666666666, [1, 4, 15, 15, 15]), (0.9200203333333334, [1, 4, 15, 10, 10]), (0.9200196666666666, [1, 2, 10, 10, 20]), (0.9200153333333334, [1, 4, 10, 15, 10]), (0.9199740000000001, [1, 4, 15, 15, 10]), (0.9199406666666667, [1, 4, 15, 20, 20]), (0.9199396666666667, [1, 2, 10, 10, 15]), (0.9198930000000001, [1, 4, 15, 20, 15]), (0.9198923333333332, [1, 4, 20, 15, 20]), (0.919873, [1, 4, 20, 20, 20]), (0.9198713333333335, [1, 2, 10, 10, 10]), (0.91986, [1, 4, 10, 20, 20]), (0.91985, [1, 4, 15, 20, 10]), (0.9198459999999999, [1, 4, 20, 15, 15]), (0.9198323333333334, [1, 4, 20, 20, 15]), (0.9198163333333332, [1, 4, 20, 15, 10]), (0.9198156666666668, [1, 4, 10, 20, 15]), (0.919801, [1, 4, 20, 20, 10]), (0.9197656666666667, [1, 2, 10, 15, 20]), (0.919759, [1, 4, 10, 20, 10]), (0.9197243333333333, [1, 4, 20, 10, 20]), (0.9197116666666667, [1, 2, 15, 10, 20]), (0.9197063333333334, [1, 2, 10, 15, 15]), (0.9197059999999999, [1, 2, 15, 15, 20]), (0.919669, [1, 4, 20, 10, 15]), (0.9196583333333334, [1, 2, 15, 15, 15]), (0.9196496666666668, [1, 2, 10, 15, 10]), (0.9196406666666667, [1, 2, 15, 10, 15]), (0.9196199999999999, [1, 4, 20, 10, 10]), (0.9196116666666667, [1, 2, 15, 15, 10]), (0.919593, [1, 2, 15, 20, 20]), (0.9195816666666665, [1, 2, 15, 10, 10]), (0.9195543333333335, [1, 2, 20, 20, 20]), (0.919552, [1, 2, 10, 20, 20]), (0.9195473333333335, [1, 2, 15, 20, 15]), (0.9195423333333332, [1, 2, 20, 15, 20]), (0.9195183333333334, [1, 2, 20, 20, 15]), (0.9195053333333334, [1, 2, 15, 20, 10]), (0.919501, [1, 2, 10, 20, 15]), (0.9194963333333332, [1, 2, 20, 15, 15]), (0.9194719999999998, [1, 2, 20, 20, 10]), (0.9194559999999999, [1, 2, 20, 15, 10]), (0.9194443333333333, [1, 2, 10, 20, 10]), (0.9192963333333334, [1, 2, 20, 10, 20]), (0.9192289999999999, [1, 2, 20, 10, 15]), (0.919169, [1, 2, 20, 10, 10])]\n"
     ]
    }
   ],
   "source": [
    "count = 0\n",
    "all_ = []\n",
    "for a in [1]:\n",
    "  for b in [2,4]:\n",
    "    for c in [10,15,20]:\n",
    "      for d in [10,15,20]:\n",
    "        for e in [10,15,20]:\n",
    "          count += 1\n",
    "          if count%10==0: print(count)\n",
    "          all_.append(find_best_range(a,b,c,d,e))\n",
    "print(count)\n",
    "print(sorted(all_,reverse=True))"
   ]
  },
  {
   "cell_type": "code",
   "execution_count": 84,
   "metadata": {
    "colab": {
     "autoexec": {
      "startup": false,
      "wait_interval": 0
     },
     "base_uri": "https://localhost:8080/",
     "height": 34
    },
    "colab_type": "code",
    "executionInfo": {
     "elapsed": 300,
     "status": "ok",
     "timestamp": 1528625769329,
     "user": {
      "displayName": "Shikhar Sanstuti",
      "photoUrl": "https://lh3.googleusercontent.com/a/default-user=s128",
      "userId": "104523707733308642668"
     },
     "user_tz": 420
    },
    "id": "mE9lF_ztMhcm",
    "outputId": "96dac5a2-5b51-4698-904e-247e304e7811"
   },
   "outputs": [
    {
     "name": "stdout",
     "output_type": "stream",
     "text": [
      "[(0.9168893333333334, [5, 1, 25, 5, 10]), (0.9169383333333334, [5, 1, 25, 5, 15]), (0.9170013333333332, [5, 1, 25, 5, 20])]\n"
     ]
    }
   ],
   "source": [
    "print(sorted(all_)[:5])"
   ]
  },
  {
   "cell_type": "code",
   "execution_count": 82,
   "metadata": {
    "colab": {
     "autoexec": {
      "startup": false,
      "wait_interval": 0
     },
     "base_uri": "https://localhost:8080/",
     "height": 34
    },
    "colab_type": "code",
    "executionInfo": {
     "elapsed": 455,
     "status": "ok",
     "timestamp": 1528625692787,
     "user": {
      "displayName": "Shikhar Sanstuti",
      "photoUrl": "https://lh3.googleusercontent.com/a/default-user=s128",
      "userId": "104523707733308642668"
     },
     "user_tz": 420
    },
    "id": "uUDZmtuEJP-c",
    "outputId": "3c6da1cf-cbb0-467f-97cf-320e7ce1e1ca"
   },
   "outputs": [
    {
     "name": "stdout",
     "output_type": "stream",
     "text": [
      "[(0.9171203333333333, [7, 2, 25, 5, 20]), (0.9171736666666668, [7, 2, 25, 5, 25]), (0.917427, [7, 2, 20, 5, 20]), (0.9174956666666666, [7, 2, 20, 5, 25]), (0.9177946666666668, [7, 4, 25, 5, 20])]\n"
     ]
    }
   ],
   "source": [
    "print(sorted(all_)[:5])"
   ]
  },
  {
   "cell_type": "code",
   "execution_count": 56,
   "metadata": {
    "colab": {
     "autoexec": {
      "startup": false,
      "wait_interval": 0
     },
     "base_uri": "https://localhost:8080/",
     "height": 51
    },
    "colab_type": "code",
    "executionInfo": {
     "elapsed": 11821,
     "status": "ok",
     "timestamp": 1528623336460,
     "user": {
      "displayName": "Shikhar Sanstuti",
      "photoUrl": "https://lh3.googleusercontent.com/a/default-user=s128",
      "userId": "104523707733308642668"
     },
     "user_tz": 420
    },
    "id": "Bo6tMiU8JECl",
    "outputId": "52552446-3c0a-497e-cc43-981d7373eae3"
   },
   "outputs": [
    {
     "name": "stdout",
     "output_type": "stream",
     "text": [
      "roc: 0.9167320000000001\n",
      "weight: [3, 4, 5, 11, 7, 7, 9, 8]\n"
     ]
    }
   ],
   "source": [
    "classifier_list = [\n",
    "     (\"logistic_regression\", logistic_classifier, 3),\n",
    "     (\"k_nearest_neighbor\", knn_classifier, 4),\n",
    "     (\"svm\",svm_classifier,5),\n",
    "     (\"random_forest\", random_forest_classifier, 11),\n",
    "     (\"extra_tree\", extra_tree_classifier, 7),\n",
    "     (\"neural_network\", neural_network_classifier, 7),\n",
    "     (\"gradient_boosting\", gradient_boosting_classifier, 9),\n",
    "     (\"ada_boosting\", ada_classifier, 8),\n",
    " ]\n",
    "\n",
    "y_validation_hat_list = []\n",
    "for classifier in classifier_list:\n",
    "    y_validation_hat = classifier[1].predict_proba(x_validation)[:,1]\n",
    "    for i in range(classifier[2]):\n",
    "        y_validation_hat_list.append(y_validation_hat)\n",
    "        \n",
    "y_validation_hat_average = np.mean(np.array(y_validation_hat_list), axis=0)\n",
    "\n",
    "voting_roc = metrics.roc_auc_score(y_validation, y_validation_hat_average)\n",
    "print(\"roc:\", voting_roc)\n",
    "print(\"weight:\", [classifier[2] for classifier in classifier_list])\n"
   ]
  },
  {
   "cell_type": "code",
   "execution_count": 129,
   "metadata": {
    "colab": {
     "autoexec": {
      "startup": false,
      "wait_interval": 0
     },
     "base_uri": "https://localhost:8080/",
     "height": 51
    },
    "colab_type": "code",
    "executionInfo": {
     "elapsed": 3028,
     "status": "ok",
     "timestamp": 1528628393975,
     "user": {
      "displayName": "Shikhar Sanstuti",
      "photoUrl": "https://lh3.googleusercontent.com/a/default-user=s128",
      "userId": "104523707733308642668"
     },
     "user_tz": 420
    },
    "id": "h4vQgKgG3tI9",
    "outputId": "59895cff-77ef-4fe5-b49b-799dc3c5d40a"
   },
   "outputs": [
    {
     "name": "stdout",
     "output_type": "stream",
     "text": [
      "roc: 0.9195211164542472\n",
      "weight: [3, 14, 9]\n"
     ]
    }
   ],
   "source": [
    "classifier_list = [\n",
    "    (\"k_nearest_neighbor\", knn_classifier, 3),\n",
    "    (\"random_forest\", random_forest_classifier, 14),\n",
    "    (\"gradient_boosting\", gradient_boosting_classifier, 9),\n",
    "]\n",
    "\n",
    "y_validation_hat_list = []\n",
    "for classifier in classifier_list:\n",
    "    y_validation_hat = classifier[1].predict_proba(x_validation)[:,1]\n",
    "    for i in range(classifier[2]):\n",
    "        y_validation_hat_list.append(y_validation_hat)\n",
    "        \n",
    "y_validation_hat_average = np.mean(np.array(y_validation_hat_list), axis=0)\n",
    "\n",
    "voting_roc = metrics.roc_auc_score(y_validation, y_validation_hat_average)\n",
    "print(\"roc:\", voting_roc)\n",
    "print(\"weight:\", [classifier[2] for classifier in classifier_list])\n"
   ]
  },
  {
   "cell_type": "code",
   "execution_count": 90,
   "metadata": {
    "colab": {
     "autoexec": {
      "startup": false,
      "wait_interval": 0
     },
     "base_uri": "https://localhost:8080/",
     "height": 51
    },
    "colab_type": "code",
    "executionInfo": {
     "elapsed": 5702,
     "status": "ok",
     "timestamp": 1528627145090,
     "user": {
      "displayName": "Shikhar Sanstuti",
      "photoUrl": "https://lh3.googleusercontent.com/a/default-user=s128",
      "userId": "104523707733308642668"
     },
     "user_tz": 420
    },
    "id": "BYTHUJ1pJECm",
    "outputId": "94d73e4b-f302-4769-fcbc-2a1b7d9432d1"
   },
   "outputs": [
    {
     "name": "stdout",
     "output_type": "stream",
     "text": [
      "roc: 0.9203226666666666\n",
      "weight: [1, 4, 10, 10, 20]\n"
     ]
    }
   ],
   "source": [
    " classifier_list = [\n",
    "    (\"logistic_regression\", logistic_classifier, 3),\n",
    "    (\"k_nearest_neighbor\", knn_classifier, 2),\n",
    "    (\"random_forest\", random_forest_classifier, 10),\n",
    "    (\"gradient_boosting\", gradient_boosting_classifier, 10),\n",
    "]\n",
    "\n",
    "classifier_list = [\n",
    "     (\"logistic_regression\", logistic_classifier, 1),\n",
    "     (\"k_nearest_neighbor\", knn_classifier, 4),\n",
    "     (\"random_forest\", random_forest_classifier, 10),\n",
    "     (\"gradient_boosting\", gradient_boosting_classifier, 10),\n",
    "     (\"ada_boosting\", ada_classifier, 20),\n",
    "]\n",
    "\n",
    "y_validation_hat_list = []\n",
    "for classifier in classifier_list:\n",
    "    y_validation_hat = classifier[1].predict_proba(x_validation)[:,1]\n",
    "    for i in range(classifier[2]):\n",
    "        y_validation_hat_list.append(y_validation_hat)\n",
    "        \n",
    "y_validation_hat_average = np.mean(np.array(y_validation_hat_list), axis=0)\n",
    "\n",
    "voting_roc = metrics.roc_auc_score(y_validation, y_validation_hat_average)\n",
    "print(\"roc:\", voting_roc)\n",
    "print(\"weight:\", [classifier[2] for classifier in classifier_list])"
   ]
  },
  {
   "cell_type": "code",
   "execution_count": 0,
   "metadata": {
    "colab": {
     "autoexec": {
      "startup": false,
      "wait_interval": 0
     }
    },
    "colab_type": "code",
    "id": "OvGEfD38JECp"
   },
   "outputs": [],
   "source": [
    "# a helper function to generate a file\n",
    "def to_kaggle(prediction):\n",
    "    current_time_str = time.strftime(\"%H-%M-%S_%a_%b_%d\", time.localtime())\n",
    "    file_name = base+\"{}.csv\".format(current_time_str)\n",
    "    fh = open(file_name,'w')\n",
    "    fh.write('ID,Prob1\\n')\n",
    "    for i,yi in enumerate(prediction):\n",
    "        fh.write('{},{}\\n'.format(i,yi))\n",
    "    fh.close()"
   ]
  },
  {
   "cell_type": "code",
   "execution_count": 0,
   "metadata": {
    "colab": {
     "autoexec": {
      "startup": false,
      "wait_interval": 0
     }
    },
    "colab_type": "code",
    "id": "GWmBdhnWJECq"
   },
   "outputs": [],
   "source": [
    "y_test_hat_list = []\n",
    "for classifier in classifier_list:\n",
    "#    y_test_hat = classifier[1].predict_proba(x_test)\n",
    "    y_test_hat = classifier[1].predict_proba(x_test)[:,1]\n",
    "    for i in range(classifier[2]):\n",
    "        y_test_hat_list.append(y_test_hat)\n",
    "        \n",
    "y_test_hat_average = np.mean(np.array(y_test_hat_list), axis=0)\n"
   ]
  },
  {
   "cell_type": "code",
   "execution_count": 98,
   "metadata": {
    "colab": {
     "autoexec": {
      "startup": false,
      "wait_interval": 0
     },
     "base_uri": "https://localhost:8080/",
     "height": 136
    },
    "colab_type": "code",
    "executionInfo": {
     "elapsed": 310,
     "status": "ok",
     "timestamp": 1528627318055,
     "user": {
      "displayName": "Shikhar Sanstuti",
      "photoUrl": "https://lh3.googleusercontent.com/a/default-user=s128",
      "userId": "104523707733308642668"
     },
     "user_tz": 420
    },
    "id": "MR8AmValSVIJ",
    "outputId": "ad9f2527-39e3-493c-ece7-b08bb2e9d6c4"
   },
   "outputs": [
    {
     "data": {
      "text/plain": [
       "array([[0.71415048, 0.28584952],\n",
       "       [0.37969549, 0.62030451],\n",
       "       [0.47013737, 0.52986263],\n",
       "       ...,\n",
       "       [0.26953507, 0.73046493],\n",
       "       [0.69492532, 0.30507468],\n",
       "       [0.73977517, 0.26022483]])"
      ]
     },
     "execution_count": 98,
     "metadata": {
      "tags": []
     },
     "output_type": "execute_result"
    }
   ],
   "source": [
    "y_test_hat_average"
   ]
  },
  {
   "cell_type": "code",
   "execution_count": 0,
   "metadata": {
    "colab": {
     "autoexec": {
      "startup": false,
      "wait_interval": 0
     }
    },
    "colab_type": "code",
    "id": "cYmV4ip8JECs"
   },
   "outputs": [],
   "source": [
    "to_kaggle(y_test_hat_average)"
   ]
  },
  {
   "cell_type": "code",
   "execution_count": 0,
   "metadata": {
    "colab": {
     "autoexec": {
      "startup": false,
      "wait_interval": 0
     }
    },
    "colab_type": "code",
    "id": "oRiUyv2apmzh"
   },
   "outputs": [],
   "source": [
    "### ends here"
   ]
  },
  {
   "cell_type": "code",
   "execution_count": 0,
   "metadata": {
    "colab": {
     "autoexec": {
      "startup": false,
      "wait_interval": 0
     }
    },
    "colab_type": "code",
    "id": "GDDUCRhTpmwY"
   },
   "outputs": [],
   "source": [
    "### extra stuff"
   ]
  },
  {
   "cell_type": "code",
   "execution_count": 128,
   "metadata": {
    "colab": {
     "autoexec": {
      "startup": false,
      "wait_interval": 0
     },
     "base_uri": "https://localhost:8080/",
     "height": 102
    },
    "colab_type": "code",
    "executionInfo": {
     "elapsed": 15420,
     "status": "ok",
     "timestamp": 1528628374926,
     "user": {
      "displayName": "Shikhar Sanstuti",
      "photoUrl": "https://lh3.googleusercontent.com/a/default-user=s128",
      "userId": "104523707733308642668"
     },
     "user_tz": 420
    },
    "id": "oh2C5xHoUa6g",
    "outputId": "f999c8c8-c5b5-46bf-bbb0-eb8192818fe2"
   },
   "outputs": [
    {
     "name": "stdout",
     "output_type": "stream",
     "text": [
      "training started\n",
      "training finished, took 0.4746565818786621 seconds\n",
      "0.8635481698984451\n",
      "training error: 0.017437499999999995\n",
      "validation error: 0.16000000000000003\n"
     ]
    }
   ],
   "source": [
    "knn_classifier = neighbors.KNeighborsClassifier(n_neighbors=10, weights=\"distance\", n_jobs=-1)\n",
    "\n",
    "print(\"training started\")\n",
    "starting_time = time.time()\n",
    "knn_classifier.fit(x_train, y_train)\n",
    "end_time = time.time()\n",
    "print(\"training finished, took {} seconds\".format(end_time - starting_time))\n",
    "\n",
    "y_validation_hat = knn_classifier.predict_proba(x_validation)[:,1]\n",
    "\n",
    "knn_classifier_roc = metrics.roc_auc_score(y_validation, y_validation_hat)\n",
    "print(knn_classifier_roc)\n",
    "\n",
    "print(\"training error:\", 1 - knn_classifier.score(x_train, y_train))\n",
    "print(\"validation error:\", 1 - knn_classifier.score(x_validation, y_validation))"
   ]
  },
  {
   "cell_type": "code",
   "execution_count": 127,
   "metadata": {
    "colab": {
     "autoexec": {
      "startup": false,
      "wait_interval": 0
     },
     "base_uri": "https://localhost:8080/",
     "height": 102
    },
    "colab_type": "code",
    "executionInfo": {
     "elapsed": 20182,
     "status": "ok",
     "timestamp": 1528628354684,
     "user": {
      "displayName": "Shikhar Sanstuti",
      "photoUrl": "https://lh3.googleusercontent.com/a/default-user=s128",
      "userId": "104523707733308642668"
     },
     "user_tz": 420
    },
    "id": "IFZx6ADYUcr-",
    "outputId": "23e259b5-0e98-4759-8270-9c9e8cf04d40"
   },
   "outputs": [
    {
     "name": "stdout",
     "output_type": "stream",
     "text": [
      "training started\n",
      "training finished, took 15.64475417137146 seconds\n",
      "0.909182015455696\n",
      "training error: 0.12450000000000006\n",
      "validation error: 0.14925\n"
     ]
    }
   ],
   "source": [
    "random_forest_classifier = ensemble.RandomForestClassifier(\n",
    "    n_estimators=1000, min_samples_leaf=4, n_jobs=-1, oob_score=True)\n",
    "\n",
    "print(\"training started\")\n",
    "starting_time = time.time()\n",
    "random_forest_classifier.fit(x_train, y_train)\n",
    "end_time = time.time()\n",
    "print(\"training finished, took {} seconds\".format(end_time - starting_time))\n",
    "\n",
    "random_forest_classifier_roc = metrics.roc_auc_score(\n",
    "    y_validation, random_forest_classifier.predict_proba(x_validation)[:,1])\n",
    "print(random_forest_classifier_roc)\n",
    "\n",
    "print(\"training error:\", 1 - random_forest_classifier.score(x_train, y_train))\n",
    "print(\"validation error:\", 1 - random_forest_classifier.score(x_validation, y_validation))"
   ]
  },
  {
   "cell_type": "code",
   "execution_count": 126,
   "metadata": {
    "colab": {
     "autoexec": {
      "startup": false,
      "wait_interval": 0
     },
     "base_uri": "https://localhost:8080/",
     "height": 102
    },
    "colab_type": "code",
    "executionInfo": {
     "elapsed": 9182,
     "status": "ok",
     "timestamp": 1528628334407,
     "user": {
      "displayName": "Shikhar Sanstuti",
      "photoUrl": "https://lh3.googleusercontent.com/a/default-user=s128",
      "userId": "104523707733308642668"
     },
     "user_tz": 420
    },
    "id": "gZlXruOoUioJ",
    "outputId": "aacae6ff-4486-4b26-98a3-b6b3c342a512"
   },
   "outputs": [
    {
     "name": "stdout",
     "output_type": "stream",
     "text": [
      "training started\n",
      "training finished, took 8.785734415054321 seconds\n",
      "0.9140580697511657\n",
      "training error: 0.08431250000000001\n",
      "validation error: 0.14275000000000004\n"
     ]
    }
   ],
   "source": [
    "gradient_boosting_classifier = ensemble.GradientBoostingClassifier(n_estimators=100, learning_rate=0.5,\n",
    "     max_depth=10, max_leaf_nodes=15, random_state=0)\n",
    "\n",
    "print(\"training started\")\n",
    "starting_time = time.time()\n",
    "gradient_boosting_classifier.fit(x_train, y_train)\n",
    "end_time = time.time()\n",
    "print(\"training finished, took {} seconds\".format(end_time - starting_time))\n",
    "\n",
    "gradient_boosting_classifier_roc = metrics.roc_auc_score(\n",
    "   y_validation, gradient_boosting_classifier.predict_proba(x_validation)[:,1])\n",
    "print(gradient_boosting_classifier_roc)\n",
    "\n",
    "print(\"training error:\", 1 - gradient_boosting_classifier.score(x_train, y_train))\n",
    "print(\"validation error:\", 1 - gradient_boosting_classifier.score(x_validation, y_validation))"
   ]
  },
  {
   "cell_type": "code",
   "execution_count": 0,
   "metadata": {
    "colab": {
     "autoexec": {
      "startup": false,
      "wait_interval": 0
     }
    },
    "colab_type": "code",
    "id": "nqCC_l1nuY8p"
   },
   "outputs": [],
   "source": [
    "# Full dataset"
   ]
  },
  {
   "cell_type": "code",
   "execution_count": 11,
   "metadata": {
    "colab": {
     "autoexec": {
      "startup": false,
      "wait_interval": 0
     },
     "base_uri": "https://localhost:8080/",
     "height": 34
    },
    "colab_type": "code",
    "executionInfo": {
     "elapsed": 17140,
     "status": "ok",
     "timestamp": 1528830868995,
     "user": {
      "displayName": "Shikhar Sanstuti",
      "photoUrl": "https://lh3.googleusercontent.com/a/default-user=s128",
      "userId": "104523707733308642668"
     },
     "user_tz": 420
    },
    "id": "ZeDXyiP2uZcd",
    "outputId": "73af8cdb-63eb-41c5-8eec-77bfe2483a01"
   },
   "outputs": [
    {
     "name": "stdout",
     "output_type": "stream",
     "text": [
      "0.9266722432241473\n"
     ]
    }
   ],
   "source": [
    "knn_classifier = neighbors.KNeighborsClassifier(n_neighbors=20,metric= 'manhattan',weights='uniform', n_jobs=-1)\n",
    "\n",
    "knn_classifier.fit(x_data, y_data)\n",
    "\n",
    "y_validation_hat = knn_classifier.predict_proba(x_data)[:,1]\n",
    "\n",
    "knn_classifier_roc = metrics.roc_auc_score(y_data, y_validation_hat)\n",
    "print(knn_classifier_roc)"
   ]
  },
  {
   "cell_type": "code",
   "execution_count": 12,
   "metadata": {
    "colab": {
     "autoexec": {
      "startup": false,
      "wait_interval": 0
     },
     "base_uri": "https://localhost:8080/",
     "height": 34
    },
    "colab_type": "code",
    "executionInfo": {
     "elapsed": 3244,
     "status": "ok",
     "timestamp": 1528830872266,
     "user": {
      "displayName": "Shikhar Sanstuti",
      "photoUrl": "https://lh3.googleusercontent.com/a/default-user=s128",
      "userId": "104523707733308642668"
     },
     "user_tz": 420
    },
    "id": "D_-Gn80Oum3x",
    "outputId": "a61a8d11-078f-4254-d7e3-e2d8f6ebc0b0"
   },
   "outputs": [
    {
     "name": "stdout",
     "output_type": "stream",
     "text": [
      "0.958895283776057\n"
     ]
    }
   ],
   "source": [
    "params = {'criterion': 'entropy',\n",
    " 'max_depth': 50,\n",
    " 'max_features': 'sqrt',\n",
    " 'min_samples_leaf': 2,\n",
    " 'min_samples_split': 2,\n",
    " 'n_estimators': 100,\n",
    " 'oob_score': True\n",
    "}\n",
    "random_forest_classifier = ensemble.RandomForestClassifier(**params)\n",
    "\n",
    "random_forest_classifier.fit(x_data, y_data)\n",
    "\n",
    "random_forest_classifier_roc = metrics.roc_auc_score(\n",
    "    y_data, random_forest_classifier.predict_proba(x_data)[:,1])\n",
    "print(random_forest_classifier_roc)\n"
   ]
  },
  {
   "cell_type": "code",
   "execution_count": 23,
   "metadata": {
    "colab": {
     "autoexec": {
      "startup": false,
      "wait_interval": 0
     },
     "base_uri": "https://localhost:8080/",
     "height": 232
    },
    "colab_type": "code",
    "executionInfo": {
     "elapsed": 8985,
     "status": "error",
     "timestamp": 1529114108482,
     "user": {
      "displayName": "Smitha Gurunathakrishnan Balagurunatan",
      "photoUrl": "//lh6.googleusercontent.com/-IohuXqjCt80/AAAAAAAAAAI/AAAAAAAAAA4/gjbeAeEZUbc/s50-c-k-no/photo.jpg",
      "userId": "115069811497394769579"
     },
     "user_tz": 420
    },
    "id": "jJK3kU0ku3-h",
    "outputId": "b848ddf0-eea1-41be-8378-22e86cd30d62"
   },
   "outputs": [
    {
     "name": "stdout",
     "output_type": "stream",
     "text": [
      "0.9439924061249212\n",
      "0.9592385521073499\n",
      "0.96556403620827\n",
      "0.9730988341887723\n",
      "0.9817287459101549\n",
      "0.9873617355450196\n",
      "0.9902780536267501\n",
      "0.992581779936266\n"
     ]
    },
    {
     "data": {
      "image/png": "[encoded data removed]",
      "text/plain": [
       "<matplotlib.figure.Figure at 0x119158278>"
      ]
     },
     "metadata": {},
     "output_type": "display_data"
    }
   ],
   "source": [
    "import matplotlib.pyplot as plt\n",
    "nums = [10,30,50,70,100,120]\n",
    "roc = []\n",
    "for n in nums:\n",
    "    gradient_boosting_classifier = ensemble.GradientBoostingClassifier(n_estimators=100, learning_rate=0.5,\n",
    "      max_depth=n, max_leaf_nodes=15, random_state=0)\n",
    "#    gradient_boosting_classifier = ensemble.GradientBoostingClassifier(n_estimators=100, learning_rate=0.5,\n",
    "#     max_depth=50, max_leaf_nodes=15, random_state=0)\n",
    "    gradient_boosting_classifier.fit(x_data, y_data)\n",
    "\n",
    "    gradient_boosting_classifier_roc = metrics.roc_auc_score(\n",
    "    y_data, gradient_boosting_classifier.predict_proba(x_data)[:,1])\n",
    "    print(gradient_boosting_classifier_roc)\n",
    "    roc.append(gradient_boosting_classifier_roc)\n",
    "plt.plot(nums, roc,'g')\n",
    "plt.xlabel('max_depth range')\n",
    "plt.ylabel('Roc value')\n",
    "plt.title('max_depth vs Roc Value')\n",
    "#plt.legend(loc='upper left')\n",
    "plt.grid(True)\n",
    "plt.show()"
   ]
  },
  {
   "cell_type": "code",
   "execution_count": 27,
   "metadata": {
    "colab": {
     "autoexec": {
      "startup": false,
      "wait_interval": 0
     },
     "base_uri": "https://localhost:8080/",
     "height": 51
    },
    "colab_type": "code",
    "executionInfo": {
     "elapsed": 16674,
     "status": "ok",
     "timestamp": 1528831390226,
     "user": {
      "displayName": "Shikhar Sanstuti",
      "photoUrl": "https://lh3.googleusercontent.com/a/default-user=s128",
      "userId": "104523707733308642668"
     },
     "user_tz": 420
    },
    "id": "2ePmZZqrwaxf",
    "outputId": "ed2a7753-c7d0-4235-cc72-cb6aa51e1d35"
   },
   "outputs": [
    {
     "name": "stdout",
     "output_type": "stream",
     "text": [
      "roc: 0.9641600517682359\n",
      "weight: [3, 14, 9]\n"
     ]
    }
   ],
   "source": [
    "classifier_list = [\n",
    "    (\"k_nearest_neighbor\", knn_classifier, 3),\n",
    "    (\"random_forest\", random_forest_classifier, 14),\n",
    "    (\"gradient_boosting\", gradient_boosting_classifier, 9),\n",
    "]\n",
    "\n",
    "y_validation_hat_list = []\n",
    "for classifier in classifier_list:\n",
    "    y_validation_hat = classifier[1].predict_proba(x_data)[:,1]\n",
    "    for i in range(classifier[2]):\n",
    "        y_validation_hat_list.append(y_validation_hat)\n",
    "        \n",
    "y_validation_hat_average = np.mean(np.array(y_validation_hat_list), axis=0)\n",
    "\n",
    "voting_roc = metrics.roc_auc_score(y_data, y_validation_hat_average)\n",
    "print(\"roc:\", voting_roc)\n",
    "print(\"weight:\", [classifier[2] for classifier in classifier_list])\n"
   ]
  },
  {
   "cell_type": "code",
   "execution_count": 0,
   "metadata": {
    "colab": {
     "autoexec": {
      "startup": false,
      "wait_interval": 0
     }
    },
    "colab_type": "code",
    "id": "zr0bHtziwkDC"
   },
   "outputs": [],
   "source": [
    "y_test_hat_list = []\n",
    "for classifier in classifier_list:\n",
    "    y_test_hat = classifier[1].predict_proba(x_test)[:,1]\n",
    "    for i in range(classifier[2]):\n",
    "        y_test_hat_list.append(y_test_hat)\n",
    "        \n",
    "y_test_hat_average = np.mean(np.array(y_test_hat_list), axis=0)\n"
   ]
  },
  {
   "cell_type": "code",
   "execution_count": 0,
   "metadata": {
    "colab": {
     "autoexec": {
      "startup": false,
      "wait_interval": 0
     }
    },
    "colab_type": "code",
    "id": "rL18c_gNxUXz"
   },
   "outputs": [],
   "source": [
    "to_kaggle(y_test_hat_average)\n",
    "# .9641\n",
    "# Kaggle score - 0.91800\n",
    "# 3, 14, 9 weights"
   ]
  },
  {
   "cell_type": "code",
   "execution_count": 0,
   "metadata": {
    "colab": {
     "autoexec": {
      "startup": false,
      "wait_interval": 0
     }
    },
    "colab_type": "code",
    "id": "G-CV6_fOcSyv"
   },
   "outputs": [],
   "source": [
    "to_kaggle(y_test_hat_average)\n",
    "# .9648\n",
    "# Kaggle score - 0.91756\n",
    "# 2, 15, 15 weights"
   ]
  },
  {
   "cell_type": "code",
   "execution_count": 0,
   "metadata": {
    "colab": {
     "autoexec": {
      "startup": false,
      "wait_interval": 0
     }
    },
    "colab_type": "code",
    "id": "oxQ2-cffdDWX"
   },
   "outputs": [],
   "source": [
    "to_kaggle(y_test_hat_average)\n",
    "# .9641\n",
    "# Kaggle score - 0.91800\n",
    "# 3, 14, 9 weights"
   ]
  },
  {
   "cell_type": "code",
   "execution_count": 0,
   "metadata": {
    "colab": {
     "autoexec": {
      "startup": false,
      "wait_interval": 0
     }
    },
    "colab_type": "code",
    "id": "G_RBJas4kDV4"
   },
   "outputs": [],
   "source": [
    "#using XGB"
   ]
  },
  {
   "cell_type": "code",
   "execution_count": 0,
   "metadata": {
    "colab": {
     "autoexec": {
      "startup": false,
      "wait_interval": 0
     }
    },
    "colab_type": "code",
    "id": "QwMJH_I4jpWY"
   },
   "outputs": [],
   "source": [
    "import xgboost as xgb"
   ]
  },
  {
   "cell_type": "code",
   "execution_count": 15,
   "metadata": {
    "colab": {
     "autoexec": {
      "startup": false,
      "wait_interval": 0
     },
     "base_uri": "https://localhost:8080/",
     "height": 34
    },
    "colab_type": "code",
    "executionInfo": {
     "elapsed": 19226,
     "status": "ok",
     "timestamp": 1528853664379,
     "user": {
      "displayName": "Shikhar Sanstuti",
      "photoUrl": "https://lh3.googleusercontent.com/a/default-user=s128",
      "userId": "104523707733308642668"
     },
     "user_tz": 420
    },
    "id": "WpOt-2ILjKzC",
    "outputId": "b1c0fe6f-a63b-4101-c46b-a0e82ca0c435"
   },
   "outputs": [
    {
     "name": "stdout",
     "output_type": "stream",
     "text": [
      "0.9266722432241473\n"
     ]
    }
   ],
   "source": [
    "knn_classifier = neighbors.KNeighborsClassifier(n_neighbors=20,metric= 'manhattan',weights='uniform', n_jobs=-1)\n",
    "\n",
    "knn_classifier.fit(x_data, y_data)\n",
    "\n",
    "y_validation_hat = knn_classifier.predict_proba(x_data)[:,1]\n",
    "\n",
    "knn_classifier_roc = metrics.roc_auc_score(y_data, y_validation_hat)\n",
    "print(knn_classifier_roc)"
   ]
  },
  {
   "cell_type": "code",
   "execution_count": 16,
   "metadata": {
    "colab": {
     "autoexec": {
      "startup": false,
      "wait_interval": 0
     },
     "base_uri": "https://localhost:8080/",
     "height": 34
    },
    "colab_type": "code",
    "executionInfo": {
     "elapsed": 3473,
     "status": "ok",
     "timestamp": 1528853667905,
     "user": {
      "displayName": "Shikhar Sanstuti",
      "photoUrl": "https://lh3.googleusercontent.com/a/default-user=s128",
      "userId": "104523707733308642668"
     },
     "user_tz": 420
    },
    "id": "YMbzGNbPjLyq",
    "outputId": "44f0c112-596e-4ecc-f45f-ff821159c435"
   },
   "outputs": [
    {
     "name": "stdout",
     "output_type": "stream",
     "text": [
      "0.958895283776057\n"
     ]
    }
   ],
   "source": [
    "params = {'criterion': 'entropy',\n",
    " 'max_depth': 50,\n",
    " 'max_features': 'sqrt',\n",
    " 'min_samples_leaf': 2,\n",
    " 'min_samples_split': 2,\n",
    " 'n_estimators': 100,\n",
    " 'oob_score': True\n",
    "}\n",
    "random_forest_classifier = ensemble.RandomForestClassifier(**params)\n",
    "\n",
    "random_forest_classifier.fit(x_data, y_data)\n",
    "\n",
    "random_forest_classifier_roc = metrics.roc_auc_score(\n",
    "    y_data, random_forest_classifier.predict_proba(x_data)[:,1])\n",
    "print(random_forest_classifier_roc)\n"
   ]
  },
  {
   "cell_type": "code",
   "execution_count": 19,
   "metadata": {
    "colab": {
     "autoexec": {
      "startup": false,
      "wait_interval": 0
     },
     "base_uri": "https://localhost:8080/",
     "height": 34
    },
    "colab_type": "code",
    "executionInfo": {
     "elapsed": 4080,
     "status": "ok",
     "timestamp": 1528853734200,
     "user": {
      "displayName": "Shikhar Sanstuti",
      "photoUrl": "https://lh3.googleusercontent.com/a/default-user=s128",
      "userId": "104523707733308642668"
     },
     "user_tz": 420
    },
    "id": "YWa8CzA-joEJ",
    "outputId": "95250a23-1ffd-47db-b281-ce4ad1ebb50e"
   },
   "outputs": [
    {
     "name": "stdout",
     "output_type": "stream",
     "text": [
      "0.9143064614489239\n"
     ]
    }
   ],
   "source": [
    "params = {\n",
    "    'colsample_bytree' : 0.7,\n",
    "  'learning_rate' : 0.05,\n",
    "  'min_child_weight' : 11,\n",
    "  'missing': -999,\n",
    "  'n_estimators': 100,\n",
    "  'objective': 'binary:logistic',\n",
    "  'seed': 7,\n",
    "  'silent': 1,\n",
    "  'subsample': 0.8\n",
    "}\n",
    "xgb_model = xgb.XGBClassifier(**params)\n",
    "xgradient_boosting_classifier = []\n",
    "xgradient_boosting_classifier.append(('standardize', preprocessing.StandardScaler()))\n",
    "xgradient_boosting_classifier.append(('xgb', xgb_model))\n",
    "xgradient_boosting_classifier = pipeline.Pipeline(xgradient_boosting_classifier)\n",
    "xgradient_boosting_classifier.fit(x_data,y_data)\n",
    "\n",
    "xgradient_boosting_classifier_roc = metrics.roc_auc_score(\n",
    "   y_data, xgradient_boosting_classifier.predict_proba(x_data)[:,1])\n",
    "print(xgradient_boosting_classifier_roc)"
   ]
  },
  {
   "cell_type": "code",
   "execution_count": 31,
   "metadata": {
    "colab": {
     "autoexec": {
      "startup": false,
      "wait_interval": 0
     },
     "base_uri": "https://localhost:8080/",
     "height": 51
    },
    "colab_type": "code",
    "executionInfo": {
     "elapsed": 934,
     "status": "ok",
     "timestamp": 1528855851882,
     "user": {
      "displayName": "Shikhar Sanstuti",
      "photoUrl": "https://lh3.googleusercontent.com/a/default-user=s128",
      "userId": "104523707733308642668"
     },
     "user_tz": 420
    },
    "id": "4F_4l-eVj8Je",
    "outputId": "5b2d95b3-5ac0-4e6b-ac21-867e6cb2e56b"
   },
   "outputs": [
    {
     "name": "stdout",
     "output_type": "stream",
     "text": [
      "roc: 0.9534637974740089\n",
      "weight: [20, 5]\n"
     ]
    }
   ],
   "source": [
    "classifier_list = [\n",
    "#    (\"k_nearest_neighbor\", knn_classifier, 3),\n",
    "    (\"random_forest\", random_forest_classifier, 20),\n",
    "    (\"gradient_boosting\", xgradient_boosting_classifier, 5),\n",
    "]\n",
    "\n",
    "y_validation_hat_list = []\n",
    "for classifier in classifier_list:\n",
    "    y_validation_hat = classifier[1].predict_proba(x_data)[:,1]\n",
    "    for i in range(classifier[2]):\n",
    "        y_validation_hat_list.append(y_validation_hat)\n",
    "        \n",
    "y_validation_hat_average = np.mean(np.array(y_validation_hat_list), axis=0)\n",
    "\n",
    "voting_roc = metrics.roc_auc_score(y_data, y_validation_hat_average)\n",
    "print(\"roc:\", voting_roc)\n",
    "print(\"weight:\", [classifier[2] for classifier in classifier_list])\n"
   ]
  },
  {
   "cell_type": "code",
   "execution_count": 0,
   "metadata": {
    "colab": {
     "autoexec": {
      "startup": false,
      "wait_interval": 0
     }
    },
    "colab_type": "code",
    "id": "N33V2kbdkBLf"
   },
   "outputs": [],
   "source": [
    "y_test_hat_list = []\n",
    "for classifier in classifier_list:\n",
    "    y_test_hat = classifier[1].predict_proba(x_test)[:,1]\n",
    "    for i in range(classifier[2]):\n",
    "        y_test_hat_list.append(y_test_hat)\n",
    "        \n",
    "y_test_hat_average = np.mean(np.array(y_test_hat_list), axis=0)\n"
   ]
  },
  {
   "cell_type": "code",
   "execution_count": 0,
   "metadata": {
    "colab": {
     "autoexec": {
      "startup": false,
      "wait_interval": 0
     }
    },
    "colab_type": "code",
    "id": "R8Ly0IvFkH9x"
   },
   "outputs": [],
   "source": [
    "to_kaggle(y_test_hat_average)\n",
    "# 0.9481\n",
    "# Kaggle score - 0.91514\n",
    "# 3, 14, 9 weights"
   ]
  },
  {
   "cell_type": "code",
   "execution_count": 0,
   "metadata": {
    "colab": {
     "autoexec": {
      "startup": false,
      "wait_interval": 0
     }
    },
    "colab_type": "code",
    "id": "KlHa8lcm6au3"
   },
   "outputs": [],
   "source": [
    "# 0.9534\n",
    "# Kaggle - 0.91238\n",
    "# 20,5"
   ]
  },
  {
   "cell_type": "code",
   "execution_count": 0,
   "metadata": {
    "colab": {
     "autoexec": {
      "startup": false,
      "wait_interval": 0
     }
    },
    "colab_type": "code",
    "id": "XdhH1GFzjvaR"
   },
   "outputs": [],
   "source": [
    "parameters = {\n",
    "              'xgb__nthread':[64], #when use hyperthread, xgboost may become slower\n",
    "              'xgb__objective':['binary:logistic'],\n",
    "              'xgb__learning_rate': [0.01, 0.02, 0.05], #so called `eta` value\n",
    "              'xgb__max_depth': [10,15, 20, 30, 50,100, 500],\n",
    "              'xgb__min_child_weight': [11],\n",
    "              'xgb__silent': [1],\n",
    "              'xgb__subsample': [0.8],\n",
    "              'xgb__colsample_bytree': [0.7],\n",
    "              'xgb__n_estimators': [30,50,100], #number of trees, change it to 1000 for better results\n",
    "              'xgb__missing':[-999],\n",
    "              'xgb__seed': [seed]}\n",
    "\n",
    "\n",
    "clf = model_selection.GridSearchCV(model__, parameters, \n",
    "                   cv=10, \n",
    "                   scoring='roc_auc',\n",
    "                   verbose=2)"
   ]
  },
  {
   "cell_type": "code",
   "execution_count": 0,
   "metadata": {
    "colab": {
     "autoexec": {
      "startup": false,
      "wait_interval": 0
     }
    },
    "colab_type": "code",
    "id": "j3wI9-jwkwif"
   },
   "outputs": [],
   "source": [
    "#clf.fit(x_data,y_data)"
   ]
  },
  {
   "cell_type": "code",
   "execution_count": 41,
   "metadata": {
    "colab": {
     "autoexec": {
      "startup": false,
      "wait_interval": 0
     },
     "base_uri": "https://localhost:8080/",
     "height": 275
    },
    "colab_type": "code",
    "executionInfo": {
     "elapsed": 305,
     "status": "ok",
     "timestamp": 1528841369081,
     "user": {
      "displayName": "Shikhar Sanstuti",
      "photoUrl": "https://lh3.googleusercontent.com/a/default-user=s128",
      "userId": "104523707733308642668"
     },
     "user_tz": 420
    },
    "id": "WCcdRJZnjyIR",
    "outputId": "d6c7a14f-de7b-4f86-b09d-066a7544c902"
   },
   "outputs": [
    {
     "name": "stdout",
     "output_type": "stream",
     "text": [
      ": 0.9223899439273129\n",
      "xgb__colsample_bytree: 0.7\n",
      "xgb__learning_rate: 0.05\n",
      "xgb__max_depth: 10\n",
      "xgb__min_child_weight: 11\n",
      "xgb__missing: -999\n",
      "xgb__n_estimators: 100\n",
      "xgb__nthread: 64\n",
      "xgb__objective: 'binary:logistic'\n",
      "xgb__seed: None\n",
      "xgb__silent: 1\n",
      "xgb__subsample: 0.8\n"
     ]
    },
    {
     "name": "stderr",
     "output_type": "stream",
     "text": [
      "/usr/local/lib/python3.6/dist-packages/sklearn/model_selection/_search.py:761: DeprecationWarning: The grid_scores_ attribute was deprecated in version 0.18 in favor of the more elaborate cv_results_ attribute. The grid_scores_ attribute will not be available from 0.20\n",
      "  DeprecationWarning)\n"
     ]
    }
   ],
   "source": [
    "best_parameters, score, _ = max(clf.grid_scores_, key=lambda x: x[1])\n",
    "print(':', score)\n",
    "for param_name in sorted(best_parameters.keys()):\n",
    "    print(\"%s: %r\" % (param_name, best_parameters[param_name]))"
   ]
  },
  {
   "cell_type": "code",
   "execution_count": 0,
   "metadata": {
    "colab": {
     "autoexec": {
      "startup": false,
      "wait_interval": 0
     }
    },
    "colab_type": "code",
    "id": "hBRQQ9raKPJX"
   },
   "outputs": [],
   "source": []
  }
 ],
 "metadata": {
  "colab": {
   "collapsed_sections": [],
   "default_view": {},
   "name": "Stacked.ipynb",
   "provenance": [],
   "version": "0.3.2",
   "views": {}
  },
  "kernelspec": {
   "display_name": "Python 3",
   "language": "python",
   "name": "python3"
  },
  "language_info": {
   "codemirror_mode": {
    "name": "ipython",
    "version": 3
   },
   "file_extension": ".py",
   "mimetype": "text/x-python",
   "name": "python",
   "nbconvert_exporter": "python",
   "pygments_lexer": "ipython3",
   "version": "3.6.4"
  }
 },
 "nbformat": 4,
 "nbformat_minor": 1
}
