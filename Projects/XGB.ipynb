{
  "nbformat": 4,
  "nbformat_minor": 0,
  "metadata": {
    "colab": {
      "name": "XGB.ipynb",
      "version": "0.3.2",
      "provenance": [],
      "collapsed_sections": []
    },
    "kernelspec": {
      "name": "python3",
      "display_name": "Python 3"
    }
  },
  "cells": [
    {
      "metadata": {
        "id": "y55wuIpF10t4",
        "colab_type": "code",
        "colab": {}
      },
      "cell_type": "code",
      "source": [
        "from google.colab import auth\n",
        "auth.authenticate_user()"
      ],
      "execution_count": 0,
      "outputs": []
    },
    {
      "metadata": {
        "id": "5qKoGl9X2AZJ",
        "colab_type": "code",
        "colab": {
          "base_uri": "https://localhost:8080/",
          "height": 207
        },
        "outputId": "d2ef0e58-7f72-494c-c8eb-dd3fbca17532"
      },
      "cell_type": "code",
      "source": [
        "!apt-get install -y -qq software-properties-common python-software-properties module-init-tools\n",
        "!add-apt-repository -y ppa:alessandro-strada/ppa 2>&1 > /dev/null\n",
        "!apt-get update -qq 2>&1 > /dev/null\n",
        "!apt-get -y install -qq google-drive-ocamlfuse fuse\n",
        "from oauth2client.client import GoogleCredentials\n",
        "creds = GoogleCredentials.get_application_default()\n",
        "import getpass\n",
        "!google-drive-ocamlfuse -headless -id={creds.client_id} -secret={creds.client_secret} < /dev/null 2>&1 | grep URL\n",
        "vcode = getpass.getpass()\n",
        "!echo {vcode} | google-drive-ocamlfuse -headless -id={creds.client_id} -secret={creds.client_secret}"
      ],
      "execution_count": 0,
      "outputs": [
        {
          "output_type": "stream",
          "text": [
            "gpg: keybox '/tmp/tmps9tybg8m/pubring.gpg' created\n",
            "gpg: /tmp/tmps9tybg8m/trustdb.gpg: trustdb created\n",
            "gpg: key AD5F235DF639B041: public key \"Launchpad PPA for Alessandro Strada\" imported\n",
            "gpg: Total number processed: 1\n",
            "gpg:               imported: 1\n",
            "Warning: apt-key output should not be parsed (stdout is not a terminal)\n",
            "Please, open the following URL in a web browser: https://accounts.google.com/o/oauth2/auth?client_id=32555940559.apps.googleusercontent.com&redirect_uri=urn%3Aietf%3Awg%3Aoauth%3A2.0%3Aoob&scope=https%3A%2F%2Fwww.googleapis.com%2Fauth%2Fdrive&response_type=code&access_type=offline&approval_prompt=force\n",
            "··········\n",
            "Please, open the following URL in a web browser: https://accounts.google.com/o/oauth2/auth?client_id=32555940559.apps.googleusercontent.com&redirect_uri=urn%3Aietf%3Awg%3Aoauth%3A2.0%3Aoob&scope=https%3A%2F%2Fwww.googleapis.com%2Fauth%2Fdrive&response_type=code&access_type=offline&approval_prompt=force\n",
            "Please enter the verification code: Access token retrieved correctly.\n"
          ],
          "name": "stdout"
        }
      ]
    },
    {
      "metadata": {
        "id": "zng06CTQ2A7o",
        "colab_type": "code",
        "colab": {}
      },
      "cell_type": "code",
      "source": [
        "!mkdir -p my_drive\n",
        "!google-drive-ocamlfuse my_drive"
      ],
      "execution_count": 0,
      "outputs": []
    },
    {
      "metadata": {
        "id": "NBFdU5aF2uZV",
        "colab_type": "code",
        "colab": {}
      },
      "cell_type": "code",
      "source": [
        "import xgboost as xgb\n",
        "import numpy\n",
        "import os\n",
        "import pandas\n",
        "from sklearn.model_selection import cross_val_score, KFold, GridSearchCV\n",
        "from sklearn.preprocessing import StandardScaler, LabelEncoder, MinMaxScaler\n",
        "from sklearn.pipeline import Pipeline\n",
        "from scipy import stats"
      ],
      "execution_count": 0,
      "outputs": []
    },
    {
      "metadata": {
        "id": "l0Y_zWfT2bix",
        "colab_type": "code",
        "colab": {}
      },
      "cell_type": "code",
      "source": [
        "# fix random seed for reproducibility\n",
        "seed = 7\n",
        "numpy.random.seed(seed)"
      ],
      "execution_count": 0,
      "outputs": []
    },
    {
      "metadata": {
        "id": "13G1Fbl02dM_",
        "colab_type": "code",
        "colab": {}
      },
      "cell_type": "code",
      "source": [
        "base = 'my_drive'+os.sep+'ML_Project'+os.sep"
      ],
      "execution_count": 0,
      "outputs": []
    },
    {
      "metadata": {
        "id": "W20RdzTp2fLB",
        "colab_type": "code",
        "colab": {}
      },
      "cell_type": "code",
      "source": [
        "X = pandas.read_csv(base+\"X_train.txt\", delim_whitespace=True, header=None)\n",
        "Y = pandas.read_csv(base+\"Y_train.txt\", delim_whitespace=True, header=None)\n",
        "X_test = pandas.read_csv(base+\"X_test.txt\", delim_whitespace=True, header=None)"
      ],
      "execution_count": 0,
      "outputs": []
    },
    {
      "metadata": {
        "id": "onVazifh2iKY",
        "colab_type": "code",
        "colab": {}
      },
      "cell_type": "code",
      "source": [
        "#X_main = X.values\n",
        "#Y_main = Y.values\n",
        "X = X.sample(n=10000,replace=\"False\")\n",
        "Y = Y.sample(n=10000,replace=\"False\")\n",
        "X_test = X_test.sample(n=10000,replace=\"False\")"
      ],
      "execution_count": 0,
      "outputs": []
    },
    {
      "metadata": {
        "id": "LSPW2tyJ2i1X",
        "colab_type": "code",
        "colab": {}
      },
      "cell_type": "code",
      "source": [
        "X = X.values\n",
        "X_test = X_test.values\n",
        "Y = Y.values"
      ],
      "execution_count": 0,
      "outputs": []
    },
    {
      "metadata": {
        "id": "_uc-eQ0P2lCw",
        "colab_type": "code",
        "colab": {}
      },
      "cell_type": "code",
      "source": [
        "## Run if 'continuous' error comes\n",
        "lbl = MinMaxScaler(copy=True, feature_range=(0, 1))\n",
        "Y = lbl.fit_transform(Y)"
      ],
      "execution_count": 0,
      "outputs": []
    },
    {
      "metadata": {
        "id": "53ZWqJo93npK",
        "colab_type": "code",
        "colab": {
          "base_uri": "https://localhost:8080/",
          "height": 54
        },
        "outputId": "668fe3dd-f88d-4fd2-d07a-3c8398fa3b62"
      },
      "cell_type": "code",
      "source": [
        "xgb_model = xgb.XGBRegressor(verbose=1)\n",
        "model_ = []\n",
        "model_.append(('standardize', (MinMaxScaler(copy=True, feature_range=(0, 1)))))\n",
        "model_.append(('xgb', xgb_model))\n",
        "model__ = Pipeline(model_)\n",
        "model__.get_params().keys()"
      ],
      "execution_count": 0,
      "outputs": [
        {
          "output_type": "execute_result",
          "data": {
            "text/plain": [
              "dict_keys(['memory', 'steps', 'standardize', 'xgb', 'standardize__copy', 'standardize__feature_range', 'xgb__base_score', 'xgb__booster', 'xgb__colsample_bylevel', 'xgb__colsample_bytree', 'xgb__gamma', 'xgb__learning_rate', 'xgb__max_delta_step', 'xgb__max_depth', 'xgb__min_child_weight', 'xgb__missing', 'xgb__n_estimators', 'xgb__n_jobs', 'xgb__nthread', 'xgb__objective', 'xgb__random_state', 'xgb__reg_alpha', 'xgb__reg_lambda', 'xgb__scale_pos_weight', 'xgb__seed', 'xgb__silent', 'xgb__subsample', 'xgb__verbose'])"
            ]
          },
          "metadata": {
            "tags": []
          },
          "execution_count": 40
        }
      ]
    },
    {
      "metadata": {
        "id": "5TlAg4bABxDO",
        "colab_type": "code",
        "colab": {}
      },
      "cell_type": "code",
      "source": [
        "# RUN AGAIN DUDE. THERE WAS A MISTAKE I FIXED THE MISTAKE\n",
        "\n",
        "\n",
        "xgb_model = xgb.XGBRegressor(verbose=1)\n",
        "parameters = {\n",
        "              'xgb__nthread':[64], #when use hyperthread, xgboost may become slower\n",
        "              'xgb__objective':['binary:logistic'],\n",
        "              'xgb__learning_rate': [0.01, 0.05], #so called `eta` value\n",
        "              'xgb__max_depth': [10,15],\n",
        "              'xgb__min_child_weight': [11],\n",
        "              'xgb__silent': [1],\n",
        "              'xgb__subsample': [0.8],\n",
        "              'xgb__colsample_bytree': [0.7],\n",
        "              'xgb__n_estimators': [1000, 3000], #number of trees, change it to 1000 for better results\n",
        "              'xgb__missing':[-999],\n",
        "              'xgb__seed': [seed]}\n",
        "\n",
        "\n",
        "clf = GridSearchCV(model__, parameters, \n",
        "                   cv=10, \n",
        "                   scoring='mean_squared_error',\n",
        "                   verbose=2)"
      ],
      "execution_count": 0,
      "outputs": []
    },
    {
      "metadata": {
        "id": "oxMX94EVCCsc",
        "colab_type": "code",
        "colab": {
          "base_uri": "https://localhost:8080/",
          "height": 71
        },
        "outputId": "51cb6811-3ec6-4456-9c03-6aa6661a7e25"
      },
      "cell_type": "code",
      "source": [
        "#features = list(X.columns)\n",
        "clf.fit(X, Y)"
      ],
      "execution_count": 0,
      "outputs": [
        {
          "output_type": "stream",
          "text": [
            "Fitting 10 folds for each of 8 candidates, totalling 80 fits\n",
            "[CV] xgb__colsample_bytree=0.7, xgb__learning_rate=0.01, xgb__max_depth=10, xgb__min_child_weight=11, xgb__missing=-999, xgb__n_estimators=1000, xgb__nthread=64, xgb__objective=binary:logistic, xgb__seed=7, xgb__silent=1, xgb__subsample=0.8 \n"
          ],
          "name": "stdout"
        }
      ]
    },
    {
      "metadata": {
        "id": "wVW47MNxDfdJ",
        "colab_type": "code",
        "colab": {
          "base_uri": "https://localhost:8080/",
          "height": 275
        },
        "outputId": "66fe66c2-a072-4386-cdaf-3d6b14c33f10"
      },
      "cell_type": "code",
      "source": [
        "best_parameters, score, _ = max(clf.grid_scores_, key=lambda x: x[1])\n",
        "print(':', score)\n",
        "for param_name in sorted(best_parameters.keys()):\n",
        "    print(\"%s: %r\" % (param_name, best_parameters[param_name]))\n"
      ],
      "execution_count": 0,
      "outputs": [
        {
          "output_type": "stream",
          "text": [
            ": -0.0006585220819181511\n",
            "xgb__colsample_bytree: 0.7\n",
            "xgb__learning_rate: 0.05\n",
            "xgb__max_depth: 15\n",
            "xgb__min_child_weight: 11\n",
            "xgb__missing: -999\n",
            "xgb__n_estimators: 500\n",
            "xgb__nthread: 4\n",
            "xgb__objective: 'binary:logistic'\n",
            "xgb__seed: 7\n",
            "xgb__silent: 1\n",
            "xgb__subsample: 0.8\n"
          ],
          "name": "stdout"
        },
        {
          "output_type": "stream",
          "text": [
            "/usr/local/lib/python3.6/dist-packages/sklearn/model_selection/_search.py:761: DeprecationWarning: The grid_scores_ attribute was deprecated in version 0.18 in favor of the more elaborate cv_results_ attribute. The grid_scores_ attribute will not be available from 0.20\n",
            "  DeprecationWarning)\n"
          ],
          "name": "stderr"
        }
      ]
    },
    {
      "metadata": {
        "id": "5q4CaCD1xve6",
        "colab_type": "code",
        "colab": {
          "base_uri": "https://localhost:8080/",
          "height": 275
        },
        "outputId": "b604ac90-72bb-4660-f789-31db3924cd11"
      },
      "cell_type": "code",
      "source": [
        "best_parameters, score, _ = max(clf.grid_scores_, key=lambda x: x[1])\n",
        "print(':', score)\n",
        "for param_name in sorted(best_parameters.keys()):\n",
        "    print(\"%s: %r\" % (param_name, best_parameters[param_name]))\n"
      ],
      "execution_count": 0,
      "outputs": [
        {
          "output_type": "stream",
          "text": [
            ": -0.0006585220819181511\n",
            "xgb__colsample_bytree: 0.7\n",
            "xgb__learning_rate: 0.05\n",
            "xgb__max_depth: 15\n",
            "xgb__min_child_weight: 11\n",
            "xgb__missing: -999\n",
            "xgb__n_estimators: 500\n",
            "xgb__nthread: 4\n",
            "xgb__objective: 'binary:logistic'\n",
            "xgb__seed: 7\n",
            "xgb__silent: 1\n",
            "xgb__subsample: 0.8\n"
          ],
          "name": "stdout"
        },
        {
          "output_type": "stream",
          "text": [
            "/usr/local/lib/python3.6/dist-packages/sklearn/model_selection/_search.py:761: DeprecationWarning: The grid_scores_ attribute was deprecated in version 0.18 in favor of the more elaborate cv_results_ attribute. The grid_scores_ attribute will not be available from 0.20\n",
            "  DeprecationWarning)\n"
          ],
          "name": "stderr"
        }
      ]
    },
    {
      "metadata": {
        "id": "ADCG1oTTbl0d",
        "colab_type": "code",
        "colab": {
          "base_uri": "https://localhost:8080/",
          "height": 275
        },
        "outputId": "0088c932-a1cf-4cbc-90bb-54eb9708df19"
      },
      "cell_type": "code",
      "source": [
        "best_parameters, score, _ = max(clf.grid_scores_, key=lambda x: x[1])\n",
        "print(':', score)\n",
        "for param_name in sorted(best_parameters.keys()):\n",
        "    print(\"%s: %r\" % (param_name, best_parameters[param_name]))"
      ],
      "execution_count": 0,
      "outputs": [
        {
          "output_type": "stream",
          "text": [
            ": -0.0006583561225132363\n",
            "xgb__colsample_bytree: 0.7\n",
            "xgb__learning_rate: 0.05\n",
            "xgb__max_depth: 15\n",
            "xgb__min_child_weight: 11\n",
            "xgb__missing: -999\n",
            "xgb__n_estimators: 500\n",
            "xgb__nthread: 4\n",
            "xgb__objective: 'binary:logistic'\n",
            "xgb__seed: 7\n",
            "xgb__silent: 1\n",
            "xgb__subsample: 0.8\n"
          ],
          "name": "stdout"
        },
        {
          "output_type": "stream",
          "text": [
            "/usr/local/lib/python3.6/dist-packages/sklearn/model_selection/_search.py:761: DeprecationWarning: The grid_scores_ attribute was deprecated in version 0.18 in favor of the more elaborate cv_results_ attribute. The grid_scores_ attribute will not be available from 0.20\n",
            "  DeprecationWarning)\n"
          ],
          "name": "stderr"
        }
      ]
    },
    {
      "metadata": {
        "id": "w3h0NbnQb1di",
        "colab_type": "code",
        "colab": {
          "base_uri": "https://localhost:8080/",
          "height": 479
        },
        "outputId": "702a64f4-777e-40ee-e9a5-cdb18b9944ae"
      },
      "cell_type": "code",
      "source": [
        "for i in clf.grid_scores_: print(i)"
      ],
      "execution_count": 0,
      "outputs": [
        {
          "output_type": "stream",
          "text": [
            "mean: -0.03284, std: 0.00010, params: {'xgb__colsample_bytree': 0.7, 'xgb__learning_rate': 0.05, 'xgb__max_depth': 1, 'xgb__min_child_weight': 11, 'xgb__missing': -999, 'xgb__n_estimators': 20, 'xgb__nthread': 4, 'xgb__objective': 'binary:logistic', 'xgb__seed': 7, 'xgb__silent': 1, 'xgb__subsample': 0.8}\n",
            "\n",
            "mean: -0.00228, std: 0.00008, params: {'xgb__colsample_bytree': 0.7, 'xgb__learning_rate': 0.05, 'xgb__max_depth': 1, 'xgb__min_child_weight': 11, 'xgb__missing': -999, 'xgb__n_estimators': 50, 'xgb__nthread': 4, 'xgb__objective': 'binary:logistic', 'xgb__seed': 7, 'xgb__silent': 1, 'xgb__subsample': 0.8}\n",
            "\n",
            "mean: -0.00069, std: 0.00009, params: {'xgb__colsample_bytree': 0.7, 'xgb__learning_rate': 0.05, 'xgb__max_depth': 1, 'xgb__min_child_weight': 11, 'xgb__missing': -999, 'xgb__n_estimators': 500, 'xgb__nthread': 4, 'xgb__objective': 'binary:logistic', 'xgb__seed': 7, 'xgb__silent': 1, 'xgb__subsample': 0.8}\n",
            "\n",
            "mean: -0.03284, std: 0.00010, params: {'xgb__colsample_bytree': 0.7, 'xgb__learning_rate': 0.05, 'xgb__max_depth': 6, 'xgb__min_child_weight': 11, 'xgb__missing': -999, 'xgb__n_estimators': 20, 'xgb__nthread': 4, 'xgb__objective': 'binary:logistic', 'xgb__seed': 7, 'xgb__silent': 1, 'xgb__subsample': 0.8}\n",
            "\n",
            "mean: -0.00228, std: 0.00008, params: {'xgb__colsample_bytree': 0.7, 'xgb__learning_rate': 0.05, 'xgb__max_depth': 6, 'xgb__min_child_weight': 11, 'xgb__missing': -999, 'xgb__n_estimators': 50, 'xgb__nthread': 4, 'xgb__objective': 'binary:logistic', 'xgb__seed': 7, 'xgb__silent': 1, 'xgb__subsample': 0.8}\n",
            "\n",
            "mean: -0.00066, std: 0.00009, params: {'xgb__colsample_bytree': 0.7, 'xgb__learning_rate': 0.05, 'xgb__max_depth': 6, 'xgb__min_child_weight': 11, 'xgb__missing': -999, 'xgb__n_estimators': 500, 'xgb__nthread': 4, 'xgb__objective': 'binary:logistic', 'xgb__seed': 7, 'xgb__silent': 1, 'xgb__subsample': 0.8}\n",
            "\n",
            "mean: -0.03284, std: 0.00010, params: {'xgb__colsample_bytree': 0.7, 'xgb__learning_rate': 0.05, 'xgb__max_depth': 10, 'xgb__min_child_weight': 11, 'xgb__missing': -999, 'xgb__n_estimators': 20, 'xgb__nthread': 4, 'xgb__objective': 'binary:logistic', 'xgb__seed': 7, 'xgb__silent': 1, 'xgb__subsample': 0.8}\n",
            "\n",
            "mean: -0.00228, std: 0.00008, params: {'xgb__colsample_bytree': 0.7, 'xgb__learning_rate': 0.05, 'xgb__max_depth': 10, 'xgb__min_child_weight': 11, 'xgb__missing': -999, 'xgb__n_estimators': 50, 'xgb__nthread': 4, 'xgb__objective': 'binary:logistic', 'xgb__seed': 7, 'xgb__silent': 1, 'xgb__subsample': 0.8}\n",
            "\n",
            "mean: -0.00066, std: 0.00009, params: {'xgb__colsample_bytree': 0.7, 'xgb__learning_rate': 0.05, 'xgb__max_depth': 10, 'xgb__min_child_weight': 11, 'xgb__missing': -999, 'xgb__n_estimators': 500, 'xgb__nthread': 4, 'xgb__objective': 'binary:logistic', 'xgb__seed': 7, 'xgb__silent': 1, 'xgb__subsample': 0.8}\n",
            "\n",
            "mean: -0.03284, std: 0.00010, params: {'xgb__colsample_bytree': 0.7, 'xgb__learning_rate': 0.05, 'xgb__max_depth': 15, 'xgb__min_child_weight': 11, 'xgb__missing': -999, 'xgb__n_estimators': 20, 'xgb__nthread': 4, 'xgb__objective': 'binary:logistic', 'xgb__seed': 7, 'xgb__silent': 1, 'xgb__subsample': 0.8}\n",
            "\n",
            "mean: -0.00228, std: 0.00008, params: {'xgb__colsample_bytree': 0.7, 'xgb__learning_rate': 0.05, 'xgb__max_depth': 15, 'xgb__min_child_weight': 11, 'xgb__missing': -999, 'xgb__n_estimators': 50, 'xgb__nthread': 4, 'xgb__objective': 'binary:logistic', 'xgb__seed': 7, 'xgb__silent': 1, 'xgb__subsample': 0.8}\n",
            "\n",
            "mean: -0.00066, std: 0.00009, params: {'xgb__colsample_bytree': 0.7, 'xgb__learning_rate': 0.05, 'xgb__max_depth': 15, 'xgb__min_child_weight': 11, 'xgb__missing': -999, 'xgb__n_estimators': 500, 'xgb__nthread': 4, 'xgb__objective': 'binary:logistic', 'xgb__seed': 7, 'xgb__silent': 1, 'xgb__subsample': 0.8}\n",
            "\n"
          ],
          "name": "stdout"
        },
        {
          "output_type": "stream",
          "text": [
            "/usr/local/lib/python3.6/dist-packages/sklearn/model_selection/_search.py:761: DeprecationWarning: The grid_scores_ attribute was deprecated in version 0.18 in favor of the more elaborate cv_results_ attribute. The grid_scores_ attribute will not be available from 0.20\n",
            "  DeprecationWarning)\n"
          ],
          "name": "stderr"
        }
      ]
    },
    {
      "metadata": {
        "id": "SuQznfsf5Zcg",
        "colab_type": "code",
        "colab": {}
      },
      "cell_type": "code",
      "source": [
        "# evaluate model with standardized dataset\n",
        "prediction = clf.predict(X_test)"
      ],
      "execution_count": 0,
      "outputs": []
    },
    {
      "metadata": {
        "id": "SvxfUgU_SNrn",
        "colab_type": "code",
        "colab": {
          "base_uri": "https://localhost:8080/",
          "height": 34
        },
        "outputId": "c9546746-28db-4e30-8da4-21ec05323184"
      },
      "cell_type": "code",
      "source": [
        "print(lbl.inverse_transform(numpy.array([[0.0006585220819181511]])))"
      ],
      "execution_count": 0,
      "outputs": [
        {
          "output_type": "stream",
          "text": [
            "[[0.04688677]]\n"
          ],
          "name": "stdout"
        }
      ]
    },
    {
      "metadata": {
        "id": "NR7v-d_d5-TZ",
        "colab_type": "code",
        "colab": {}
      },
      "cell_type": "code",
      "source": [
        "# Run if 'continuous' error comes\n",
        "prediction = lbl.inverse_transform([prediction])[0]"
      ],
      "execution_count": 0,
      "outputs": []
    },
    {
      "metadata": {
        "id": "IRnq7j7N6DI6",
        "colab_type": "code",
        "colab": {}
      },
      "cell_type": "code",
      "source": [
        "fh = open(base+'predictions_xgb.csv','w')\n",
        "fh.write('ID,Prediction\\n')\n",
        "for i,yi in enumerate(prediction):\n",
        "    fh.write('{},{}\\n'.format(i,yi))\n",
        "fh.close()"
      ],
      "execution_count": 0,
      "outputs": []
    },
    {
      "metadata": {
        "id": "bEQaBCSbyElv",
        "colab_type": "code",
        "colab": {
          "base_uri": "https://localhost:8080/",
          "height": 136
        },
        "outputId": "1ca67846-9e8f-43ca-dc85-71df7ac32eef"
      },
      "cell_type": "code",
      "source": [
        "unique, counts = numpy.unique(prediction, return_counts=True)\n",
        "print (numpy.asarray((unique, counts)).T)"
      ],
      "execution_count": 0,
      "outputs": [
        {
          "output_type": "stream",
          "text": [
            "[[ 0.03137269  1.        ]\n",
            " [ 0.03157933  1.        ]\n",
            " [ 0.03201855  1.        ]\n",
            " ...\n",
            " [21.20224419  2.        ]\n",
            " [21.87348981  1.        ]\n",
            " [24.19046679  1.        ]]\n"
          ],
          "name": "stdout"
        }
      ]
    }
  ]
}