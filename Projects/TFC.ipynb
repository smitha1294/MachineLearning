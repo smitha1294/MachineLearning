{
  "nbformat": 4,
  "nbformat_minor": 0,
  "metadata": {
    "colab": {
      "name": "TFC.ipynb",
      "version": "0.3.2",
      "provenance": []
    },
    "kernelspec": {
      "name": "python3",
      "display_name": "Python 3"
    }
  },
  "cells": [
    {
      "metadata": {
        "id": "YGjOS5n6Yk1b",
        "colab_type": "code",
        "colab": {}
      },
      "cell_type": "code",
      "source": [
        "from google.colab import auth\n",
        "auth.authenticate_user()"
      ],
      "execution_count": 0,
      "outputs": []
    },
    {
      "metadata": {
        "id": "y3dA4b6NYrUW",
        "colab_type": "code",
        "colab": {}
      },
      "cell_type": "code",
      "source": [
        "!apt-get install -y -qq software-properties-common python-software-properties module-init-tools\n",
        "!add-apt-repository -y ppa:alessandro-strada/ppa 2>&1 > /dev/null\n",
        "!apt-get update -qq 2>&1 > /dev/null\n",
        "!apt-get -y install -qq google-drive-ocamlfuse fuse\n",
        "from oauth2client.client import GoogleCredentials\n",
        "creds = GoogleCredentials.get_application_default()\n",
        "import getpass\n",
        "!google-drive-ocamlfuse -headless -id={creds.client_id} -secret={creds.client_secret} < /dev/null 2>&1 | grep URL\n",
        "vcode = getpass.getpass()\n",
        "!echo {vcode} | google-drive-ocamlfuse -headless -id={creds.client_id} -secret={creds.client_secret}"
      ],
      "execution_count": 0,
      "outputs": []
    },
    {
      "metadata": {
        "id": "NYYVbrW5YsGj",
        "colab_type": "code",
        "colab": {}
      },
      "cell_type": "code",
      "source": [
        "import xgboost as xgb\n",
        "import numpy\n",
        "import os\n",
        "import pandas\n",
        "from sklearn.model_selection import cross_val_score, KFold, GridSearchCV\n",
        "from sklearn.preprocessing import StandardScaler, LabelEncoder, MinMaxScaler\n",
        "from sklearn.pipeline import Pipeline\n",
        "from scipy import stats"
      ],
      "execution_count": 0,
      "outputs": []
    },
    {
      "metadata": {
        "id": "SfyRJNGbYvwu",
        "colab_type": "code",
        "colab": {}
      },
      "cell_type": "code",
      "source": [
        "seed = 7\n",
        "numpy.random.seed(seed)\n",
        "base = 'my_drive'+os.sep+'ML_Project'+os.sep"
      ],
      "execution_count": 0,
      "outputs": []
    },
    {
      "metadata": {
        "id": "hn9XAQ6TYyBp",
        "colab_type": "code",
        "colab": {}
      },
      "cell_type": "code",
      "source": [
        "X = pandas.read_csv(base+\"X_train.txt\", delim_whitespace=True, header=None)\n",
        "Y = pandas.read_csv(base+\"Y_train.txt\", delim_whitespace=True, header=None)\n",
        "X_test = pandas.read_csv(base+\"X_test.txt\", delim_whitespace=True, header=None)"
      ],
      "execution_count": 0,
      "outputs": []
    },
    {
      "metadata": {
        "id": "e4md8dizY0TT",
        "colab_type": "code",
        "colab": {}
      },
      "cell_type": "code",
      "source": [
        "import copy\n",
        "X_backup = copy.deepcopy(X)\n",
        "Y_backup = copy.deepcopy(Y)"
      ],
      "execution_count": 0,
      "outputs": []
    },
    {
      "metadata": {
        "id": "fDFbEN1yY4Zz",
        "colab_type": "code",
        "colab": {}
      },
      "cell_type": "code",
      "source": [
        "Y.columns.values[0] = '14'"
      ],
      "execution_count": 0,
      "outputs": []
    },
    {
      "metadata": {
        "id": "dPmvJbRaY7Z7",
        "colab_type": "code",
        "colab": {}
      },
      "cell_type": "code",
      "source": [
        "merged = pandas.concat([X, Y],axis=1)\n",
        "X = merged[list(merged.columns[0:14])]"
      ],
      "execution_count": 0,
      "outputs": []
    },
    {
      "metadata": {
        "id": "oBDpKM6MY-vJ",
        "colab_type": "code",
        "colab": {}
      },
      "cell_type": "code",
      "source": [
        "merged['target'] = [1 if x >0 else 0 for x in merged[14]]"
      ],
      "execution_count": 0,
      "outputs": []
    },
    {
      "metadata": {
        "id": "b9W5qxL2ZBN6",
        "colab_type": "code",
        "colab": {}
      },
      "cell_type": "code",
      "source": [
        "xgb_model = xgb.XGBClassifier(verbose=1)\n",
        "\n",
        "parameters = {\n",
        "              'nthread':[4], #when use hyperthread, xgboost may become slower\n",
        "              'objective':['binary:logistic'],\n",
        "              'learning_rate': [0.05], #so called `eta` value\n",
        "              'max_depth': [6],\n",
        "              'min_child_weight': [11],\n",
        "#              'silent': [1],\n",
        "#              'subsample': [0.8],\n",
        "#              'colsample_bytree': [0.7],\n",
        "              'n_estimators': [30], #number of trees, change it to 1000 for better results\n",
        "#              'missing':[-999],\n",
        "              'seed': [seed]}\n",
        "\n",
        "clf = GridSearchCV(xgb_model, parameters, n_jobs=5, \n",
        "                   cv=5,\n",
        "                   scoring='roc_auc',\n",
        "                   verbose=2, refit=True)"
      ],
      "execution_count": 0,
      "outputs": []
    },
    {
      "metadata": {
        "id": "xxkWpHEgZDdp",
        "colab_type": "code",
        "colab": {}
      },
      "cell_type": "code",
      "source": [
        "X = X.values\n",
        "Y_train = merged['target'].values"
      ],
      "execution_count": 0,
      "outputs": []
    },
    {
      "metadata": {
        "id": "ZY08tjrJZFgb",
        "colab_type": "code",
        "colab": {
          "base_uri": "https://localhost:8080/",
          "height": 359
        },
        "outputId": "1791dec4-b313-4a05-814f-803fea61a362"
      },
      "cell_type": "code",
      "source": [
        "pandas.DataFrame(X).sample(10)"
      ],
      "execution_count": 30,
      "outputs": [
        {
          "output_type": "execute_result",
          "data": {
            "text/html": [
              "<div>\n",
              "<style scoped>\n",
              "    .dataframe tbody tr th:only-of-type {\n",
              "        vertical-align: middle;\n",
              "    }\n",
              "\n",
              "    .dataframe tbody tr th {\n",
              "        vertical-align: top;\n",
              "    }\n",
              "\n",
              "    .dataframe thead th {\n",
              "        text-align: right;\n",
              "    }\n",
              "</style>\n",
              "<table border=\"1\" class=\"dataframe\">\n",
              "  <thead>\n",
              "    <tr style=\"text-align: right;\">\n",
              "      <th></th>\n",
              "      <th>0</th>\n",
              "      <th>1</th>\n",
              "      <th>2</th>\n",
              "      <th>3</th>\n",
              "      <th>4</th>\n",
              "      <th>5</th>\n",
              "      <th>6</th>\n",
              "      <th>7</th>\n",
              "      <th>8</th>\n",
              "      <th>9</th>\n",
              "      <th>10</th>\n",
              "      <th>11</th>\n",
              "      <th>12</th>\n",
              "      <th>13</th>\n",
              "    </tr>\n",
              "  </thead>\n",
              "  <tbody>\n",
              "    <tr>\n",
              "      <th>94353</th>\n",
              "      <td>238.0</td>\n",
              "      <td>227.0</td>\n",
              "      <td>240.39</td>\n",
              "      <td>231.77</td>\n",
              "      <td>994.0</td>\n",
              "      <td>273.0</td>\n",
              "      <td>0.0</td>\n",
              "      <td>2.1059</td>\n",
              "      <td>6.8253</td>\n",
              "      <td>1.72530</td>\n",
              "      <td>3.7619</td>\n",
              "      <td>1.9590</td>\n",
              "      <td>2.2388</td>\n",
              "      <td>0.0</td>\n",
              "    </tr>\n",
              "    <tr>\n",
              "      <th>24453</th>\n",
              "      <td>253.0</td>\n",
              "      <td>238.0</td>\n",
              "      <td>249.25</td>\n",
              "      <td>249.25</td>\n",
              "      <td>296.0</td>\n",
              "      <td>0.0</td>\n",
              "      <td>0.0</td>\n",
              "      <td>2.4404</td>\n",
              "      <td>3.3366</td>\n",
              "      <td>0.00000</td>\n",
              "      <td>5.2640</td>\n",
              "      <td>3.1680</td>\n",
              "      <td>20.0000</td>\n",
              "      <td>0.0</td>\n",
              "    </tr>\n",
              "    <tr>\n",
              "      <th>73613</th>\n",
              "      <td>234.0</td>\n",
              "      <td>228.0</td>\n",
              "      <td>241.46</td>\n",
              "      <td>232.61</td>\n",
              "      <td>209.0</td>\n",
              "      <td>59.0</td>\n",
              "      <td>0.0</td>\n",
              "      <td>4.4445</td>\n",
              "      <td>7.0692</td>\n",
              "      <td>2.10630</td>\n",
              "      <td>7.9526</td>\n",
              "      <td>2.2772</td>\n",
              "      <td>7.5729</td>\n",
              "      <td>8.4</td>\n",
              "    </tr>\n",
              "    <tr>\n",
              "      <th>72650</th>\n",
              "      <td>253.0</td>\n",
              "      <td>232.0</td>\n",
              "      <td>246.10</td>\n",
              "      <td>233.69</td>\n",
              "      <td>271.0</td>\n",
              "      <td>16.0</td>\n",
              "      <td>0.0</td>\n",
              "      <td>6.1636</td>\n",
              "      <td>5.2686</td>\n",
              "      <td>1.10220</td>\n",
              "      <td>7.1310</td>\n",
              "      <td>2.7122</td>\n",
              "      <td>20.0000</td>\n",
              "      <td>0.0</td>\n",
              "    </tr>\n",
              "    <tr>\n",
              "      <th>29065</th>\n",
              "      <td>243.0</td>\n",
              "      <td>238.0</td>\n",
              "      <td>247.44</td>\n",
              "      <td>247.44</td>\n",
              "      <td>1721.0</td>\n",
              "      <td>0.0</td>\n",
              "      <td>0.0</td>\n",
              "      <td>6.7280</td>\n",
              "      <td>3.9723</td>\n",
              "      <td>0.00000</td>\n",
              "      <td>3.7081</td>\n",
              "      <td>2.1488</td>\n",
              "      <td>20.0000</td>\n",
              "      <td>19.1</td>\n",
              "    </tr>\n",
              "    <tr>\n",
              "      <th>91319</th>\n",
              "      <td>245.0</td>\n",
              "      <td>236.0</td>\n",
              "      <td>245.29</td>\n",
              "      <td>245.29</td>\n",
              "      <td>285.0</td>\n",
              "      <td>0.0</td>\n",
              "      <td>0.0</td>\n",
              "      <td>1.6046</td>\n",
              "      <td>4.8230</td>\n",
              "      <td>0.00000</td>\n",
              "      <td>6.8349</td>\n",
              "      <td>3.2673</td>\n",
              "      <td>20.0000</td>\n",
              "      <td>0.0</td>\n",
              "    </tr>\n",
              "    <tr>\n",
              "      <th>76194</th>\n",
              "      <td>231.0</td>\n",
              "      <td>220.0</td>\n",
              "      <td>236.41</td>\n",
              "      <td>220.00</td>\n",
              "      <td>2442.0</td>\n",
              "      <td>1282.0</td>\n",
              "      <td>9.0</td>\n",
              "      <td>3.9999</td>\n",
              "      <td>8.2376</td>\n",
              "      <td>3.47260</td>\n",
              "      <td>5.3657</td>\n",
              "      <td>2.6669</td>\n",
              "      <td>2.1862</td>\n",
              "      <td>0.0</td>\n",
              "    </tr>\n",
              "    <tr>\n",
              "      <th>4937</th>\n",
              "      <td>241.0</td>\n",
              "      <td>232.0</td>\n",
              "      <td>244.08</td>\n",
              "      <td>233.45</td>\n",
              "      <td>766.0</td>\n",
              "      <td>43.0</td>\n",
              "      <td>0.0</td>\n",
              "      <td>2.0100</td>\n",
              "      <td>5.1402</td>\n",
              "      <td>0.86813</td>\n",
              "      <td>3.6086</td>\n",
              "      <td>1.9472</td>\n",
              "      <td>4.2721</td>\n",
              "      <td>0.0</td>\n",
              "    </tr>\n",
              "    <tr>\n",
              "      <th>85607</th>\n",
              "      <td>253.0</td>\n",
              "      <td>242.0</td>\n",
              "      <td>248.13</td>\n",
              "      <td>248.13</td>\n",
              "      <td>62.0</td>\n",
              "      <td>0.0</td>\n",
              "      <td>0.0</td>\n",
              "      <td>5.7710</td>\n",
              "      <td>3.6327</td>\n",
              "      <td>0.00000</td>\n",
              "      <td>8.3566</td>\n",
              "      <td>6.1269</td>\n",
              "      <td>20.0000</td>\n",
              "      <td>0.0</td>\n",
              "    </tr>\n",
              "    <tr>\n",
              "      <th>22907</th>\n",
              "      <td>232.0</td>\n",
              "      <td>218.0</td>\n",
              "      <td>236.91</td>\n",
              "      <td>219.38</td>\n",
              "      <td>2257.0</td>\n",
              "      <td>1097.0</td>\n",
              "      <td>52.0</td>\n",
              "      <td>1.1720</td>\n",
              "      <td>10.6540</td>\n",
              "      <td>4.26680</td>\n",
              "      <td>2.7943</td>\n",
              "      <td>2.7014</td>\n",
              "      <td>1.2573</td>\n",
              "      <td>0.5</td>\n",
              "    </tr>\n",
              "  </tbody>\n",
              "</table>\n",
              "</div>"
            ],
            "text/plain": [
              "          0      1       2       3       4       5     6       7        8   \\\n",
              "94353  238.0  227.0  240.39  231.77   994.0   273.0   0.0  2.1059   6.8253   \n",
              "24453  253.0  238.0  249.25  249.25   296.0     0.0   0.0  2.4404   3.3366   \n",
              "73613  234.0  228.0  241.46  232.61   209.0    59.0   0.0  4.4445   7.0692   \n",
              "72650  253.0  232.0  246.10  233.69   271.0    16.0   0.0  6.1636   5.2686   \n",
              "29065  243.0  238.0  247.44  247.44  1721.0     0.0   0.0  6.7280   3.9723   \n",
              "91319  245.0  236.0  245.29  245.29   285.0     0.0   0.0  1.6046   4.8230   \n",
              "76194  231.0  220.0  236.41  220.00  2442.0  1282.0   9.0  3.9999   8.2376   \n",
              "4937   241.0  232.0  244.08  233.45   766.0    43.0   0.0  2.0100   5.1402   \n",
              "85607  253.0  242.0  248.13  248.13    62.0     0.0   0.0  5.7710   3.6327   \n",
              "22907  232.0  218.0  236.91  219.38  2257.0  1097.0  52.0  1.1720  10.6540   \n",
              "\n",
              "            9       10      11       12    13  \n",
              "94353  1.72530  3.7619  1.9590   2.2388   0.0  \n",
              "24453  0.00000  5.2640  3.1680  20.0000   0.0  \n",
              "73613  2.10630  7.9526  2.2772   7.5729   8.4  \n",
              "72650  1.10220  7.1310  2.7122  20.0000   0.0  \n",
              "29065  0.00000  3.7081  2.1488  20.0000  19.1  \n",
              "91319  0.00000  6.8349  3.2673  20.0000   0.0  \n",
              "76194  3.47260  5.3657  2.6669   2.1862   0.0  \n",
              "4937   0.86813  3.6086  1.9472   4.2721   0.0  \n",
              "85607  0.00000  8.3566  6.1269  20.0000   0.0  \n",
              "22907  4.26680  2.7943  2.7014   1.2573   0.5  "
            ]
          },
          "metadata": {
            "tags": []
          },
          "execution_count": 30
        }
      ]
    },
    {
      "metadata": {
        "id": "QTpjjRB3ZH2C",
        "colab_type": "code",
        "colab": {
          "base_uri": "https://localhost:8080/",
          "height": 359
        },
        "outputId": "74004f80-0295-4360-badb-12bde5e6f712"
      },
      "cell_type": "code",
      "source": [
        "Y.sample(10)"
      ],
      "execution_count": 31,
      "outputs": [
        {
          "output_type": "execute_result",
          "data": {
            "text/html": [
              "<div>\n",
              "<style scoped>\n",
              "    .dataframe tbody tr th:only-of-type {\n",
              "        vertical-align: middle;\n",
              "    }\n",
              "\n",
              "    .dataframe tbody tr th {\n",
              "        vertical-align: top;\n",
              "    }\n",
              "\n",
              "    .dataframe thead th {\n",
              "        text-align: right;\n",
              "    }\n",
              "</style>\n",
              "<table border=\"1\" class=\"dataframe\">\n",
              "  <thead>\n",
              "    <tr style=\"text-align: right;\">\n",
              "      <th></th>\n",
              "      <th>14</th>\n",
              "    </tr>\n",
              "  </thead>\n",
              "  <tbody>\n",
              "    <tr>\n",
              "      <th>2982</th>\n",
              "      <td>0.5</td>\n",
              "    </tr>\n",
              "    <tr>\n",
              "      <th>48102</th>\n",
              "      <td>0.2</td>\n",
              "    </tr>\n",
              "    <tr>\n",
              "      <th>89032</th>\n",
              "      <td>0.0</td>\n",
              "    </tr>\n",
              "    <tr>\n",
              "      <th>73654</th>\n",
              "      <td>0.1</td>\n",
              "    </tr>\n",
              "    <tr>\n",
              "      <th>89258</th>\n",
              "      <td>0.1</td>\n",
              "    </tr>\n",
              "    <tr>\n",
              "      <th>89474</th>\n",
              "      <td>0.0</td>\n",
              "    </tr>\n",
              "    <tr>\n",
              "      <th>91839</th>\n",
              "      <td>37.4</td>\n",
              "    </tr>\n",
              "    <tr>\n",
              "      <th>17438</th>\n",
              "      <td>0.0</td>\n",
              "    </tr>\n",
              "    <tr>\n",
              "      <th>33854</th>\n",
              "      <td>0.1</td>\n",
              "    </tr>\n",
              "    <tr>\n",
              "      <th>63651</th>\n",
              "      <td>0.0</td>\n",
              "    </tr>\n",
              "  </tbody>\n",
              "</table>\n",
              "</div>"
            ],
            "text/plain": [
              "         14\n",
              "2982    0.5\n",
              "48102   0.2\n",
              "89032   0.0\n",
              "73654   0.1\n",
              "89258   0.1\n",
              "89474   0.0\n",
              "91839  37.4\n",
              "17438   0.0\n",
              "33854   0.1\n",
              "63651   0.0"
            ]
          },
          "metadata": {
            "tags": []
          },
          "execution_count": 31
        }
      ]
    },
    {
      "metadata": {
        "id": "CLsQeGDQZKXL",
        "colab_type": "code",
        "colab": {
          "base_uri": "https://localhost:8080/",
          "height": 359
        },
        "outputId": "42e7e9fc-2a6c-4741-afd3-9fe32cd6d6d0"
      },
      "cell_type": "code",
      "source": [
        "pandas.DataFrame(Y_train).sample(10)"
      ],
      "execution_count": 33,
      "outputs": [
        {
          "output_type": "execute_result",
          "data": {
            "text/html": [
              "<div>\n",
              "<style scoped>\n",
              "    .dataframe tbody tr th:only-of-type {\n",
              "        vertical-align: middle;\n",
              "    }\n",
              "\n",
              "    .dataframe tbody tr th {\n",
              "        vertical-align: top;\n",
              "    }\n",
              "\n",
              "    .dataframe thead th {\n",
              "        text-align: right;\n",
              "    }\n",
              "</style>\n",
              "<table border=\"1\" class=\"dataframe\">\n",
              "  <thead>\n",
              "    <tr style=\"text-align: right;\">\n",
              "      <th></th>\n",
              "      <th>0</th>\n",
              "    </tr>\n",
              "  </thead>\n",
              "  <tbody>\n",
              "    <tr>\n",
              "      <th>74188</th>\n",
              "      <td>0</td>\n",
              "    </tr>\n",
              "    <tr>\n",
              "      <th>53471</th>\n",
              "      <td>0</td>\n",
              "    </tr>\n",
              "    <tr>\n",
              "      <th>69200</th>\n",
              "      <td>0</td>\n",
              "    </tr>\n",
              "    <tr>\n",
              "      <th>29693</th>\n",
              "      <td>0</td>\n",
              "    </tr>\n",
              "    <tr>\n",
              "      <th>65792</th>\n",
              "      <td>0</td>\n",
              "    </tr>\n",
              "    <tr>\n",
              "      <th>99681</th>\n",
              "      <td>0</td>\n",
              "    </tr>\n",
              "    <tr>\n",
              "      <th>47727</th>\n",
              "      <td>1</td>\n",
              "    </tr>\n",
              "    <tr>\n",
              "      <th>32782</th>\n",
              "      <td>0</td>\n",
              "    </tr>\n",
              "    <tr>\n",
              "      <th>88221</th>\n",
              "      <td>0</td>\n",
              "    </tr>\n",
              "    <tr>\n",
              "      <th>86117</th>\n",
              "      <td>1</td>\n",
              "    </tr>\n",
              "  </tbody>\n",
              "</table>\n",
              "</div>"
            ],
            "text/plain": [
              "       0\n",
              "74188  0\n",
              "53471  0\n",
              "69200  0\n",
              "29693  0\n",
              "65792  0\n",
              "99681  0\n",
              "47727  1\n",
              "32782  0\n",
              "88221  0\n",
              "86117  1"
            ]
          },
          "metadata": {
            "tags": []
          },
          "execution_count": 33
        }
      ]
    },
    {
      "metadata": {
        "id": "N6d3SRv5Zz09",
        "colab_type": "code",
        "colab": {
          "base_uri": "https://localhost:8080/",
          "height": 442
        },
        "outputId": "bc37da9a-b272-4de2-f573-0e08e7619239"
      },
      "cell_type": "code",
      "source": [
        "clf.fit(X,Y_train,verbose=2)"
      ],
      "execution_count": 38,
      "outputs": [
        {
          "output_type": "stream",
          "text": [
            "Fitting 5 folds for each of 1 candidates, totalling 5 fits\n",
            "[CV] learning_rate=0.05, max_depth=6, min_child_weight=11, n_estimators=30, nthread=4, objective=binary:logistic, seed=7 \n",
            "[CV] learning_rate=0.05, max_depth=6, min_child_weight=11, n_estimators=30, nthread=4, objective=binary:logistic, seed=7 \n",
            "[CV] learning_rate=0.05, max_depth=6, min_child_weight=11, n_estimators=30, nthread=4, objective=binary:logistic, seed=7 \n",
            "[CV] learning_rate=0.05, max_depth=6, min_child_weight=11, n_estimators=30, nthread=4, objective=binary:logistic, seed=7 \n",
            "[CV] learning_rate=0.05, max_depth=6, min_child_weight=11, n_estimators=30, nthread=4, objective=binary:logistic, seed=7 \n",
            "[CV]  learning_rate=0.05, max_depth=6, min_child_weight=11, n_estimators=30, nthread=4, objective=binary:logistic, seed=7, total=  34.3s\n",
            "[CV]  learning_rate=0.05, max_depth=6, min_child_weight=11, n_estimators=30, nthread=4, objective=binary:logistic, seed=7, total=  35.0s\n"
          ],
          "name": "stdout"
        },
        {
          "output_type": "stream",
          "text": [
            "[Parallel(n_jobs=5)]: Done   2 out of   5 | elapsed:   37.9s remaining:   56.8s\n"
          ],
          "name": "stderr"
        },
        {
          "output_type": "stream",
          "text": [
            "[CV]  learning_rate=0.05, max_depth=6, min_child_weight=11, n_estimators=30, nthread=4, objective=binary:logistic, seed=7, total=  35.4s\n",
            "[CV]  learning_rate=0.05, max_depth=6, min_child_weight=11, n_estimators=30, nthread=4, objective=binary:logistic, seed=7, total=  36.0s\n",
            "[CV]  learning_rate=0.05, max_depth=6, min_child_weight=11, n_estimators=30, nthread=4, objective=binary:logistic, seed=7, total=  34.8s\n"
          ],
          "name": "stdout"
        },
        {
          "output_type": "stream",
          "text": [
            "[Parallel(n_jobs=5)]: Done   5 out of   5 | elapsed:   38.7s remaining:    0.0s\n",
            "[Parallel(n_jobs=5)]: Done   5 out of   5 | elapsed:   38.7s finished\n"
          ],
          "name": "stderr"
        },
        {
          "output_type": "execute_result",
          "data": {
            "text/plain": [
              "GridSearchCV(cv=5, error_score='raise',\n",
              "       estimator=XGBClassifier(base_score=0.5, booster='gbtree', colsample_bylevel=1,\n",
              "       colsample_bytree=1, gamma=0, learning_rate=0.1, max_delta_step=0,\n",
              "       max_depth=3, min_child_weight=1, missing=None, n_estimators=100,\n",
              "       n_jobs=1, nthread=None, objective='binary:logistic', random_state=0,\n",
              "       reg_alpha=0, reg_lambda=1, scale_pos_weight=1, seed=None,\n",
              "       silent=True, subsample=1, verbose=1),\n",
              "       fit_params=None, iid=True, n_jobs=5,\n",
              "       param_grid={'nthread': [4], 'objective': ['binary:logistic'], 'learning_rate': [0.05], 'max_depth': [6], 'min_child_weight': [11], 'n_estimators': [30], 'seed': [7]},\n",
              "       pre_dispatch='2*n_jobs', refit=True, return_train_score='warn',\n",
              "       scoring='roc_auc', verbose=2)"
            ]
          },
          "metadata": {
            "tags": []
          },
          "execution_count": 38
        }
      ]
    },
    {
      "metadata": {
        "id": "UPDbqq45ccqh",
        "colab_type": "code",
        "colab": {}
      },
      "cell_type": "code",
      "source": [
        "X_test_backup = copy.deepcopy(X_test)"
      ],
      "execution_count": 0,
      "outputs": []
    },
    {
      "metadata": {
        "id": "74Ntry0NgF7P",
        "colab_type": "code",
        "colab": {
          "base_uri": "https://localhost:8080/",
          "height": 71
        },
        "outputId": "1590df1c-7895-492c-a533-bc38b97cf674"
      },
      "cell_type": "code",
      "source": [
        "pred_cl = clf.predict(X)"
      ],
      "execution_count": 50,
      "outputs": [
        {
          "output_type": "stream",
          "text": [
            "/usr/local/lib/python3.6/dist-packages/sklearn/preprocessing/label.py:151: DeprecationWarning: The truth value of an empty array is ambiguous. Returning False, but in future this will result in an error. Use `array.size > 0` to check that an array is not empty.\n",
            "  if diff:\n"
          ],
          "name": "stderr"
        }
      ]
    },
    {
      "metadata": {
        "id": "MOHB4GOIhaAM",
        "colab_type": "code",
        "colab": {}
      },
      "cell_type": "code",
      "source": [
        "merged['regress'] =  [x for x in pred_cl]"
      ],
      "execution_count": 0,
      "outputs": []
    },
    {
      "metadata": {
        "id": "3YjlZz4ekUE2",
        "colab_type": "code",
        "colab": {}
      },
      "cell_type": "code",
      "source": [
        "bb = merged.values"
      ],
      "execution_count": 0,
      "outputs": []
    },
    {
      "metadata": {
        "id": "MzePMx1AkjL6",
        "colab_type": "code",
        "colab": {}
      },
      "cell_type": "code",
      "source": [
        "bb[:,16]\n",
        "ix = numpy.isin(bb[:,16],1)"
      ],
      "execution_count": 0,
      "outputs": []
    },
    {
      "metadata": {
        "id": "gZ5JcOrSmycD",
        "colab_type": "code",
        "colab": {}
      },
      "cell_type": "code",
      "source": [
        "merged_regress = bb[bb[:,16] > 0]"
      ],
      "execution_count": 0,
      "outputs": []
    },
    {
      "metadata": {
        "id": "zKPMIB8Prjs_",
        "colab_type": "code",
        "colab": {}
      },
      "cell_type": "code",
      "source": [
        "X_regress = merged_regress[0:,:15]\n",
        "Y_regress = merged_regress[0:,15:16]"
      ],
      "execution_count": 0,
      "outputs": []
    },
    {
      "metadata": {
        "id": "NoIVjxIFsPAS",
        "colab_type": "code",
        "colab": {}
      },
      "cell_type": "code",
      "source": [
        "xgb_regress_model = xgb.XGBRegressor(verbose=1)\n",
        "\n",
        "parameters = {\n",
        "              'nthread':[4], #when use hyperthread, xgboost may become slower\n",
        "              'objective':['binary:logistic'],\n",
        "              'learning_rate': [0.05], #so called `eta` value\n",
        "              'max_depth': [6],\n",
        "              'min_child_weight': [11],\n",
        "#              'silent': [1],\n",
        "#              'subsample': [0.8], \n",
        "#              'colsample_bytree': [0.7],\n",
        "              'n_estimators': [30], #number of trees, change it to 1000 for better results\n",
        "#              'missing':[-999],\n",
        "              'seed': [seed]}\n",
        "\n",
        "reg = GridSearchCV(xgb_regress_model, parameters, n_jobs=5, \n",
        "                   cv=5,\n",
        "                   scoring='roc_auc',\n",
        "                   verbose=2, refit=True)"
      ],
      "execution_count": 0,
      "outputs": []
    },
    {
      "metadata": {
        "id": "VnUWdVSJsglR",
        "colab_type": "code",
        "colab": {
          "base_uri": "https://localhost:8080/",
          "height": 119
        },
        "outputId": "15ea0eae-a35c-4000-c5ae-94ad5d1d9093"
      },
      "cell_type": "code",
      "source": [
        "reg.fit(X_regress,Y_regress)"
      ],
      "execution_count": 0,
      "outputs": [
        {
          "output_type": "stream",
          "text": [
            "Fitting 5 folds for each of 1 candidates, totalling 5 fits\n",
            "[CV] learning_rate=0.05, max_depth=6, min_child_weight=11, n_estimators=30, nthread=4, objective=binary:logistic, seed=7 \n",
            "[CV] learning_rate=0.05, max_depth=6, min_child_weight=11, n_estimators=30, nthread=4, objective=binary:logistic, seed=7 \n",
            "[CV] learning_rate=0.05, max_depth=6, min_child_weight=11, n_estimators=30, nthread=4, objective=binary:logistic, seed=7 \n",
            "[CV] learning_rate=0.05, max_depth=6, min_child_weight=11, n_estimators=30, nthread=4, objective=binary:logistic, seed=7 \n",
            "[CV] learning_rate=0.05, max_depth=6, min_child_weight=11, n_estimators=30, nthread=4, objective=binary:logistic, seed=7 \n"
          ],
          "name": "stdout"
        }
      ]
    },
    {
      "metadata": {
        "id": "-VtbIUPtslJ0",
        "colab_type": "code",
        "colab": {}
      },
      "cell_type": "code",
      "source": [
        ""
      ],
      "execution_count": 0,
      "outputs": []
    }
  ]
}